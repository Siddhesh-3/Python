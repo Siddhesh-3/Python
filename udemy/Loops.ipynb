{
  "nbformat": 4,
  "nbformat_minor": 0,
  "metadata": {
    "colab": {
      "name": "Loops",
      "provenance": [],
      "collapsed_sections": [],
      "authorship_tag": "ABX9TyMlF/FOthvNq5Oe85Ok+n0Q",
      "include_colab_link": true
    },
    "kernelspec": {
      "name": "python3",
      "display_name": "Python 3"
    }
  },
  "cells": [
    {
      "cell_type": "markdown",
      "metadata": {
        "id": "view-in-github",
        "colab_type": "text"
      },
      "source": [
        "<a href=\"https://colab.research.google.com/github/Siddhesh-3/Python/blob/main/udemy/Loops.ipynb\" target=\"_parent\"><img src=\"https://colab.research.google.com/assets/colab-badge.svg\" alt=\"Open In Colab\"/></a>"
      ]
    },
    {
      "cell_type": "code",
      "metadata": {
        "id": "qk9XCOhBLE6k"
      },
      "source": [
        "# ** Control flow **\r\n",
        "#For Loops\r\n",
        "#While Loops\r\n",
        "#Decision control if,else,elif\r\n",
        "#boolean\r\n",
        "\r\n"
      ],
      "execution_count": null,
      "outputs": []
    },
    {
      "cell_type": "code",
      "metadata": {
        "id": "17pfn8m-YxjJ"
      },
      "source": [
        "#syntax of elif\r\n",
        "if[boolean exp]:\r\n",
        "  [statement]\r\n",
        "elif[boolean exp]:\r\n",
        "  [statement]\r\n",
        "elif[boolean exp]:\r\n",
        "  [statement]  \r\n",
        "elif[boolean exp]:\r\n",
        "  [statement]        \r\n",
        "else:\r\n",
        "  [satement]  "
      ],
      "execution_count": null,
      "outputs": []
    },
    {
      "cell_type": "code",
      "metadata": {
        "id": "j-6WPm4saExR"
      },
      "source": [
        "#Iteration - executing the same block of code over and over again.\r\n",
        "#A programing struture implements iteration is called a loop.\r\n",
        "\r\n",
        "#types = 1.indefinite 2.definite\r\n",
        "'''\r\n",
        " indefinite = with indefinite iteration the designnated block is executed repeatedly\r\n",
        "              as long as some condition met.  \r\n",
        " definite = with definite iteration the number of items the designated block will be executed is specifed explicitly at the time the loop starts.\r\n",
        "'''"
      ],
      "execution_count": null,
      "outputs": []
    },
    {
      "cell_type": "code",
      "metadata": {
        "colab": {
          "base_uri": "https://localhost:8080/"
        },
        "id": "jwMf8zo3eL4q",
        "outputId": "4932426e-6289-4833-82cf-1907d06339c5"
      },
      "source": [
        "#ifelse \r\n",
        "#nested \r\n",
        "x= 10\r\n",
        "y = 20\r\n",
        "if x > 5:\r\n",
        "  print(\"first block\")\r\n",
        "  if y > x:\r\n",
        "    print(\"second block\")\r\n",
        "  elif y < x:\r\n",
        "    print(\"second block2\")  "
      ],
      "execution_count": null,
      "outputs": [
        {
          "output_type": "stream",
          "text": [
            "first block\n",
            "second block\n"
          ],
          "name": "stdout"
        }
      ]
    },
    {
      "cell_type": "code",
      "metadata": {
        "colab": {
          "base_uri": "https://localhost:8080/"
        },
        "id": "5POJTySum7a0",
        "outputId": "a43fff65-c3ec-42fd-dc15-a09047d7a0ef"
      },
      "source": [
        "guessed_num = 10\r\n",
        "guessed_num1 = 30\r\n",
        "guessed_num2 = 20\r\n",
        "actual_num = 20\r\n",
        "\r\n",
        "if guessed_num == 10:\r\n",
        "    print(\"Your guess is too low\")\r\n",
        "    if guessed_num1 > 20 :\r\n",
        "       print(\"Your guess is too high\")\r\n",
        "    if guessed_num2 == 20:\r\n",
        "       print(\"Your guess is  correct\")"
      ],
      "execution_count": null,
      "outputs": [
        {
          "output_type": "stream",
          "text": [
            "Your guess is too low\n",
            "Your guess is too high\n",
            "Your guess is  correct\n"
          ],
          "name": "stdout"
        }
      ]
    },
    {
      "cell_type": "code",
      "metadata": {
        "colab": {
          "base_uri": "https://localhost:8080/"
        },
        "id": "-j7ZUyS9i-Y2",
        "outputId": "3b1f67cb-f0be-4ec6-f5f6-f991fa51c6b3"
      },
      "source": [
        "var_1 = 10\r\n",
        "var_2 = 30\r\n",
        "var_3 = 50\r\n",
        "if var_1 > var_2:\r\n",
        "    print(\"If\")\r\n",
        "elif var_3 > var_2 :\r\n",
        "    print(\"First Else If\") #only this executed \r\n",
        "elif var_3 > var_1 :\r\n",
        "    print(\"Second Else If\") #it is also true but Python will execute the first one to be true only."
      ],
      "execution_count": null,
      "outputs": [
        {
          "output_type": "stream",
          "text": [
            "First Else If\n"
          ],
          "name": "stdout"
        }
      ]
    },
    {
      "cell_type": "code",
      "metadata": {
        "colab": {
          "base_uri": "https://localhost:8080/"
        },
        "id": "B4QvjWeTjNyI",
        "outputId": "f1ae69b4-7111-4ec2-957b-db830a6046e9"
      },
      "source": [
        "mylist = [1,2,3,4]\r\n",
        "if 2 in mylist :\r\n",
        "  print(mylist)\r\n",
        "else:\r\n",
        "  print(\"error\")"
      ],
      "execution_count": null,
      "outputs": [
        {
          "output_type": "stream",
          "text": [
            "[1, 2, 3, 4]\n"
          ],
          "name": "stdout"
        }
      ]
    },
    {
      "cell_type": "code",
      "metadata": {
        "colab": {
          "base_uri": "https://localhost:8080/"
        },
        "id": "Zt7tD0rBhHv3",
        "outputId": "112b6a0a-dd7a-4a19-dc73-2af871f8b931"
      },
      "source": [
        "z = 10\r\n",
        "x = 1\r\n",
        "y = 5\r\n",
        "\r\n",
        "if x > y and z > y :  # AND LOGIC F AND T = F\r\n",
        "  print(\"this\")\r\n",
        "elif x > y or z > y : #\r\n",
        "  print(\"that\") \r\n",
        "else : \r\n",
        "  print(\"error\")   "
      ],
      "execution_count": null,
      "outputs": [
        {
          "output_type": "stream",
          "text": [
            "that\n"
          ],
          "name": "stdout"
        }
      ]
    },
    {
      "cell_type": "code",
      "metadata": {
        "colab": {
          "base_uri": "https://localhost:8080/"
        },
        "id": "4ECzoL3QyzgH",
        "outputId": "c28fc0bf-d015-44a6-d8d2-7347fc22abc3"
      },
      "source": [
        "'''\r\n",
        "Imagine that you are scraping data from the web and storing it in a \r\n",
        "Now, every one or two minutes to stop to check if the collected data contains \r\n",
        "three tokens or not.If you found these three tokens, then you will stop your program.\r\n",
        "'''\r\n",
        "web_list = [ \"start\" , 10313 , 1415 , \"afvav\", \"vbagaga\", \"mid\", 3.415, {\"A\":12121}, {\"xava\":11} , 1.21, \"end\"]\r\n",
        "\r\n",
        "if \"start\" in web_list and \"mid\" in web_list and \"end\" in web_list:\r\n",
        "\r\n",
        "    print(\"Found them! Stop the code!\")\r\n",
        "\r\n",
        "else:\r\n",
        "\r\n",
        "    print(\"Not yet. Still searching..\")"
      ],
      "execution_count": null,
      "outputs": [
        {
          "output_type": "stream",
          "text": [
            "Found them! Stop the code!\n"
          ],
          "name": "stdout"
        }
      ]
    },
    {
      "cell_type": "code",
      "metadata": {
        "id": "k-LcoHT41fQl"
      },
      "source": [
        "#For Loop\r\n",
        "#Iterables can be\r\n",
        "'''\r\n",
        "Files\r\n",
        "Dictionary \r\n",
        "List\r\n",
        "Sets \r\n",
        "Tuples\r\n",
        "Strings\r\n",
        "'''"
      ],
      "execution_count": null,
      "outputs": []
    },
    {
      "cell_type": "code",
      "metadata": {
        "colab": {
          "base_uri": "https://localhost:8080/"
        },
        "id": "7XUPdv1r1fyQ",
        "outputId": "8ae813e4-8eff-449e-c61c-cbf035f32ad7"
      },
      "source": [
        "my_list = [1,2,3,4,2.5]\r\n",
        "\r\n",
        "for i in my_list :\r\n",
        "  print(i) "
      ],
      "execution_count": null,
      "outputs": [
        {
          "output_type": "stream",
          "text": [
            "1\n",
            "2\n",
            "3\n",
            "4\n",
            "2.5\n"
          ],
          "name": "stdout"
        }
      ]
    },
    {
      "cell_type": "code",
      "metadata": {
        "colab": {
          "base_uri": "https://localhost:8080/"
        },
        "id": "EMxJuLYu_4qG",
        "outputId": "d96fdad3-809d-4841-d8ab-69f237069380"
      },
      "source": [
        "#Range function\r\n",
        "\r\n",
        "for i in range(1,10,2): #satrt at 1,to 10 ,diff 2\r\n",
        "  print(i)\r\n",
        "print(\"Loop finished\")"
      ],
      "execution_count": null,
      "outputs": [
        {
          "output_type": "stream",
          "text": [
            "1\n",
            "3\n",
            "5\n",
            "7\n",
            "9\n",
            "Loop finished\n"
          ],
          "name": "stdout"
        }
      ]
    },
    {
      "cell_type": "code",
      "metadata": {
        "colab": {
          "base_uri": "https://localhost:8080/"
        },
        "id": "UDQV4SDV_4su",
        "outputId": "2d5574e8-5474-40dd-aeb2-ffaeced904c5"
      },
      "source": [
        "list = [1,2,2,\"sid\",2.5]\r\n",
        "for i in range(1,10,2) :\r\n",
        "  print(i)\r\n",
        "  print(\"Done\")"
      ],
      "execution_count": null,
      "outputs": [
        {
          "output_type": "stream",
          "text": [
            "1\n",
            "Done\n",
            "3\n",
            "Done\n",
            "5\n",
            "Done\n",
            "7\n",
            "Done\n",
            "9\n",
            "Done\n"
          ],
          "name": "stdout"
        }
      ]
    },
    {
      "cell_type": "code",
      "metadata": {
        "colab": {
          "base_uri": "https://localhost:8080/"
        },
        "id": "JHsOp0uo_4vz",
        "outputId": "7e248d75-1740-4286-a1b2-d5898d22061c"
      },
      "source": [
        "#What would be the output of the following code?\r\n",
        "\r\n",
        "dict_quiz = { 1 : 10 , 20 : 5 , 3 : 2 }\r\n",
        "\r\n",
        "for i in dict_quiz:\r\n",
        "\r\n",
        "    print(i)\r\n",
        "print(\"Yes. By default, the dictionary for loop will iterate over the keys and not the values.\")    "
      ],
      "execution_count": null,
      "outputs": [
        {
          "output_type": "stream",
          "text": [
            "1\n",
            "20\n",
            "3\n",
            "Yes. By default, the dictionary for loop will iterate over the keys and not the values.\n"
          ],
          "name": "stdout"
        }
      ]
    },
    {
      "cell_type": "code",
      "metadata": {
        "colab": {
          "base_uri": "https://localhost:8080/"
        },
        "id": "i1zMLsJz_4yu",
        "outputId": "7d906fe8-994d-4e9c-9cd5-541b779d4faf"
      },
      "source": [
        "for i in range(1,10,1):\r\n",
        "    for j in range(1, i+1 , 1): \r\n",
        "        print(j , end = \" \") # end= \" \"  ->used for space and horizontal printing\r\n",
        "    print(\"\")    #print in new line "
      ],
      "execution_count": null,
      "outputs": [
        {
          "output_type": "stream",
          "text": [
            "1 \n",
            "1 2 \n",
            "1 2 3 \n",
            "1 2 3 4 \n",
            "1 2 3 4 5 \n",
            "1 2 3 4 5 6 \n",
            "1 2 3 4 5 6 7 \n",
            "1 2 3 4 5 6 7 8 \n",
            "1 2 3 4 5 6 7 8 9 \n"
          ],
          "name": "stdout"
        }
      ]
    },
    {
      "cell_type": "code",
      "metadata": {
        "colab": {
          "base_uri": "https://localhost:8080/"
        },
        "id": "YZjr9Q36_41y",
        "outputId": "d225cd2c-118d-4027-8598-6e691bf7bc8c"
      },
      "source": [
        "for i in range(1,10,1):\r\n",
        "  for secondloop in range(1 ,i+1 , 1):\r\n",
        "      print(secondloop,end= \" \")\r\n",
        "  print(\"\")\r\n",
        "  "
      ],
      "execution_count": null,
      "outputs": [
        {
          "output_type": "stream",
          "text": [
            "1 \n",
            "1 2 \n",
            "1 2 3 \n",
            "1 2 3 4 \n",
            "1 2 3 4 5 \n",
            "1 2 3 4 5 6 \n",
            "1 2 3 4 5 6 7 \n",
            "1 2 3 4 5 6 7 8 \n",
            "1 2 3 4 5 6 7 8 9 \n"
          ],
          "name": "stdout"
        }
      ]
    },
    {
      "cell_type": "code",
      "metadata": {
        "id": "mNY-Qm8RNoXw"
      },
      "source": [
        "#While loop -\r\n",
        "#execute until loop condition satisfied\r\n"
      ],
      "execution_count": null,
      "outputs": []
    },
    {
      "cell_type": "code",
      "metadata": {
        "colab": {
          "base_uri": "https://localhost:8080/"
        },
        "id": "P8aDrMF1N2fH",
        "outputId": "ec8446b7-0862-4f4c-e86d-143bc723f557"
      },
      "source": [
        "i = 0\r\n",
        "while i <10:\r\n",
        "  print(i)\r\n",
        "  i = i+ 1"
      ],
      "execution_count": null,
      "outputs": [
        {
          "output_type": "stream",
          "text": [
            "0\n",
            "1\n",
            "2\n",
            "3\n",
            "4\n",
            "5\n",
            "6\n",
            "7\n",
            "8\n",
            "9\n"
          ],
          "name": "stdout"
        }
      ]
    },
    {
      "cell_type": "code",
      "metadata": {
        "colab": {
          "base_uri": "https://localhost:8080/"
        },
        "id": "UwzYIpH8ak0I",
        "outputId": "e0bfeaad-4121-4f4f-b6d5-1515b3ce0f41"
      },
      "source": [
        "list = [10,20,30,40,50,60,70]\r\n",
        "result = 0        \r\n",
        "index =  0\r\n",
        "while result < 70:\r\n",
        "  result = result +list[index]\r\n",
        "  index = index + 1\r\n",
        "  print(result)       "
      ],
      "execution_count": null,
      "outputs": [
        {
          "output_type": "stream",
          "text": [
            "10\n",
            "30\n",
            "60\n",
            "100\n"
          ],
          "name": "stdout"
        }
      ]
    },
    {
      "cell_type": "code",
      "metadata": {
        "colab": {
          "base_uri": "https://localhost:8080/"
        },
        "id": "YNtNH3FzdBFL",
        "outputId": "ffb9a358-d3e8-44dd-dc8a-bf08a5c0beb9"
      },
      "source": [
        "num = 0\r\n",
        "while num < 5:\r\n",
        "  num = num + 1\r\n",
        "  print(num)"
      ],
      "execution_count": null,
      "outputs": [
        {
          "output_type": "stream",
          "text": [
            "1\n",
            "2\n",
            "3\n",
            "4\n",
            "5\n"
          ],
          "name": "stdout"
        }
      ]
    }
  ]
}