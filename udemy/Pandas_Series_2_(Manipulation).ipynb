{
  "nbformat": 4,
  "nbformat_minor": 0,
  "metadata": {
    "colab": {
      "name": "Pandas Series 2 (Manipulation)",
      "provenance": [],
      "authorship_tag": "ABX9TyP+sy5JEuLI+9yTs5wdZFFi",
      "include_colab_link": true
    },
    "kernelspec": {
      "name": "python3",
      "display_name": "Python 3"
    }
  },
  "cells": [
    {
      "cell_type": "markdown",
      "metadata": {
        "id": "view-in-github",
        "colab_type": "text"
      },
      "source": [
        "<a href=\"https://colab.research.google.com/github/Siddhesh-3/Python/blob/main/udemy/Pandas_Series_2_(Manipulation).ipynb\" target=\"_parent\"><img src=\"https://colab.research.google.com/assets/colab-badge.svg\" alt=\"Open In Colab\"/></a>"
      ]
    },
    {
      "cell_type": "code",
      "metadata": {
        "colab": {
          "base_uri": "https://localhost:8080/"
        },
        "id": "jywrvZsFKZFp",
        "outputId": "472e1bea-cdfc-48f9-dc50-7f2256e9caa4"
      },
      "source": [
        "import pandas as pd\r\n",
        "\r\n",
        "di = {\"2\" : 1,\"key\" : 5 , \"door\" : \"widows\"}\r\n",
        "\r\n",
        "series_dict = pd.Series(di)\r\n",
        "print(series_dict)"
      ],
      "execution_count": 2,
      "outputs": [
        {
          "output_type": "stream",
          "text": [
            "2            1\n",
            "key          5\n",
            "door    widows\n",
            "dtype: object\n"
          ],
          "name": "stdout"
        }
      ]
    },
    {
      "cell_type": "code",
      "metadata": {
        "colab": {
          "base_uri": "https://localhost:8080/"
        },
        "id": "avGvaNtAL__1",
        "outputId": "77e0b66d-c4d5-48b8-dde4-8bb73de2bab9"
      },
      "source": [
        "#index\r\n",
        "\r\n",
        "print(series_dict[\"key\"]) #index key value\r\n",
        "print(series_dict[1]) #index"
      ],
      "execution_count": 3,
      "outputs": [
        {
          "output_type": "stream",
          "text": [
            "5\n",
            "5\n"
          ],
          "name": "stdout"
        }
      ]
    },
    {
      "cell_type": "code",
      "metadata": {
        "colab": {
          "base_uri": "https://localhost:8080/"
        },
        "id": "DLhk9X7nMMx5",
        "outputId": "f034ebb4-9095-4d01-efcd-fdd8c1e5c6e2"
      },
      "source": [
        "#Mutable\r\n",
        "\r\n",
        "series_dict[\"key\"] = 10\r\n",
        "print(series_dict)\r\n"
      ],
      "execution_count": 4,
      "outputs": [
        {
          "output_type": "stream",
          "text": [
            "2            1\n",
            "key         10\n",
            "door    widows\n",
            "dtype: object\n"
          ],
          "name": "stdout"
        }
      ]
    },
    {
      "cell_type": "code",
      "metadata": {
        "colab": {
          "base_uri": "https://localhost:8080/"
        },
        "id": "HswLJ2_ONI4j",
        "outputId": "fcfa9df0-8424-4743-cd87-5f29a1cbd8cf"
      },
      "source": [
        "#more than one index\r\n",
        "\r\n",
        "print(series_dict[[0,1]]) #print 0 and 1 index location"
      ],
      "execution_count": 5,
      "outputs": [
        {
          "output_type": "stream",
          "text": [
            "2       1\n",
            "key    10\n",
            "dtype: object\n"
          ],
          "name": "stdout"
        }
      ]
    },
    {
      "cell_type": "code",
      "metadata": {
        "colab": {
          "base_uri": "https://localhost:8080/"
        },
        "id": "X1FXrneNNf7L",
        "outputId": "c05a950c-4641-4a52-acb5-4d12f1593fa3"
      },
      "source": [
        "print(series_dict.iloc[0:1]) #print index 0 to 1 but not 1"
      ],
      "execution_count": 8,
      "outputs": [
        {
          "output_type": "stream",
          "text": [
            "2    1\n",
            "dtype: object\n"
          ],
          "name": "stdout"
        }
      ]
    },
    {
      "cell_type": "code",
      "metadata": {
        "colab": {
          "base_uri": "https://localhost:8080/"
        },
        "id": "7Fy0h9f5N12x",
        "outputId": "64e36ce5-6579-4c43-9efa-74311ca494e8"
      },
      "source": [
        "print(series_dict.loc[ \"2\" : \"key\"]) #print key \"2\" and \"key\""
      ],
      "execution_count": 9,
      "outputs": [
        {
          "output_type": "stream",
          "text": [
            "2       1\n",
            "key    10\n",
            "dtype: object\n"
          ],
          "name": "stdout"
        }
      ]
    },
    {
      "cell_type": "code",
      "metadata": {
        "colab": {
          "base_uri": "https://localhost:8080/"
        },
        "id": "z8snPCVCOKbK",
        "outputId": "58fccf04-328c-43b0-fd16-8301d9de401e"
      },
      "source": [
        "#drop element\r\n",
        "\r\n",
        "drop = series_dict.drop(labels= \"2\")\r\n",
        "print(drop)"
      ],
      "execution_count": 11,
      "outputs": [
        {
          "output_type": "stream",
          "text": [
            "key         10\n",
            "door    widows\n",
            "dtype: object\n"
          ],
          "name": "stdout"
        }
      ]
    },
    {
      "cell_type": "code",
      "metadata": {
        "colab": {
          "base_uri": "https://localhost:8080/"
        },
        "id": "wHMY0Jh7Onr_",
        "outputId": "899c2742-222a-421c-d64f-e9011f84f7b7"
      },
      "source": [
        "#inplace\r\n",
        "series_dict.drop(labels= \"2\", inplace = True)\r\n",
        "print(series_dict)"
      ],
      "execution_count": 12,
      "outputs": [
        {
          "output_type": "stream",
          "text": [
            "key         10\n",
            "door    widows\n",
            "dtype: object\n"
          ],
          "name": "stdout"
        }
      ]
    },
    {
      "cell_type": "code",
      "metadata": {
        "colab": {
          "base_uri": "https://localhost:8080/"
        },
        "id": "8HfFQD6xPFQw",
        "outputId": "4118c615-36c1-4bff-f35c-cf9d629da825"
      },
      "source": [
        "#Mathematical Operations\r\n",
        "\r\n",
        "series_1 = pd.Series([ 1 , 5 , 2 ])\r\n",
        "series_2 = pd.Series([ 10 , 3, 5])\r\n",
        "\r\n",
        "#using loop\r\n",
        "\r\n",
        "current_series_add = pd.Series()\r\n",
        "\r\n",
        "for i in range (len(series_1)):\r\n",
        "  current_series_1 ,current_series_2 = series_1[i],series_2[i]\r\n",
        "  current_series = current_series_1 + current_series_2\r\n",
        "  current_series = pd.Series(current_series , index = [i])\r\n",
        "  current_series_add = current_series_add.append(current_series)\r\n",
        "print(current_series_add)  "
      ],
      "execution_count": 15,
      "outputs": [
        {
          "output_type": "stream",
          "text": [
            "0    11\n",
            "1     8\n",
            "2     7\n",
            "dtype: int64\n"
          ],
          "name": "stdout"
        },
        {
          "output_type": "stream",
          "text": [
            "/usr/local/lib/python3.7/dist-packages/ipykernel_launcher.py:8: DeprecationWarning: The default dtype for empty Series will be 'object' instead of 'float64' in a future version. Specify a dtype explicitly to silence this warning.\n",
            "  \n"
          ],
          "name": "stderr"
        }
      ]
    },
    {
      "cell_type": "code",
      "metadata": {
        "colab": {
          "base_uri": "https://localhost:8080/"
        },
        "id": "IDVgpTDURoK3",
        "outputId": "1b5f40fd-085b-4d55-e5cd-6cf876484819"
      },
      "source": [
        "#using pandas\r\n",
        "\r\n",
        "print(series_1.add(series_2))"
      ],
      "execution_count": 16,
      "outputs": [
        {
          "output_type": "stream",
          "text": [
            "0    11\n",
            "1     8\n",
            "2     7\n",
            "dtype: int64\n"
          ],
          "name": "stdout"
        }
      ]
    },
    {
      "cell_type": "code",
      "metadata": {
        "colab": {
          "base_uri": "https://localhost:8080/"
        },
        "id": "lULoYkWcRu6x",
        "outputId": "60b486d3-9505-4a58-f76c-dcebd3ac81fa"
      },
      "source": [
        "print(series_1.sub(series_2))"
      ],
      "execution_count": 17,
      "outputs": [
        {
          "output_type": "stream",
          "text": [
            "0   -9\n",
            "1    2\n",
            "2   -3\n",
            "dtype: int64\n"
          ],
          "name": "stdout"
        }
      ]
    },
    {
      "cell_type": "code",
      "metadata": {
        "colab": {
          "base_uri": "https://localhost:8080/"
        },
        "id": "oSjU72EiRyG1",
        "outputId": "07b8601f-3e7c-47e1-bc38-11b390dbf164"
      },
      "source": [
        "import pandas as pd\r\n",
        "pd_series1 = pd.Series([3, 5, 2, 4, 6])\r\n",
        "pd_series2 = pd.Series([2.4, 7, 3, 5, 11])\r\n",
        "\r\n",
        "## add\r\n",
        "\r\n",
        "pd_add = pd_series1.add(pd_series2)\r\n",
        "print(pd_add)\r\n",
        "## subtract\r\n",
        "\r\n",
        "pd_sub = pd_series1.sub(pd_series2)\r\n",
        "print(pd_sub)\r\n",
        "\r\n",
        "## multiply\r\n",
        "\r\n",
        "pd_mul = pd_series1.mul(pd_series2)\r\n",
        "print(pd_mul)\r\n",
        "## divide\r\n",
        "\r\n",
        "pd_div = pd_series1.div(pd_series2)\r\n",
        "print(pd_div)\r\n"
      ],
      "execution_count": 19,
      "outputs": [
        {
          "output_type": "stream",
          "text": [
            "0     5.4\n",
            "1    12.0\n",
            "2     5.0\n",
            "3     9.0\n",
            "4    17.0\n",
            "dtype: float64\n",
            "0    0.6\n",
            "1   -2.0\n",
            "2   -1.0\n",
            "3   -1.0\n",
            "4   -5.0\n",
            "dtype: float64\n",
            "0     7.2\n",
            "1    35.0\n",
            "2     6.0\n",
            "3    20.0\n",
            "4    66.0\n",
            "dtype: float64\n",
            "0    1.250000\n",
            "1    0.714286\n",
            "2    0.666667\n",
            "3    0.800000\n",
            "4    0.545455\n",
            "dtype: float64\n"
          ],
          "name": "stdout"
        }
      ]
    }
  ]
}