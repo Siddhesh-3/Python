{
  "nbformat": 4,
  "nbformat_minor": 0,
  "metadata": {
    "colab": {
      "name": "Scripting And Libraries",
      "provenance": [],
      "authorship_tag": "ABX9TyOjllTp6wXa2e/TfGMDEKEp",
      "include_colab_link": true
    },
    "kernelspec": {
      "name": "python3",
      "display_name": "Python 3"
    }
  },
  "cells": [
    {
      "cell_type": "markdown",
      "metadata": {
        "id": "view-in-github",
        "colab_type": "text"
      },
      "source": [
        "<a href=\"https://colab.research.google.com/github/Siddhesh-3/Python/blob/main/udemy/Scripting_And_Libraries.ipynb\" target=\"_parent\"><img src=\"https://colab.research.google.com/assets/colab-badge.svg\" alt=\"Open In Colab\"/></a>"
      ]
    },
    {
      "cell_type": "code",
      "metadata": {
        "id": "5BSd3hh-EbGz"
      },
      "source": [
        "#Scripting\r\n",
        "\r\n",
        "#Script is text file with .py extension"
      ],
      "execution_count": null,
      "outputs": []
    },
    {
      "cell_type": "code",
      "metadata": {
        "id": "mPoxRBB1Ugun"
      },
      "source": [
        "#importing\r\n",
        "'''\r\n",
        "\r\n",
        "We use from keyword to import specific functions \r\n",
        "        from library import function1,function2\r\n",
        "\r\n",
        "we can rename a module using as\r\n",
        "        import library as lib\r\n",
        "\r\n",
        " we can combine last two points\r\n",
        "        from library import function1 as f1     "
      ],
      "execution_count": null,
      "outputs": []
    }
  ]
}