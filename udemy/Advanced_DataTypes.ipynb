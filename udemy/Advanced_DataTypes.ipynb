{
  "nbformat": 4,
  "nbformat_minor": 0,
  "metadata": {
    "colab": {
      "name": "Advanced DataTypes",
      "provenance": [],
      "collapsed_sections": [],
      "authorship_tag": "ABX9TyOjawVVFWJI0QdGlb/VdPWP",
      "include_colab_link": true
    },
    "kernelspec": {
      "name": "python3",
      "display_name": "Python 3"
    }
  },
  "cells": [
    {
      "cell_type": "markdown",
      "metadata": {
        "id": "view-in-github",
        "colab_type": "text"
      },
      "source": [
        "<a href=\"https://colab.research.google.com/github/Siddhesh-3/Python/blob/main/udemy/Advanced_DataTypes.ipynb\" target=\"_parent\"><img src=\"https://colab.research.google.com/assets/colab-badge.svg\" alt=\"Open In Colab\"/></a>"
      ]
    },
    {
      "cell_type": "code",
      "metadata": {
        "id": "lfwr3vJWCIKb"
      },
      "source": [
        "#Advance Datatypes\r\n",
        "List\r\n",
        "Tuple\r\n",
        "sets\r\n",
        "Dictionary\r\n",
        "Compound Data Structures"
      ],
      "execution_count": null,
      "outputs": []
    },
    {
      "cell_type": "code",
      "metadata": {
        "colab": {
          "base_uri": "https://localhost:8080/"
        },
        "id": "cKI1EJe4kutC",
        "outputId": "ff65f5d7-7cbe-46be-d4dc-443f42e1528f"
      },
      "source": [
        "#List(mutable)\r\n",
        "\r\n",
        "list = [1,2.5,\"hello\",False]\r\n",
        "print(list)"
      ],
      "execution_count": null,
      "outputs": [
        {
          "output_type": "stream",
          "text": [
            "[1, 2.5, 'hello', False]\n"
          ],
          "name": "stdout"
        }
      ]
    },
    {
      "cell_type": "code",
      "metadata": {
        "id": "1Hd3J-ZCoC0t"
      },
      "source": [
        "#list programe\r\n",
        "list_quiz = [ 100 , 30 , 2 , 15 , -4 , 3 , 40 , -9 , 10]\r\n",
        " \r\n",
        "## Task 1\r\n",
        "last_4 = list_quiz[-4 : ]\r\n",
        "## Task 2 \r\n",
        "max_val = max(list_quiz)\r\n",
        "## Task 3 \r\n",
        "sorted_list = sorted(list_quiz)\r\n",
        "## Task 4\r\n",
        "added_list = list_quiz + sorted_list"
      ],
      "execution_count": null,
      "outputs": []
    },
    {
      "cell_type": "code",
      "metadata": {
        "colab": {
          "base_uri": "https://localhost:8080/"
        },
        "id": "SgWfy2Hgv7w6",
        "outputId": "541b80a6-db6d-464f-d3e0-3084e175834d"
      },
      "source": [
        "#string are immutable\r\n",
        "\r\n",
        "list = [1,2,3]\r\n",
        "list[0] = \"sid\"  #insert at index 0\r\n",
        "print(list)\r\n"
      ],
      "execution_count": null,
      "outputs": [
        {
          "output_type": "stream",
          "text": [
            "['sid', 2, 3]\n"
          ],
          "name": "stdout"
        }
      ]
    },
    {
      "cell_type": "code",
      "metadata": {
        "id": "ckfvogkS2eRK"
      },
      "source": [
        "string1 = \"Hello\"\r\n",
        " #string1[0] = \"A\"  # you cannot change value (immutable)"
      ],
      "execution_count": null,
      "outputs": []
    },
    {
      "cell_type": "code",
      "metadata": {
        "colab": {
          "base_uri": "https://localhost:8080/"
        },
        "id": "AHtG7Txb3Avv",
        "outputId": "c23aeb2a-94ad-4663-9205-a3b84845e649"
      },
      "source": [
        "#Tuples(immutable)\r\n",
        "\r\n",
        "tuple = (1,2,3,4)\r\n",
        "print(tuple)\r\n",
        "#indexing same as list"
      ],
      "execution_count": null,
      "outputs": [
        {
          "output_type": "stream",
          "text": [
            "(1, 2, 3, 4)\n"
          ],
          "name": "stdout"
        },
        {
          "output_type": "execute_result",
          "data": {
            "text/plain": [
              "2"
            ]
          },
          "metadata": {
            "tags": []
          },
          "execution_count": 60
        }
      ]
    },
    {
      "cell_type": "code",
      "metadata": {
        "colab": {
          "base_uri": "https://localhost:8080/",
          "height": 162
        },
        "id": "grzW4MiQ3vk3",
        "outputId": "dec87be7-f4ae-4f81-8e65-cfe876e88e91"
      },
      "source": [
        "# tuple[0] = \"55\" #can't assign bcoz immutable"
      ],
      "execution_count": null,
      "outputs": [
        {
          "output_type": "error",
          "ename": "TypeError",
          "evalue": "ignored",
          "traceback": [
            "\u001b[0;31m---------------------------------------------------------------------------\u001b[0m",
            "\u001b[0;31mTypeError\u001b[0m                                 Traceback (most recent call last)",
            "\u001b[0;32m<ipython-input-18-7940591b4c92>\u001b[0m in \u001b[0;36m<module>\u001b[0;34m()\u001b[0m\n\u001b[0;32m----> 1\u001b[0;31m \u001b[0mtuple\u001b[0m\u001b[0;34m[\u001b[0m\u001b[0;36m0\u001b[0m\u001b[0;34m]\u001b[0m \u001b[0;34m=\u001b[0m \u001b[0;34m\"55\"\u001b[0m\u001b[0;34m\u001b[0m\u001b[0;34m\u001b[0m\u001b[0m\n\u001b[0m",
            "\u001b[0;31mTypeError\u001b[0m: 'tuple' object does not support item assignment"
          ]
        }
      ]
    },
    {
      "cell_type": "code",
      "metadata": {
        "id": "TtZOTzAq39Nf"
      },
      "source": [
        "#ex .count 4 in tuple\r\n",
        "tuple_exer = (1,6,4, 10 , 2 , 100, 4 , \"hi\", 104.2 , 4)\r\n",
        "\r\n",
        "tuple_four_count = tuple_exer.count(4)"
      ],
      "execution_count": null,
      "outputs": []
    },
    {
      "cell_type": "code",
      "metadata": {
        "colab": {
          "base_uri": "https://localhost:8080/"
        },
        "id": "oMUfeB2E5Eqy",
        "outputId": "6025ce84-f892-4559-9856-a6e826fbd016"
      },
      "source": [
        "#Sets(mutable)\r\n",
        "#set can not indexed\r\n",
        "#set doesnt have any order\r\n",
        "\r\n",
        "set = {1,2,3,4}\r\n",
        "print(set)"
      ],
      "execution_count": null,
      "outputs": [
        {
          "output_type": "stream",
          "text": [
            "{1, 2, 3, 4}\n"
          ],
          "name": "stdout"
        }
      ]
    },
    {
      "cell_type": "code",
      "metadata": {
        "colab": {
          "base_uri": "https://localhost:8080/"
        },
        "id": "GSOHXv7a5S1H",
        "outputId": "48608985-15eb-4058-f599-052948552373"
      },
      "source": [
        "set.add(5) #adding in set\r\n",
        "print(set)"
      ],
      "execution_count": null,
      "outputs": [
        {
          "output_type": "stream",
          "text": [
            "{1, 2, 3, 4, 5}\n"
          ],
          "name": "stdout"
        }
      ]
    },
    {
      "cell_type": "code",
      "metadata": {
        "colab": {
          "base_uri": "https://localhost:8080/"
        },
        "id": "5d3IeQZ66c3P",
        "outputId": "5d8ebcff-d48a-438c-a868-8df518c7f6d1"
      },
      "source": [
        "set.pop() #FIFO\r\n",
        "print(set)"
      ],
      "execution_count": null,
      "outputs": [
        {
          "output_type": "stream",
          "text": [
            "{2, 3, 4, 5}\n"
          ],
          "name": "stdout"
        }
      ]
    },
    {
      "cell_type": "code",
      "metadata": {
        "colab": {
          "base_uri": "https://localhost:8080/"
        },
        "id": "5MgoU3Iq6nyG",
        "outputId": "f00fd4ea-6b76-43a2-93c3-3902e597abad"
      },
      "source": [
        "newset = {1, 2.5 , \"s\",1}\r\n",
        "print(set) #only add unique element\r\n",
        "#no Repeated element\r\n",
        "newset.pop() #print deleted element"
      ],
      "execution_count": null,
      "outputs": [
        {
          "output_type": "stream",
          "text": [
            "{2, 3, 4, 5}\n"
          ],
          "name": "stdout"
        },
        {
          "output_type": "execute_result",
          "data": {
            "text/plain": [
              "1"
            ]
          },
          "metadata": {
            "tags": []
          },
          "execution_count": 28
        }
      ]
    },
    {
      "cell_type": "code",
      "metadata": {
        "colab": {
          "base_uri": "https://localhost:8080/"
        },
        "id": "tizu-Alw7LuD",
        "outputId": "8d4653b1-b37d-4e5e-dc8e-fd98e43bba0e"
      },
      "source": [
        "#Dictionary(mutable)\r\n",
        "#Key-Value pair data structure\r\n",
        "#index with key\r\n",
        "\r\n",
        "dict = { 1 : \"siddhesh\",\"sid\" : 4,2.1 : [\"a\",5,2.1]}\r\n",
        "print(dict[1]) #here 1 is key\r\n",
        "print(dict[2.1])"
      ],
      "execution_count": null,
      "outputs": [
        {
          "output_type": "stream",
          "text": [
            "siddhesh\n",
            "['a', 5, 2.1]\n"
          ],
          "name": "stdout"
        }
      ]
    },
    {
      "cell_type": "code",
      "metadata": {
        "colab": {
          "base_uri": "https://localhost:8080/"
        },
        "id": "bKDA2Tex8hPN",
        "outputId": "7c4a11d7-0027-40c1-e7e2-e6bf7dc1abcd"
      },
      "source": [
        "#to check key is exist or not\r\n",
        "print(1 in dict) #check True or False"
      ],
      "execution_count": null,
      "outputs": [
        {
          "output_type": "stream",
          "text": [
            "True\n"
          ],
          "name": "stdout"
        }
      ]
    },
    {
      "cell_type": "code",
      "metadata": {
        "colab": {
          "base_uri": "https://localhost:8080/"
        },
        "id": "1M4Ldhxh84UE",
        "outputId": "8069da89-29f8-48f5-c6ef-445d69e7cceb"
      },
      "source": [
        "print(dict.get(1))"
      ],
      "execution_count": null,
      "outputs": [
        {
          "output_type": "stream",
          "text": [
            "siddhesh\n"
          ],
          "name": "stdout"
        }
      ]
    },
    {
      "cell_type": "code",
      "metadata": {
        "colab": {
          "base_uri": "https://localhost:8080/"
        },
        "id": "AnGEk8pW8KUN",
        "outputId": "109485e6-9031-49aa-809d-2a2173781af4"
      },
      "source": [
        "newdict = { 1 : \"sid\", \"sid\" : 4.2,2 :[\"hello\",2]}\r\n",
        "\r\n",
        "print(newdict[2])"
      ],
      "execution_count": null,
      "outputs": [
        {
          "output_type": "stream",
          "text": [
            "['hello', 2]\n"
          ],
          "name": "stdout"
        }
      ]
    },
    {
      "cell_type": "code",
      "metadata": {
        "colab": {
          "base_uri": "https://localhost:8080/"
        },
        "id": "DNUPsXC_94aO",
        "outputId": "44e80e76-62bf-4126-b32d-2a3e4db268be"
      },
      "source": [
        "#ex\r\n",
        "grocery_items = {}\r\n",
        "grocery_items['Apple'] = 4\r\n",
        "grocery_items['Banana'] = 6\r\n",
        "grocery_items['Cucumber'] = 2\r\n",
        "grocery_items['Pizza'] = 2\r\n",
        "grocery_items['Chocolate'] = 3\r\n",
        "grocery_items[1] = 'siddhesh'\r\n",
        "print(grocery_items)"
      ],
      "execution_count": null,
      "outputs": [
        {
          "output_type": "stream",
          "text": [
            "{'Apple': 4, 'Banana': 6, 'Cucumber': 2, 'Pizza': 2, 'Chocolate': 3, 1: 'siddhesh'}\n"
          ],
          "name": "stdout"
        }
      ]
    },
    {
      "cell_type": "code",
      "metadata": {
        "id": "NIO0-uDH_IyP"
      },
      "source": [
        "#When Use Datatypes\r\n",
        "#list = when do not have special cases and we want our list to be order for\r\n",
        "#tuples = value inside them not changed no matter what\r\n",
        "#dictionaries = when we want to have some sort of relation ben some unique\r\n",
        "                #varibles and non-unique var,we only conserd with key\r\n",
        "#set = when you know any repeated data will be redundant So sets can be very efficient in ignoring redundatnt data and increse performance in algorithum                "
      ],
      "execution_count": null,
      "outputs": []
    },
    {
      "cell_type": "code",
      "metadata": {
        "colab": {
          "base_uri": "https://localhost:8080/",
          "height": 35
        },
        "id": "mF30rbO8A7Cc",
        "outputId": "678328bb-75fa-4fc4-87b2-7e01d80bc4f3"
      },
      "source": [
        "#Compond Data Types\r\n",
        "\r\n",
        "mylist = [ {1 :[\"ahm\",\"ca\",\"bh\"]} ,[2,(3,4,8), 4], \"ahemed\"]\r\n",
        "\r\n",
        "mylist[0][1][0]"
      ],
      "execution_count": null,
      "outputs": [
        {
          "output_type": "execute_result",
          "data": {
            "application/vnd.google.colaboratory.intrinsic+json": {
              "type": "string"
            },
            "text/plain": [
              "'ahm'"
            ]
          },
          "metadata": {
            "tags": []
          },
          "execution_count": 56
        }
      ]
    },
    {
      "cell_type": "code",
      "metadata": {
        "colab": {
          "base_uri": "https://localhost:8080/"
        },
        "id": "b6YfJEDkGPOQ",
        "outputId": "14234a64-211f-49a8-c0db-2b382a35ce7c"
      },
      "source": [
        "mylist[1][1][1]"
      ],
      "execution_count": null,
      "outputs": [
        {
          "output_type": "execute_result",
          "data": {
            "text/plain": [
              "4"
            ]
          },
          "metadata": {
            "tags": []
          },
          "execution_count": 59
        }
      ]
    },
    {
      "cell_type": "code",
      "metadata": {
        "colab": {
          "base_uri": "https://localhost:8080/"
        },
        "id": "zTAAzbzAGYcY",
        "outputId": "44bf32ca-1a09-4b81-9859-9aa27197e363"
      },
      "source": [
        "sid =\"\"\r\n",
        "so = \"fu\"\r\n",
        "\r\n",
        "type(sid)"
      ],
      "execution_count": null,
      "outputs": [
        {
          "output_type": "execute_result",
          "data": {
            "text/plain": [
              "str"
            ]
          },
          "metadata": {
            "tags": []
          },
          "execution_count": 67
        }
      ]
    }
  ]
}