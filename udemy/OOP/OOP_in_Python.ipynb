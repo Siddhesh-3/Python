{
  "nbformat": 4,
  "nbformat_minor": 0,
  "metadata": {
    "colab": {
      "name": "OOP in Python",
      "provenance": [],
      "authorship_tag": "ABX9TyNsscAQFNpccZS2DpCiquKy",
      "include_colab_link": true
    },
    "kernelspec": {
      "name": "python3",
      "display_name": "Python 3"
    }
  },
  "cells": [
    {
      "cell_type": "markdown",
      "metadata": {
        "id": "view-in-github",
        "colab_type": "text"
      },
      "source": [
        "<a href=\"https://colab.research.google.com/github/Siddhesh-3/Python/blob/main/udemy/OOP/OOP_in_Python.ipynb\" target=\"_parent\"><img src=\"https://colab.research.google.com/assets/colab-badge.svg\" alt=\"Open In Colab\"/></a>"
      ]
    },
    {
      "cell_type": "code",
      "metadata": {
        "id": "BeR3UMVJW9Lh"
      },
      "source": [
        "#class\r\n",
        "\r\n",
        "#i.g\r\n",
        "'''\r\n",
        "Classes : blueprint of object .A template.for ex a dog class\r\n",
        "\r\n",
        "Objet : actual entity we interact with .for ex 2years ,black,german dog\r\n",
        "\r\n",
        "Attribute : The object characteristics for ex. length age etc ..\r\n",
        "\r\n",
        "Method : The actions that the object can do.for ex .flying , eating ,running etc"
      ],
      "execution_count": null,
      "outputs": []
    },
    {
      "cell_type": "code",
      "metadata": {
        "id": "X3BXJPaGbgxU"
      },
      "source": [
        "#self\r\n",
        "\r\n",
        "#when you initilaize two or more object in a sameclass,Python need a way to diffrentiate between them !\r\n",
        "#self is the way to do so\r\n",
        "\r\n",
        "#self is a pointer to the memory address where each object of the class is stored"
      ],
      "execution_count": null,
      "outputs": []
    },
    {
      "cell_type": "code",
      "metadata": {
        "id": "pRGAQZnPcJBg"
      },
      "source": [
        "#class keyword\r\n",
        "\r\n",
        "#define class using class keyword\r\n",
        "class CapitalName #first and mid later capital\r\n",
        "\r\n",
        "#INIT\r\n",
        "\r\n",
        "#this method store the initial values for all the instance attribute\r\n",
        "\r\n",
        "#it must be created like this  : __init__()\r\n",
        "\r\n",
        "#the first argument must be self\r\n",
        "\r\n",
        "#The attributes are accessed using the dot"
      ],
      "execution_count": null,
      "outputs": []
    },
    {
      "cell_type": "code",
      "metadata": {
        "id": "g_ZrNibCdHwJ"
      },
      "source": [
        "#ex\r\n",
        "\r\n",
        "class Car:\r\n",
        "  def __init__(self,color,year,model):\r\n",
        "    self.color = color\r\n",
        "    self.year = year\r\n",
        "    self.model = model"
      ],
      "execution_count": 6,
      "outputs": []
    },
    {
      "cell_type": "code",
      "metadata": {
        "id": "ywoASc5NeH5a"
      },
      "source": [
        "# Class vs Instance Attributes\r\n",
        "\r\n",
        "#The attributes inside the init method are specific for the instance .Called instance attributes\r\n",
        "\r\n",
        "#Attribute that share betn all instaces are called class attribute and defined outside init method\r\n",
        "\r\n",
        "class Car:\r\n",
        "  def __init__(self,color,year,model): #instance attribute\r\n",
        "    self.color = color\r\n",
        "    self.year = year\r\n",
        "    self.model = model\r\n",
        "  number_of_wheels = 4 #class attribute  "
      ],
      "execution_count": null,
      "outputs": []
    },
    {
      "cell_type": "code",
      "metadata": {
        "id": "_UM_VSE1e4Jk"
      },
      "source": [
        "#Diff bet function and method\r\n",
        "\r\n",
        "#function created outside the class\r\n",
        "#method created inside the class"
      ],
      "execution_count": null,
      "outputs": []
    },
    {
      "cell_type": "code",
      "metadata": {
        "colab": {
          "base_uri": "https://localhost:8080/"
        },
        "id": "_gaWDKRakO8Z",
        "outputId": "14270be8-8411-46f9-c346-cf79fafdfe7e"
      },
      "source": [
        "class Car:\r\n",
        "  def __init__(self , model ,year ,price):\r\n",
        "    self.model = model\r\n",
        "    self.year = year\r\n",
        "    self.price = price\r\n",
        "  number_of_wheels = 4\r\n",
        "\r\n",
        "car_1 = Car('Nissan' , 2014 , 10000)\r\n",
        "car_2 = Car('BMW' , 2009 , 20000)\r\n",
        "car_3 = Car('Nissan' , 2014 , 10000)\r\n",
        "\r\n",
        "print(car_1.model)\r\n",
        "print(car_2.year)\r\n",
        "\r\n",
        "print(car_1 == car_3) #False because self store the object in diffrent memory locationss"
      ],
      "execution_count": 11,
      "outputs": [
        {
          "output_type": "stream",
          "text": [
            "Nissan\n",
            "2009\n",
            "False\n"
          ],
          "name": "stdout"
        }
      ]
    },
    {
      "cell_type": "code",
      "metadata": {
        "colab": {
          "base_uri": "https://localhost:8080/"
        },
        "id": "nEH1uk4IlYfl",
        "outputId": "53d3515d-0328-46a6-858a-eff27a18d1b2"
      },
      "source": [
        "#Modify Class Attribute\r\n",
        "\r\n",
        "#In order to keep the attribute private from the user we use getters and setters method\r\n",
        "\r\n",
        "#the object attribute start with __\r\n",
        "#no access to attribute\r\n",
        "\r\n",
        "\r\n",
        "\r\n",
        "class Car:\r\n",
        "  def __init__(self,color,year,model):\r\n",
        "    self.color = color\r\n",
        "    self.year = year\r\n",
        "    self.model = model \r\n",
        "  #setter\r\n",
        "  def setmodel(self, model):\r\n",
        "    self.__model = model\r\n",
        "  #getter\r\n",
        "  def getmodel(self):\r\n",
        "    return self.__model \r\n",
        "\r\n",
        "  model = property(getmodel , setmodel) #pythonic may\r\n",
        "  number_of_wheels = 4\r\n",
        "\r\n",
        "car1 = Car('BMW',2000,10000)\r\n",
        "'''\r\n",
        "#without data hiding\r\n",
        "car1.model = \"AAA\"\r\n",
        "print(car1.model)\r\n",
        "'''\r\n",
        "'''\r\n",
        "#\r\n",
        "print(car1.setmodel(\"HONDA\"))\r\n",
        "print(car1.getmodel())\r\n",
        "'''\r\n",
        "#pythonic way to do this without set and get\r\n",
        "\r\n",
        "car1.model = \"Honda\"\r\n",
        "print(car1.model)\r\n",
        "print(car1.year)\r\n",
        "\r\n"
      ],
      "execution_count": 18,
      "outputs": [
        {
          "output_type": "stream",
          "text": [
            "Honda\n",
            "2000\n"
          ],
          "name": "stdout"
        }
      ]
    }
  ]
}