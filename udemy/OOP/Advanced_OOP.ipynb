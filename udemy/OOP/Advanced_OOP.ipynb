{
  "nbformat": 4,
  "nbformat_minor": 0,
  "metadata": {
    "colab": {
      "name": "Advanced OOP",
      "provenance": [],
      "authorship_tag": "ABX9TyO8/atmutNsW6tMM2Tn3uTX",
      "include_colab_link": true
    },
    "kernelspec": {
      "name": "python3",
      "display_name": "Python 3"
    }
  },
  "cells": [
    {
      "cell_type": "markdown",
      "metadata": {
        "id": "view-in-github",
        "colab_type": "text"
      },
      "source": [
        "<a href=\"https://colab.research.google.com/github/Siddhesh-3/Python/blob/main/udemy/OOP/Advanced_OOP.ipynb\" target=\"_parent\"><img src=\"https://colab.research.google.com/assets/colab-badge.svg\" alt=\"Open In Colab\"/></a>"
      ]
    },
    {
      "cell_type": "code",
      "metadata": {
        "colab": {
          "base_uri": "https://localhost:8080/"
        },
        "id": "YaQKRLuQqHWU",
        "outputId": "bf6f2183-c1ca-4ef6-f0e2-7a4c57284277"
      },
      "source": [
        "#Inner Functions\r\n",
        "\r\n",
        "def outer_fun():\r\n",
        "  print(\"Hello Outer Function\")\r\n",
        "\r\n",
        "  def inner_fun():\r\n",
        "    print(\"Hello from the inner function!\")\r\n",
        "\r\n",
        "  inner_fun()\r\n",
        "\r\n",
        "outer_fun()"
      ],
      "execution_count": 1,
      "outputs": [
        {
          "output_type": "stream",
          "text": [
            "Hello Outer Function\n",
            "Hello from the inner function!\n"
          ],
          "name": "stdout"
        }
      ]
    },
    {
      "cell_type": "code",
      "metadata": {
        "id": "BOJSnVybrsAB"
      },
      "source": [
        "#Return inner function"
      ],
      "execution_count": null,
      "outputs": []
    }
  ]
}