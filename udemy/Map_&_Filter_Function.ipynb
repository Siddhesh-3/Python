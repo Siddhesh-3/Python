{
  "nbformat": 4,
  "nbformat_minor": 0,
  "metadata": {
    "colab": {
      "name": "Map & Filter Function",
      "provenance": [],
      "collapsed_sections": [],
      "authorship_tag": "ABX9TyPUI8TKQZ6hmo5YVVpWbjHv",
      "include_colab_link": true
    },
    "kernelspec": {
      "name": "python3",
      "display_name": "Python 3"
    }
  },
  "cells": [
    {
      "cell_type": "markdown",
      "metadata": {
        "id": "view-in-github",
        "colab_type": "text"
      },
      "source": [
        "<a href=\"https://colab.research.google.com/github/Siddhesh-3/Python/blob/main/udemy/Map_%26_Filter_Function.ipynb\" target=\"_parent\"><img src=\"https://colab.research.google.com/assets/colab-badge.svg\" alt=\"Open In Colab\"/></a>"
      ]
    },
    {
      "cell_type": "code",
      "metadata": {
        "id": "oVzTIH754iO7"
      },
      "source": [
        "########################### MAP FUNCTION ##########################"
      ],
      "execution_count": null,
      "outputs": []
    },
    {
      "cell_type": "code",
      "metadata": {
        "id": "K1qAEFaR4kAp"
      },
      "source": [
        "def add_l(list):\r\n",
        "  output_list = []\r\n",
        "  for i in list:\r\n",
        "    i = i +5\r\n",
        "    output_list.append(i)\r\n",
        "  return output_list"
      ],
      "execution_count": null,
      "outputs": []
    },
    {
      "cell_type": "code",
      "metadata": {
        "colab": {
          "base_uri": "https://localhost:8080/"
        },
        "id": "8K4o_9Kg4nMK",
        "outputId": "95cc82f3-3053-477d-965a-783a2ac311b8"
      },
      "source": [
        "list_my = [11,5,8,4]\r\n",
        "add_l(list_my)"
      ],
      "execution_count": null,
      "outputs": [
        {
          "output_type": "execute_result",
          "data": {
            "text/plain": [
              "[16, 10, 13, 9]"
            ]
          },
          "metadata": {
            "tags": []
          },
          "execution_count": 3
        }
      ]
    },
    {
      "cell_type": "code",
      "metadata": {
        "id": "_MZBf6bn4YOh"
      },
      "source": [
        "#using map\r\n",
        "def add(element):\r\n",
        "  return element + 5\r\n",
        "output = map(add , list_my)"
      ],
      "execution_count": null,
      "outputs": []
    },
    {
      "cell_type": "code",
      "metadata": {
        "colab": {
          "base_uri": "https://localhost:8080/"
        },
        "id": "b9DMyArD4e4q",
        "outputId": "0b5b8d50-d788-4847-88d5-13525c25ece1"
      },
      "source": [
        "next(output)"
      ],
      "execution_count": null,
      "outputs": [
        {
          "output_type": "execute_result",
          "data": {
            "text/plain": [
              "16"
            ]
          },
          "metadata": {
            "tags": []
          },
          "execution_count": 5
        }
      ]
    },
    {
      "cell_type": "code",
      "metadata": {
        "id": "V_M0SfIu4rKZ"
      },
      "source": [
        "output = map(lambda element : element + 5 ,list_my)"
      ],
      "execution_count": null,
      "outputs": []
    },
    {
      "cell_type": "code",
      "metadata": {
        "id": "_zT-Jt-44xVh"
      },
      "source": [
        "list_n = [11,5,8,4]\r\n",
        "float_conv =map(float , list_n)\r\n"
      ],
      "execution_count": null,
      "outputs": []
    },
    {
      "cell_type": "code",
      "metadata": {
        "id": "l93Xk4ZT0B7w"
      },
      "source": [
        "a = (list(float_conv))"
      ],
      "execution_count": null,
      "outputs": []
    },
    {
      "cell_type": "code",
      "metadata": {
        "colab": {
          "base_uri": "https://localhost:8080/"
        },
        "id": "INLkxNUc5Gmb",
        "outputId": "859fdcb8-a336-4a98-b078-4173e946d44a"
      },
      "source": [
        "print(a)"
      ],
      "execution_count": null,
      "outputs": [
        {
          "output_type": "stream",
          "text": [
            "[11.0, 5.0, 8.0, 4.0]\n"
          ],
          "name": "stdout"
        }
      ]
    },
    {
      "cell_type": "code",
      "metadata": {
        "colab": {
          "base_uri": "https://localhost:8080/"
        },
        "id": "WNUgGMqu5Nua",
        "outputId": "0baae038-68da-49a3-ce1a-891f359cadf7"
      },
      "source": [
        "pow(2,3) #power"
      ],
      "execution_count": null,
      "outputs": [
        {
          "output_type": "execute_result",
          "data": {
            "text/plain": [
              "8"
            ]
          },
          "metadata": {
            "tags": []
          },
          "execution_count": 15
        }
      ]
    },
    {
      "cell_type": "code",
      "metadata": {
        "colab": {
          "base_uri": "https://localhost:8080/"
        },
        "id": "53BTtfwu5R6x",
        "outputId": "99ebcd88-73c2-4611-8624-b37aaca8990e"
      },
      "source": [
        "my_list = [5,1,20]\r\n",
        "pow_list = [2,3,2]\r\n",
        "\r\n",
        "list( map(pow ,my_list , pow_list)) #map"
      ],
      "execution_count": null,
      "outputs": [
        {
          "output_type": "execute_result",
          "data": {
            "text/plain": [
              "[25, 1, 400]"
            ]
          },
          "metadata": {
            "tags": []
          },
          "execution_count": 16
        }
      ]
    },
    {
      "cell_type": "code",
      "metadata": {
        "id": "Xq4l_pnk5kQB"
      },
      "source": [
        "def add_tog(x,y):\r\n",
        "  return x+y"
      ],
      "execution_count": null,
      "outputs": []
    },
    {
      "cell_type": "code",
      "metadata": {
        "colab": {
          "base_uri": "https://localhost:8080/"
        },
        "id": "bdi0pB2o5uC7",
        "outputId": "13e57fad-e4e7-4f95-c05d-27fa3d1f4dcb"
      },
      "source": [
        "list( map(add_tog ,my_list,pow_list)) #map"
      ],
      "execution_count": null,
      "outputs": [
        {
          "output_type": "execute_result",
          "data": {
            "text/plain": [
              "[7, 4, 22]"
            ]
          },
          "metadata": {
            "tags": []
          },
          "execution_count": 18
        }
      ]
    },
    {
      "cell_type": "code",
      "metadata": {
        "colab": {
          "base_uri": "https://localhost:8080/"
        },
        "id": "DMTDk43K55Py",
        "outputId": "0f93b50a-49dc-4eb4-c6ab-75972100aaf1"
      },
      "source": [
        "\r\n",
        "input_list = ['What we think, we become.', 'Every moment is a fresh beginning.', 'Change the world by being yourself.',\r\n",
        "             'Hate comes from intimidation, love comes from appreciation', 'If I’m gonna tell a real story, I’m gonna start with my name.', 'Oh, the things you can find, if you don’t stay behind.']\r\n",
        "\r\n",
        "\r\n",
        "mapped_list = list(map(lambda x: x.count(\"n\"), input_list))\r\n",
        "print(mapped_list)"
      ],
      "execution_count": null,
      "outputs": [
        {
          "output_type": "stream",
          "text": [
            "[1, 4, 2, 3, 5, 5]\n"
          ],
          "name": "stdout"
        }
      ]
    },
    {
      "cell_type": "code",
      "metadata": {
        "id": "WneL4XNn7iLh"
      },
      "source": [
        "#Filter Function\r\n",
        "\r\n",
        "def pass_grades(grade_list):\r\n",
        "  pass_grade_list = []\r\n",
        "  for grade in grade_list:\r\n",
        "    if grade > 50 :\r\n",
        "      pass_grade_list.append(grade)\r\n",
        "  return pass_grade_list      \r\n"
      ],
      "execution_count": null,
      "outputs": []
    },
    {
      "cell_type": "code",
      "metadata": {
        "id": "TmurV88-9dbr"
      },
      "source": [
        "grade_list = [45,70,80,15,56]"
      ],
      "execution_count": null,
      "outputs": []
    },
    {
      "cell_type": "code",
      "metadata": {
        "colab": {
          "base_uri": "https://localhost:8080/"
        },
        "id": "5ziOUdVg9jIO",
        "outputId": "2fe14455-210f-4e01-a430-d0041e109f00"
      },
      "source": [
        "pass_grades(grade_list)"
      ],
      "execution_count": null,
      "outputs": [
        {
          "output_type": "execute_result",
          "data": {
            "text/plain": [
              "[70, 80, 56]"
            ]
          },
          "metadata": {
            "tags": []
          },
          "execution_count": 26
        }
      ]
    },
    {
      "cell_type": "code",
      "metadata": {
        "id": "IUPylkh3-OIw"
      },
      "source": [
        "#above using filter\r\n",
        "\r\n",
        "def pass_grade(grade):\r\n",
        "  return grade > 50"
      ],
      "execution_count": null,
      "outputs": []
    },
    {
      "cell_type": "code",
      "metadata": {
        "colab": {
          "base_uri": "https://localhost:8080/",
          "height": 162
        },
        "id": "KX5VJay5-jn1",
        "outputId": "726b3940-ab2e-4fea-ae22-d7f789d015a8"
      },
      "source": [
        "pass_grade = list(filter(pass_grade, grade_list))"
      ],
      "execution_count": null,
      "outputs": [
        {
          "output_type": "error",
          "ename": "TypeError",
          "evalue": "ignored",
          "traceback": [
            "\u001b[0;31m---------------------------------------------------------------------------\u001b[0m",
            "\u001b[0;31mTypeError\u001b[0m                                 Traceback (most recent call last)",
            "\u001b[0;32m<ipython-input-42-f066f8e5e20d>\u001b[0m in \u001b[0;36m<module>\u001b[0;34m()\u001b[0m\n\u001b[0;32m----> 1\u001b[0;31m \u001b[0mpass_grade\u001b[0m \u001b[0;34m=\u001b[0m \u001b[0mlist\u001b[0m\u001b[0;34m(\u001b[0m\u001b[0mfilter\u001b[0m\u001b[0;34m(\u001b[0m\u001b[0mpass_grade\u001b[0m\u001b[0;34m,\u001b[0m \u001b[0mgrade_list\u001b[0m\u001b[0;34m)\u001b[0m\u001b[0;34m)\u001b[0m\u001b[0;34m\u001b[0m\u001b[0;34m\u001b[0m\u001b[0m\n\u001b[0m",
            "\u001b[0;31mTypeError\u001b[0m: 'list' object is not callable"
          ]
        }
      ]
    },
    {
      "cell_type": "code",
      "metadata": {
        "colab": {
          "base_uri": "https://localhost:8080/"
        },
        "id": "ONOFtuwp-u96",
        "outputId": "737afe75-b017-4593-b0e4-f652d1328998"
      },
      "source": [
        "print(pass_grade)"
      ],
      "execution_count": null,
      "outputs": [
        {
          "output_type": "stream",
          "text": [
            "[70, 80, 56]\n"
          ],
          "name": "stdout"
        }
      ]
    },
    {
      "cell_type": "code",
      "metadata": {
        "colab": {
          "base_uri": "https://localhost:8080/"
        },
        "id": "8QsdQFDG_7uO",
        "outputId": "d272ca85-3547-4726-b810-77056407ac3a"
      },
      "source": [
        "# code in one line\r\n",
        "pass_grade = list(filter(lambda grade : grade > 50, grade_list))  \r\n",
        "print(pass_grade)"
      ],
      "execution_count": null,
      "outputs": [
        {
          "output_type": "stream",
          "text": [
            "[70, 80, 56]\n"
          ],
          "name": "stdout"
        }
      ]
    },
    {
      "cell_type": "code",
      "metadata": {
        "colab": {
          "base_uri": "https://localhost:8080/"
        },
        "id": "aTteq6G8A1bW",
        "outputId": "2e54f4b5-f144-4b26-d57c-1b142f9aaaaf"
      },
      "source": [
        "#exercise\r\n",
        "grades = [ 92 , 80 , 97, 65 , 85 , 91]\r\n",
        "def A_students(grad):\r\n",
        "    return grad > 90\r\n",
        " \r\n",
        "A_grades = list(filter(A_students, grades))\r\n",
        "print(A_grades)"
      ],
      "execution_count": null,
      "outputs": [
        {
          "output_type": "stream",
          "text": [
            "[92, 97, 91]\n"
          ],
          "name": "stdout"
        }
      ]
    },
    {
      "cell_type": "code",
      "metadata": {
        "colab": {
          "base_uri": "https://localhost:8080/"
        },
        "id": "U9eLTa96Bu5g",
        "outputId": "c0cb792e-55fc-439e-aa2b-cc21ca463c41"
      },
      "source": [
        "list_quiz = [ 120 , 31 , 19 , 28 , 512 , 957 , 6321 ]\r\n",
        "\r\n",
        "list_even = list(filter(lambda num : num % 2 == 0,list_quiz))\r\n",
        "print(list_even)"
      ],
      "execution_count": null,
      "outputs": [
        {
          "output_type": "stream",
          "text": [
            "[120, 28, 512]\n"
          ],
          "name": "stdout"
        }
      ]
    }
  ]
}