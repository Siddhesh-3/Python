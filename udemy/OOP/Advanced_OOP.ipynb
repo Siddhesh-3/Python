{
  "nbformat": 4,
  "nbformat_minor": 0,
  "metadata": {
    "colab": {
      "name": "Advanced OOP",
      "provenance": [],
      "authorship_tag": "ABX9TyPSjUpl+8BsXGRw1kyftnD3",
      "include_colab_link": true
    },
    "kernelspec": {
      "name": "python3",
      "display_name": "Python 3"
    }
  },
  "cells": [
    {
      "cell_type": "markdown",
      "metadata": {
        "id": "view-in-github",
        "colab_type": "text"
      },
      "source": [
        "<a href=\"https://colab.research.google.com/github/Siddhesh-3/Python/blob/main/udemy/OOP/Advanced_OOP.ipynb\" target=\"_parent\"><img src=\"https://colab.research.google.com/assets/colab-badge.svg\" alt=\"Open In Colab\"/></a>"
      ]
    },
    {
      "cell_type": "code",
      "metadata": {
        "colab": {
          "base_uri": "https://localhost:8080/"
        },
        "id": "YaQKRLuQqHWU",
        "outputId": "bf6f2183-c1ca-4ef6-f0e2-7a4c57284277"
      },
      "source": [
        "#Inner Functions\r\n",
        "\r\n",
        "def outer_fun():\r\n",
        "  print(\"Hello Outer Function\")\r\n",
        "\r\n",
        "  def inner_fun():\r\n",
        "    print(\"Hello from the inner function!\")\r\n",
        "\r\n",
        "  inner_fun()\r\n",
        "\r\n",
        "outer_fun()"
      ],
      "execution_count": null,
      "outputs": [
        {
          "output_type": "stream",
          "text": [
            "Hello Outer Function\n",
            "Hello from the inner function!\n"
          ],
          "name": "stdout"
        }
      ]
    },
    {
      "cell_type": "code",
      "metadata": {
        "id": "BOJSnVybrsAB",
        "colab": {
          "base_uri": "https://localhost:8080/"
        },
        "outputId": "a2a8919e-f2a7-4a07-c92e-b8313762e4ee"
      },
      "source": [
        "#Return inner function\r\n",
        "\r\n",
        "def outer_fun(x):\r\n",
        "  print(\"Outer Function\")\r\n",
        "\r\n",
        "  def first_inner_fun():\r\n",
        "    print(\"First Inner function\")\r\n",
        "  \r\n",
        "  def second_inner_fun():\r\n",
        "    print(\"Second Inner Function\")\r\n",
        "\r\n",
        "  if x == 1 :\r\n",
        "    return first_inner_fun\r\n",
        "  else :\r\n",
        "    return second_inner_fun\r\n",
        "\r\n",
        "x = outer_fun(1)\r\n",
        "\r\n",
        "#print(x)\r\n",
        "\r\n",
        "print(x()) #print inner function vslues invoke"
      ],
      "execution_count": 4,
      "outputs": [
        {
          "output_type": "stream",
          "text": [
            "Outer Function\n",
            "First Inner function\n",
            "None\n"
          ],
          "name": "stdout"
        }
      ]
    },
    {
      "cell_type": "code",
      "metadata": {
        "colab": {
          "base_uri": "https://localhost:8080/"
        },
        "id": "hzhqenJ3c3P3",
        "outputId": "8a2114b9-6123-45dc-bc59-84da8175788f"
      },
      "source": [
        " #Decorators\r\n",
        " # : take other function as input\r\n",
        " #they wrap a function and modify its functionality\r\n",
        "\r\n",
        " #it almost same as the inner function\r\n",
        "\r\n",
        " def decorator_fun(inner_fun):\r\n",
        "   def wrapper_fun():\r\n",
        "     print(\"This will be printed first\")\r\n",
        "     inner_fun() #here print magic function\r\n",
        "     print(\"This will printed last\")\r\n",
        "   return wrapper_fun\r\n",
        "\r\n",
        "def magic_print():\r\n",
        "  print(\"This is MAGICAL\")\r\n",
        "\r\n",
        "magic = decorator_fun(magic_print)\r\n",
        "\r\n",
        "print(magic) #print memory address\r\n",
        "\r\n",
        "print(magic())\r\n"
      ],
      "execution_count": 5,
      "outputs": [
        {
          "output_type": "stream",
          "text": [
            "<function decorator_fun.<locals>.wrapper_fun at 0x7f6eca3f7290>\n",
            "This will be printed first\n",
            "This is MAGICAL\n",
            "This will printed last\n",
            "None\n"
          ],
          "name": "stdout"
        }
      ]
    },
    {
      "cell_type": "code",
      "metadata": {
        "colab": {
          "base_uri": "https://localhost:8080/"
        },
        "id": "eJ0KftIpe4Lz",
        "outputId": "c65939db-aaef-417f-c3a0-80603785bbd1"
      },
      "source": [
        "#Problem with our code is that it looks unnecssarily messy .especially with the functions pointer call\r\n",
        "\r\n",
        "#solution is to use @ symbol to wrap the function we want.\r\n",
        "\r\n",
        "#PIE SYNTAX @ SYMBOL\r\n",
        "\r\n",
        "def decorator_fun(inner_fun):\r\n",
        "   def wrapper_fun():\r\n",
        "     print(\"This will be printed first\")\r\n",
        "     inner_fun() #here print magic function\r\n",
        "     print(\"This will printed last\")\r\n",
        "   return wrapper_fun\r\n",
        "\r\n",
        "@decorator_fun\r\n",
        "def magic_print():\r\n",
        "  print(\"This is MAGICAL\")\r\n",
        "\r\n",
        "print(magic_print())\r\n",
        "                      #####same code but we use @ here copareboth code\r\n",
        "#reuse\r\n",
        "\r\n",
        "@decorator_fun\r\n",
        "\r\n",
        "def new_fun():\r\n",
        "  print(\"reuse\")\r\n",
        "\r\n",
        "x = new_fun()\r\n",
        "print(x,\"\\n\")"
      ],
      "execution_count": 11,
      "outputs": [
        {
          "output_type": "stream",
          "text": [
            "This will be printed first\n",
            "This is MAGICAL\n",
            "This will printed last\n",
            "None\n",
            "This will be printed first\n",
            "reuse\n",
            "This will printed last\n",
            "None \n",
            "\n"
          ],
          "name": "stdout"
        }
      ]
    },
    {
      "cell_type": "code",
      "metadata": {
        "id": "3cSE29Pngbns"
      },
      "source": [
        "##DIFFRENT CLASS DECORATORS\r\n",
        "\r\n",
        "1. @property\r\n",
        "2. classmethod\r\n",
        "3. staticmethod\r\n"
      ],
      "execution_count": null,
      "outputs": []
    },
    {
      "cell_type": "code",
      "metadata": {
        "colab": {
          "base_uri": "https://localhost:8080/"
        },
        "id": "PjcwyJ3WlRKJ",
        "outputId": "023c0b17-0d72-44cb-c8d1-3ad271fe1d74"
      },
      "source": [
        "#1.@PROPERTY\r\n",
        "\r\n",
        "class Car:\r\n",
        "  def __init__(self,model):\r\n",
        "    self.__model = model  #__model private attribute\r\n",
        "\r\n",
        "  @property\r\n",
        "  def x(self):\r\n",
        "    return self.__model\r\n",
        "\r\n",
        "  @x.setter\r\n",
        "  def model_n(self,model):\r\n",
        "    self._model = model\r\n",
        "\r\n",
        "car1 = Car(\"BMW\")\r\n",
        "\r\n",
        "print(car1.x)\r\n"
      ],
      "execution_count": 16,
      "outputs": [
        {
          "output_type": "stream",
          "text": [
            "BMW\n"
          ],
          "name": "stdout"
        }
      ]
    },
    {
      "cell_type": "code",
      "metadata": {
        "colab": {
          "base_uri": "https://localhost:8080/"
        },
        "id": "KWzd7-wbnZYZ",
        "outputId": "caea5a05-cb5f-41d8-be3b-a0115be58c1e"
      },
      "source": [
        "#2.classmethod decorator\r\n",
        "\r\n",
        "# take input Class itself\r\n",
        "\r\n",
        "class Car:\r\n",
        "  cars_count = 0\r\n",
        "  def __init__(self,model):\r\n",
        "    self.__model = model  #__model private attribute\r\n",
        "    Car.cars_count = Car.cars_count + 1\r\n",
        "  @property\r\n",
        "  def x(self):\r\n",
        "    return self.__model\r\n",
        "\r\n",
        "  @x.setter\r\n",
        "  def model_n(self,model):\r\n",
        "    self._model = model\r\n",
        "\r\n",
        "  @classmethod\r\n",
        "  def countcars(car_class):\r\n",
        "    print(\"We have :\",car_class.cars_count,\"cars\")\r\n",
        "\r\n",
        "car1 = Car(\"BMW\")\r\n",
        "car1.countcars()\r\n",
        "\r\n",
        "car1.model = \"kea\" #setter\r\n",
        "print(car1.model)\r\n",
        "\r\n",
        "car2 = Car(\"Honda\")\r\n",
        "Car.countcars()\r\n"
      ],
      "execution_count": 27,
      "outputs": [
        {
          "output_type": "stream",
          "text": [
            "We have : 1 cars\n",
            "kea\n",
            "We have : 2 cars\n"
          ],
          "name": "stdout"
        }
      ]
    },
    {
      "cell_type": "code",
      "metadata": {
        "colab": {
          "base_uri": "https://localhost:8080/"
        },
        "id": "X8DpcxaZra_I",
        "outputId": "5213e897-f471-4e95-e330-56210e757e0c"
      },
      "source": [
        "#3.static method\r\n",
        "\r\n",
        "#static method just deal with class atribute they no nothing about class itself\r\n",
        "\r\n",
        "class Car:\r\n",
        "  car_count = 0\r\n",
        "  def __init__(self,model):\r\n",
        "    self.__model = model\r\n",
        "    Car.car_count += 1\r\n",
        "\r\n",
        "   #Settting and Getting (setters and getters)\r\n",
        "\r\n",
        "  @property\r\n",
        "  def model(self):\r\n",
        "    return self.__model\r\n",
        "\r\n",
        "  @model.setter\r\n",
        "  def model(self , model):\r\n",
        "    self.__model = model\r\n",
        "\r\n",
        "  #acess to nothing\r\n",
        "  @staticmethod #for utility like convert into int upper case\r\n",
        "  def peep():\r\n",
        "    print(\"PEEP!\") \r\n",
        "\r\n",
        "  #acess to only class\r\n",
        "  @classmethod\r\n",
        "  def countcars(car_class):\r\n",
        "    print(\"we have :\",car_class.car_count )\r\n",
        "    \r\n",
        "  ## normal fun acess to both class and object\r\n",
        "  def print_car_model(self):\r\n",
        "    print(\"You have :\",self.__model)\r\n",
        "    print(\"You have :\",self.car_count )\r\n",
        "      \r\n",
        "car1 = Car(\"Bmw\")\r\n",
        "print(car1.model)\r\n",
        "\r\n",
        "car1.peep()\r\n",
        "Car.peep()\r\n",
        "\r\n",
        "#car1.print_car_model()\r\n",
        "car1.countcars()\r\n"
      ],
      "execution_count": 42,
      "outputs": [
        {
          "output_type": "stream",
          "text": [
            "Bmw\n",
            "PEEP!\n",
            "PEEP!\n",
            "we have : 1\n"
          ],
          "name": "stdout"
        }
      ]
    },
    {
      "cell_type": "code",
      "metadata": {
        "id": "WeODSvzZv9po"
      },
      "source": [
        ""
      ],
      "execution_count": null,
      "outputs": []
    },
    {
      "cell_type": "markdown",
      "metadata": {
        "id": "F94PQq39v-pK"
      },
      "source": [
        "# Inheritance"
      ]
    },
    {
      "cell_type": "code",
      "metadata": {
        "id": "WZh6viIswEKS"
      },
      "source": [
        "#Inheritance : Creating new classes from existing ones.\r\n",
        "\r\n",
        "#child class will inheritit   "
      ],
      "execution_count": null,
      "outputs": []
    },
    {
      "cell_type": "code",
      "metadata": {
        "colab": {
          "base_uri": "https://localhost:8080/"
        },
        "id": "APkRlHdvzEsQ",
        "outputId": "fe90b744-82e4-4aec-ac5a-bedebd01be89"
      },
      "source": [
        "##car class\r\n",
        "\r\n",
        "class Vehicle:\r\n",
        "  def __init__(self,model,year):\r\n",
        "    self.model = model\r\n",
        "    self.year = year\r\n",
        "\r\n",
        "  def print_veh(self):\r\n",
        "    print(\"I am a vehicle\")\r\n",
        "\r\n",
        "class Car(Vehicle):\r\n",
        "  pass                      \r\n",
        "\r\n",
        "car1 = Car(\"BMW\",2021)\r\n",
        "car1.print_veh()\r\n"
      ],
      "execution_count": 45,
      "outputs": [
        {
          "output_type": "stream",
          "text": [
            "I am a vehicle\n"
          ],
          "name": "stdout"
        }
      ]
    },
    {
      "cell_type": "code",
      "metadata": {
        "colab": {
          "base_uri": "https://localhost:8080/"
        },
        "id": "5nfML07O1Ycm",
        "outputId": "1ca8807c-daa1-4b6e-cd54-78674cc37667"
      },
      "source": [
        "#method overriding\r\n",
        "\r\n",
        "class Vehicle:\r\n",
        "  def __init__(self,model,year):\r\n",
        "    self.model = model\r\n",
        "    self.year = year\r\n",
        "\r\n",
        "  def print_veh(self):\r\n",
        "    print(\"I am a vehicle\")\r\n",
        "\r\n",
        "class Car(Vehicle):\r\n",
        "  def print_veh(self):\r\n",
        "    print(\"I am a car\")\r\n",
        "\r\n",
        "car1 = Car(\"BMW\",2020)\r\n",
        "car1.print_veh() #overriden function not vehicle here\r\n"
      ],
      "execution_count": 47,
      "outputs": [
        {
          "output_type": "stream",
          "text": [
            "I am a car\n"
          ],
          "name": "stdout"
        }
      ]
    },
    {
      "cell_type": "code",
      "metadata": {
        "colab": {
          "base_uri": "https://localhost:8080/"
        },
        "id": "khiaLjaJ2AbC",
        "outputId": "83a92d2d-78d4-48ba-9efb-eb9489445b55"
      },
      "source": [
        "#method adding\r\n",
        "class Car(Vehicle):\r\n",
        "  def __init__(self,price):\r\n",
        "    self.price = price\r\n",
        "\r\n",
        "  def print_veh(self):\r\n",
        "    print(\"I am a car\")\r\n",
        "\r\n",
        "  def discount(self , price ,dis):\r\n",
        "    self.price = price* (1 - dis)    \r\n",
        "\r\n",
        "car1 = Car(20000)\r\n",
        "\r\n",
        "car1.discount(car1.price,0.2)\r\n",
        "print(car1.price)"
      ],
      "execution_count": 50,
      "outputs": [
        {
          "output_type": "stream",
          "text": [
            "16000.0\n"
          ],
          "name": "stdout"
        }
      ]
    },
    {
      "cell_type": "code",
      "metadata": {
        "colab": {
          "base_uri": "https://localhost:8080/"
        },
        "id": "U7SUanHM3ijc",
        "outputId": "5788b229-2da1-47bb-c807-a8e7e19203ca"
      },
      "source": [
        "#super function\r\n",
        "\r\n",
        "class Vehicle:\r\n",
        "  def __init__(self,model,year):\r\n",
        "    self.model = model\r\n",
        "    self.year = year\r\n",
        "\r\n",
        "  def print_veh(self):\r\n",
        "    print(\"I am a vehicle\")\r\n",
        "\r\n",
        "class Car(Vehicle):\r\n",
        "  def print_veh(self):\r\n",
        "    print(\"I am a car\")\r\n",
        "\r\n",
        "class Car(Vehicle):\r\n",
        "  def __init__(self,price):\r\n",
        "    self.price = price\r\n",
        "\r\n",
        "  def print_veh(self):\r\n",
        "    print(\"I am a car\")\r\n",
        "\r\n",
        "  def discount(self ,dis):\r\n",
        "    self.price = self.price* (1 - dis) \r\n",
        "    super().print_veh()\r\n",
        "\r\n",
        "car1 = Car(20000)\r\n",
        "car1.discount(0.1)     #no discount print here\r\n"
      ],
      "execution_count": 59,
      "outputs": [
        {
          "output_type": "stream",
          "text": [
            "I am a vehicle\n"
          ],
          "name": "stdout"
        }
      ]
    },
    {
      "cell_type": "code",
      "metadata": {
        "colab": {
          "base_uri": "https://localhost:8080/"
        },
        "id": "bzi3Dm9m5ASu",
        "outputId": "0cf63120-75de-4ded-9f92-18b804575fa2"
      },
      "source": [
        "#multiple inheritance\r\n",
        "class Vehicle:\r\n",
        "  def __init__(self,model,year):\r\n",
        "    self.model = model\r\n",
        "    self.year = year\r\n",
        "\r\n",
        "  def print_veh(self):\r\n",
        "    print(\"I am a vehicle\")\r\n",
        "\r\n",
        "class Factory():\r\n",
        "  def print_fac(self):\r\n",
        "    print(\"I am factory\")\r\n",
        "\r\n",
        "class Car(Vehicle):\r\n",
        "  def print_veh(self):\r\n",
        "    print(\"I am a car\")\r\n",
        "\r\n",
        "class Car(Vehicle,Factory):\r\n",
        "  def __init__(self,price):\r\n",
        "    self.price = price\r\n",
        "\r\n",
        "  def print_veh(self):\r\n",
        "    print(\"I am a car\")\r\n",
        "\r\n",
        "  def discount(self ,dis):\r\n",
        "    self.price = self.price* (1 - dis) \r\n",
        "    super().print_veh()\r\n",
        "\r\n",
        "car3 = Car(1000)\r\n",
        "car3.print_fac()"
      ],
      "execution_count": 64,
      "outputs": [
        {
          "output_type": "stream",
          "text": [
            "I am factory\n"
          ],
          "name": "stdout"
        }
      ]
    }
  ]
}