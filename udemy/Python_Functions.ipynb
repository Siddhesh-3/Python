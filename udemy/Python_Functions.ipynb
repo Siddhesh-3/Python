{
  "nbformat": 4,
  "nbformat_minor": 0,
  "metadata": {
    "colab": {
      "name": "Python Functions",
      "provenance": [],
      "collapsed_sections": [],
      "authorship_tag": "ABX9TyO4JmObs7V6/iinUDe4P4iY",
      "include_colab_link": true
    },
    "kernelspec": {
      "name": "python3",
      "display_name": "Python 3"
    }
  },
  "cells": [
    {
      "cell_type": "markdown",
      "metadata": {
        "id": "view-in-github",
        "colab_type": "text"
      },
      "source": [
        "<a href=\"https://colab.research.google.com/github/Siddhesh-3/Python/blob/main/udemy/Python_Functions.ipynb\" target=\"_parent\"><img src=\"https://colab.research.google.com/assets/colab-badge.svg\" alt=\"Open In Colab\"/></a>"
      ]
    },
    {
      "cell_type": "code",
      "metadata": {
        "id": "xo1oKn5FOfFR"
      },
      "source": [
        "#Python functions "
      ],
      "execution_count": null,
      "outputs": []
    },
    {
      "cell_type": "code",
      "metadata": {
        "colab": {
          "base_uri": "https://localhost:8080/"
        },
        "id": "2yha65hhXvg9",
        "outputId": "47a6abbf-2f1b-4919-aa7b-86afad6a0cc9"
      },
      "source": [
        "#help\r\n",
        "\r\n",
        "help(print)"
      ],
      "execution_count": null,
      "outputs": [
        {
          "output_type": "stream",
          "text": [
            "Help on built-in function print in module builtins:\n",
            "\n",
            "print(...)\n",
            "    print(value, ..., sep=' ', end='\\n', file=sys.stdout, flush=False)\n",
            "    \n",
            "    Prints the values to a stream, or to sys.stdout by default.\n",
            "    Optional keyword arguments:\n",
            "    file:  a file-like object (stream); defaults to the current sys.stdout.\n",
            "    sep:   string inserted between values, default a space.\n",
            "    end:   string appended after the last value, default a newline.\n",
            "    flush: whether to forcibly flush the stream.\n",
            "\n"
          ],
          "name": "stdout"
        }
      ]
    },
    {
      "cell_type": "code",
      "metadata": {
        "id": "0poiFrRQYSVp"
      },
      "source": [
        "#Defining Functions\r\n",
        "\r\n",
        "#cant use spaces or special character\r\n",
        "#cant use python kewords or build in function names"
      ],
      "execution_count": null,
      "outputs": []
    },
    {
      "cell_type": "code",
      "metadata": {
        "id": "RLPfsU09YguN"
      },
      "source": [
        "#Optinal input\r\n",
        "\r\n",
        "def multiply(x , y, z = 5): # z=5 optional input\r\n",
        "    print(z)"
      ],
      "execution_count": null,
      "outputs": []
    },
    {
      "cell_type": "code",
      "metadata": {
        "id": "0g4DxJqTZmdS"
      },
      "source": [
        "def multiply(x,y):\r\n",
        "  result = x * y\r\n",
        "  return result"
      ],
      "execution_count": null,
      "outputs": []
    },
    {
      "cell_type": "code",
      "metadata": {
        "colab": {
          "base_uri": "https://localhost:8080/"
        },
        "id": "0ke6bGvKaQY2",
        "outputId": "7e0cb57f-a8f7-479d-ec63-7c35a2dd8b05"
      },
      "source": [
        "multiply(2,5)#function name call function"
      ],
      "execution_count": null,
      "outputs": [
        {
          "output_type": "execute_result",
          "data": {
            "text/plain": [
              "10"
            ]
          },
          "metadata": {
            "tags": []
          },
          "execution_count": 17
        }
      ]
    },
    {
      "cell_type": "code",
      "metadata": {
        "colab": {
          "base_uri": "https://localhost:8080/"
        },
        "id": "zc5aIPbSa2YM",
        "outputId": "33765435-56de-47b3-a61f-652e597b2fb5"
      },
      "source": [
        "input_1 = 10 ## Don't modify this \r\n",
        "input_2 = 40 ## Don't modify this. \r\n",
        "\r\n",
        "## TODO:\r\n",
        "## Implement a function called sum_fun  that takes two inputs and returns their sum.\r\n",
        "def sum_fun(input_1,input_2):\r\n",
        "    sum = input_1 + input_2\r\n",
        "    return sum\r\n",
        "    \r\n",
        "result = sum_fun(input_1,input_2)\r\n",
        "print(result)\r\n"
      ],
      "execution_count": null,
      "outputs": [
        {
          "output_type": "stream",
          "text": [
            "50\n"
          ],
          "name": "stdout"
        }
      ]
    },
    {
      "cell_type": "code",
      "metadata": {
        "colab": {
          "base_uri": "https://localhost:8080/"
        },
        "id": "etwqmxzPdXH1",
        "outputId": "7501a13d-1ef8-41da-a1f2-b5da93747317"
      },
      "source": [
        "## Don't modify this\r\n",
        "power  = 2\r\n",
        "number = 4\r\n",
        "\r\n",
        "def raise_to_power(number,power):\r\n",
        "    p = number ** power\r\n",
        "    return p\r\n",
        "    \r\n",
        "raise_to_power(number,power)    "
      ],
      "execution_count": null,
      "outputs": [
        {
          "output_type": "execute_result",
          "data": {
            "text/plain": [
              "16"
            ]
          },
          "metadata": {
            "tags": []
          },
          "execution_count": 25
        }
      ]
    },
    {
      "cell_type": "code",
      "metadata": {
        "colab": {
          "base_uri": "https://localhost:8080/"
        },
        "id": "gb019yxbeTqQ",
        "outputId": "ee55e752-ed0d-420c-f538-443e1e96a6a9"
      },
      "source": [
        "students_names = [ \"Micheal Ford\", \"John Buch\" , \"Isra Raul\", \"Messi Ronaldo\"]\r\n",
        " \r\n",
        "students_grades = [ 80 , 53 , 90 , 100]\r\n",
        " \r\n",
        " \r\n",
        "def link_names_grades(students_names , students_grades ):\r\n",
        "    names_grades = {}\r\n",
        "    for x , y in zip(students_names , students_grades):\r\n",
        "        names_grades[x] = y\r\n",
        "    return names_grades\r\n",
        "link_names_grades(students_names , students_grades )"
      ],
      "execution_count": null,
      "outputs": [
        {
          "output_type": "execute_result",
          "data": {
            "text/plain": [
              "{'Isra Raul': 90, 'John Buch': 53, 'Messi Ronaldo': 100, 'Micheal Ford': 80}"
            ]
          },
          "metadata": {
            "tags": []
          },
          "execution_count": 34
        }
      ]
    },
    {
      "cell_type": "code",
      "metadata": {
        "colab": {
          "base_uri": "https://localhost:8080/"
        },
        "id": "XTEttlufgVh7",
        "outputId": "b79babc2-730a-45af-92fa-4565f49caf7b"
      },
      "source": [
        "numbers = [10, 20 , 17 , 13 ]\r\n",
        "even_or_odd = True\r\n",
        "\r\n",
        "def filter_even_odd(numbers , even_or_odd):\r\n",
        "    filtered_list  = []\r\n",
        "    for i in numbers:\r\n",
        "        if i % 2 == even_or_odd:\r\n",
        "            filtered_list.append(i)\r\n",
        "    return filtered_list  \r\n",
        "\r\n",
        "filter_even_odd(numbers , even_or_odd)   "
      ],
      "execution_count": null,
      "outputs": [
        {
          "output_type": "execute_result",
          "data": {
            "text/plain": [
              "[17, 13]"
            ]
          },
          "metadata": {
            "tags": []
          },
          "execution_count": 35
        }
      ]
    },
    {
      "cell_type": "code",
      "metadata": {
        "id": "MhpUz49JkHEF"
      },
      "source": [
        "#global and local\r\n",
        "\r\n",
        "global result1\r\n",
        "\r\n",
        "def mul(x,y):\r\n",
        "  result1 = x + y\r\n",
        "  return result1"
      ],
      "execution_count": null,
      "outputs": []
    },
    {
      "cell_type": "code",
      "metadata": {
        "colab": {
          "base_uri": "https://localhost:8080/"
        },
        "id": "SgE_S2vWkc1X",
        "outputId": "7ba0169a-981d-47fc-88c3-415d4489d893"
      },
      "source": [
        "print(mul(2,2))"
      ],
      "execution_count": null,
      "outputs": [
        {
          "output_type": "stream",
          "text": [
            "4\n"
          ],
          "name": "stdout"
        }
      ]
    },
    {
      "cell_type": "code",
      "metadata": {
        "colab": {
          "base_uri": "https://localhost:8080/",
          "height": 162
        },
        "id": "kwvCPzehkh78",
        "outputId": "19e577a1-2478-42ae-e14c-c5823562a7d6"
      },
      "source": [
        "print(result1)"
      ],
      "execution_count": null,
      "outputs": [
        {
          "output_type": "error",
          "ename": "NameError",
          "evalue": "ignored",
          "traceback": [
            "\u001b[0;31m---------------------------------------------------------------------------\u001b[0m",
            "\u001b[0;31mNameError\u001b[0m                                 Traceback (most recent call last)",
            "\u001b[0;32m<ipython-input-44-e1f2a5b504c0>\u001b[0m in \u001b[0;36m<module>\u001b[0;34m()\u001b[0m\n\u001b[0;32m----> 1\u001b[0;31m \u001b[0mprint\u001b[0m\u001b[0;34m(\u001b[0m\u001b[0mresult1\u001b[0m\u001b[0;34m)\u001b[0m\u001b[0;34m\u001b[0m\u001b[0;34m\u001b[0m\u001b[0m\n\u001b[0m",
            "\u001b[0;31mNameError\u001b[0m: name 'result1' is not defined"
          ]
        }
      ]
    },
    {
      "cell_type": "code",
      "metadata": {
        "colab": {
          "base_uri": "https://localhost:8080/"
        },
        "id": "1JghDT5XlDCM",
        "outputId": "2255722b-b03a-44b7-a788-49ff4502f441"
      },
      "source": [
        "#What is the output of the following code:\r\n",
        "\r\n",
        "ball_count = 0\r\n",
        " \r\n",
        "def count_balls(ball_count):\r\n",
        "    ball_count += 6 \r\n",
        "    return ball_count\r\n",
        " \r\n",
        "print(count_balls(ball_count))"
      ],
      "execution_count": null,
      "outputs": [
        {
          "output_type": "stream",
          "text": [
            "6\n"
          ],
          "name": "stdout"
        }
      ]
    }
  ]
}