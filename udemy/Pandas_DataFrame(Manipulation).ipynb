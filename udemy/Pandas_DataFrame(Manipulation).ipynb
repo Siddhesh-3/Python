{
  "nbformat": 4,
  "nbformat_minor": 0,
  "metadata": {
    "colab": {
      "name": "Pandas DataFrame(Manipulation)",
      "provenance": [],
      "authorship_tag": "ABX9TyPZEO3QGX6lUwAETZpxIzd6",
      "include_colab_link": true
    },
    "kernelspec": {
      "name": "python3",
      "display_name": "Python 3"
    }
  },
  "cells": [
    {
      "cell_type": "markdown",
      "metadata": {
        "id": "view-in-github",
        "colab_type": "text"
      },
      "source": [
        "<a href=\"https://colab.research.google.com/github/Siddhesh-3/Python/blob/main/udemy/Pandas_DataFrame(Manipulation).ipynb\" target=\"_parent\"><img src=\"https://colab.research.google.com/assets/colab-badge.svg\" alt=\"Open In Colab\"/></a>"
      ]
    },
    {
      "cell_type": "code",
      "metadata": {
        "id": "09mpZAzR2XJe"
      },
      "source": [
        "import pandas as pd\r\n",
        "\r\n",
        "pd_csv = pd.read_csv(\"covid19_tweets.csv\")"
      ],
      "execution_count": 2,
      "outputs": []
    },
    {
      "cell_type": "code",
      "metadata": {
        "id": "_KoQjGlW3Pya",
        "colab": {
          "base_uri": "https://localhost:8080/"
        },
        "outputId": "2416d5c8-d7ae-406d-d577-ef0721fced83"
      },
      "source": [
        "print(pd_csv.head())\r\n",
        "\r\n",
        "\r\n"
      ],
      "execution_count": 3,
      "outputs": [
        {
          "output_type": "stream",
          "text": [
            "         user_name         user_location  ...               source is_retweet\n",
            "0           ᏉᎥ☻լꂅϮ            astroworld  ...   Twitter for iPhone      False\n",
            "1    Tom Basile 🇺🇸          New York, NY  ...  Twitter for Android      False\n",
            "2  Time4fisticuffs      Pewee Valley, KY  ...  Twitter for Android      False\n",
            "3      ethel mertz  Stuck in the Middle   ...   Twitter for iPhone      False\n",
            "4         DIPR-J&K     Jammu and Kashmir  ...  Twitter for Android      False\n",
            "\n",
            "[5 rows x 13 columns]\n"
          ],
          "name": "stdout"
        }
      ]
    },
    {
      "cell_type": "code",
      "metadata": {
        "colab": {
          "base_uri": "https://localhost:8080/"
        },
        "id": "dQuZMb_Q7BBm",
        "outputId": "ca4e5e2c-0279-44ee-f1fc-2089a2312501"
      },
      "source": [
        "#Acess to Specifc element\r\n",
        "#acess row\r\n",
        "print(pd_csv.iloc[0])\r\n",
        "print(pd_csv.loc[0])  #same output as iloc"
      ],
      "execution_count": 5,
      "outputs": [
        {
          "output_type": "stream",
          "text": [
            "user_name                                                      ᏉᎥ☻լꂅϮ\n",
            "user_location                                              astroworld\n",
            "user_description    wednesday addams as a disney princess keepin i...\n",
            "user_created                                      2017-05-26 05:46:42\n",
            "user_followers                                                    624\n",
            "user_friends                                                      950\n",
            "user_favourites                                                 18775\n",
            "user_verified                                                   False\n",
            "date                                              2020-07-25 12:27:21\n",
            "text                If I smelled the scent of hand sanitizers toda...\n",
            "hashtags                                                          NaN\n",
            "source                                             Twitter for iPhone\n",
            "is_retweet                                                      False\n",
            "Name: 0, dtype: object\n",
            "user_name                                                      ᏉᎥ☻լꂅϮ\n",
            "user_location                                              astroworld\n",
            "user_description    wednesday addams as a disney princess keepin i...\n",
            "user_created                                      2017-05-26 05:46:42\n",
            "user_followers                                                    624\n",
            "user_friends                                                      950\n",
            "user_favourites                                                 18775\n",
            "user_verified                                                   False\n",
            "date                                              2020-07-25 12:27:21\n",
            "text                If I smelled the scent of hand sanitizers toda...\n",
            "hashtags                                                          NaN\n",
            "source                                             Twitter for iPhone\n",
            "is_retweet                                                      False\n",
            "Name: 0, dtype: object\n"
          ],
          "name": "stdout"
        }
      ]
    },
    {
      "cell_type": "code",
      "metadata": {
        "colab": {
          "base_uri": "https://localhost:8080/"
        },
        "id": "zu112sSY7HS0",
        "outputId": "34037180-0ff3-4cf3-a3e0-1f693cb02789"
      },
      "source": [
        "#Acess to Specifc element\r\n",
        "#acess row\r\n",
        "print(pd_csv.iloc[0])\r\n",
        "print(pd_csv.loc[0,'user_name']) "
      ],
      "execution_count": 10,
      "outputs": [
        {
          "output_type": "stream",
          "text": [
            "user_name                                                      ᏉᎥ☻լꂅϮ\n",
            "user_location                                              astroworld\n",
            "user_description    wednesday addams as a disney princess keepin i...\n",
            "user_created                                      2017-05-26 05:46:42\n",
            "user_followers                                                    624\n",
            "user_friends                                                      950\n",
            "user_favourites                                                 18775\n",
            "user_verified                                                   False\n",
            "date                                              2020-07-25 12:27:21\n",
            "text                If I smelled the scent of hand sanitizers toda...\n",
            "hashtags                                                          NaN\n",
            "source                                             Twitter for iPhone\n",
            "is_retweet                                                      False\n",
            "Name: 0, dtype: object\n",
            "ᏉᎥ☻լꂅϮ\n"
          ],
          "name": "stdout"
        }
      ]
    },
    {
      "cell_type": "code",
      "metadata": {
        "colab": {
          "base_uri": "https://localhost:8080/"
        },
        "id": "rHjE22DS-vVX",
        "outputId": "76142d79-70d8-4099-8dfe-c070a1d3adcf"
      },
      "source": [
        "# add in row\r\n",
        "x =pd.Series ([1] , name = \"anything\")\r\n",
        "\r\n",
        "pd_csv = pd_csv.append(x) #here \r\n",
        "print(pd_csv.iloc[-1])"
      ],
      "execution_count": 21,
      "outputs": [
        {
          "output_type": "stream",
          "text": [
            "user_name           NaN\n",
            "user_location       NaN\n",
            "user_description    NaN\n",
            "user_created        NaN\n",
            "user_followers      NaN\n",
            "user_friends        NaN\n",
            "user_favourites     NaN\n",
            "user_verified       NaN\n",
            "date                NaN\n",
            "text                NaN\n",
            "hashtags            NaN\n",
            "source              NaN\n",
            "is_retweet          NaN\n",
            "0                     1\n",
            "Name: anything, dtype: object\n"
          ],
          "name": "stdout"
        }
      ]
    },
    {
      "cell_type": "code",
      "metadata": {
        "colab": {
          "base_uri": "https://localhost:8080/",
          "height": 354
        },
        "id": "C_BW5upe_smM",
        "outputId": "7ae76df7-9869-4456-a3f8-ee2c8168936a"
      },
      "source": [
        "#insert column\r\n",
        "\r\n",
        "pd_csv .insert( loc = 0 , column = \"anyone\" ,value = 55)\r\n",
        "print(pd_csv.head()) #dont need to store in var insert directly insert into csv"
      ],
      "execution_count": 23,
      "outputs": [
        {
          "output_type": "error",
          "ename": "ValueError",
          "evalue": "ignored",
          "traceback": [
            "\u001b[0;31m---------------------------------------------------------------------------\u001b[0m",
            "\u001b[0;31mValueError\u001b[0m                                Traceback (most recent call last)",
            "\u001b[0;32m<ipython-input-23-73033782182a>\u001b[0m in \u001b[0;36m<module>\u001b[0;34m()\u001b[0m\n\u001b[1;32m      1\u001b[0m \u001b[0;31m#insert column\u001b[0m\u001b[0;34m\u001b[0m\u001b[0;34m\u001b[0m\u001b[0;34m\u001b[0m\u001b[0m\n\u001b[1;32m      2\u001b[0m \u001b[0;34m\u001b[0m\u001b[0m\n\u001b[0;32m----> 3\u001b[0;31m \u001b[0mpd_csv\u001b[0m \u001b[0;34m.\u001b[0m\u001b[0minsert\u001b[0m\u001b[0;34m(\u001b[0m \u001b[0mloc\u001b[0m \u001b[0;34m=\u001b[0m \u001b[0;36m0\u001b[0m \u001b[0;34m,\u001b[0m \u001b[0mcolumn\u001b[0m \u001b[0;34m=\u001b[0m \u001b[0;34m\"anyone\"\u001b[0m \u001b[0;34m,\u001b[0m\u001b[0mvalue\u001b[0m \u001b[0;34m=\u001b[0m \u001b[0;36m55\u001b[0m\u001b[0;34m)\u001b[0m\u001b[0;34m\u001b[0m\u001b[0;34m\u001b[0m\u001b[0m\n\u001b[0m\u001b[1;32m      4\u001b[0m \u001b[0mprint\u001b[0m\u001b[0;34m(\u001b[0m\u001b[0mpd_csv\u001b[0m\u001b[0;34m.\u001b[0m\u001b[0mhead\u001b[0m\u001b[0;34m(\u001b[0m\u001b[0;34m)\u001b[0m\u001b[0;34m)\u001b[0m\u001b[0;34m\u001b[0m\u001b[0;34m\u001b[0m\u001b[0m\n",
            "\u001b[0;32m/usr/local/lib/python3.7/dist-packages/pandas/core/frame.py\u001b[0m in \u001b[0;36minsert\u001b[0;34m(self, loc, column, value, allow_duplicates)\u001b[0m\n\u001b[1;32m   3626\u001b[0m         \u001b[0mself\u001b[0m\u001b[0;34m.\u001b[0m\u001b[0m_ensure_valid_index\u001b[0m\u001b[0;34m(\u001b[0m\u001b[0mvalue\u001b[0m\u001b[0;34m)\u001b[0m\u001b[0;34m\u001b[0m\u001b[0;34m\u001b[0m\u001b[0m\n\u001b[1;32m   3627\u001b[0m         \u001b[0mvalue\u001b[0m \u001b[0;34m=\u001b[0m \u001b[0mself\u001b[0m\u001b[0;34m.\u001b[0m\u001b[0m_sanitize_column\u001b[0m\u001b[0;34m(\u001b[0m\u001b[0mcolumn\u001b[0m\u001b[0;34m,\u001b[0m \u001b[0mvalue\u001b[0m\u001b[0;34m,\u001b[0m \u001b[0mbroadcast\u001b[0m\u001b[0;34m=\u001b[0m\u001b[0;32mFalse\u001b[0m\u001b[0;34m)\u001b[0m\u001b[0;34m\u001b[0m\u001b[0;34m\u001b[0m\u001b[0m\n\u001b[0;32m-> 3628\u001b[0;31m         \u001b[0mself\u001b[0m\u001b[0;34m.\u001b[0m\u001b[0m_mgr\u001b[0m\u001b[0;34m.\u001b[0m\u001b[0minsert\u001b[0m\u001b[0;34m(\u001b[0m\u001b[0mloc\u001b[0m\u001b[0;34m,\u001b[0m \u001b[0mcolumn\u001b[0m\u001b[0;34m,\u001b[0m \u001b[0mvalue\u001b[0m\u001b[0;34m,\u001b[0m \u001b[0mallow_duplicates\u001b[0m\u001b[0;34m=\u001b[0m\u001b[0mallow_duplicates\u001b[0m\u001b[0;34m)\u001b[0m\u001b[0;34m\u001b[0m\u001b[0;34m\u001b[0m\u001b[0m\n\u001b[0m\u001b[1;32m   3629\u001b[0m \u001b[0;34m\u001b[0m\u001b[0m\n\u001b[1;32m   3630\u001b[0m     \u001b[0;32mdef\u001b[0m \u001b[0massign\u001b[0m\u001b[0;34m(\u001b[0m\u001b[0mself\u001b[0m\u001b[0;34m,\u001b[0m \u001b[0;34m**\u001b[0m\u001b[0mkwargs\u001b[0m\u001b[0;34m)\u001b[0m \u001b[0;34m->\u001b[0m \u001b[0;34m\"DataFrame\"\u001b[0m\u001b[0;34m:\u001b[0m\u001b[0;34m\u001b[0m\u001b[0;34m\u001b[0m\u001b[0m\n",
            "\u001b[0;32m/usr/local/lib/python3.7/dist-packages/pandas/core/internals/managers.py\u001b[0m in \u001b[0;36minsert\u001b[0;34m(self, loc, item, value, allow_duplicates)\u001b[0m\n\u001b[1;32m   1184\u001b[0m         \u001b[0;32mif\u001b[0m \u001b[0;32mnot\u001b[0m \u001b[0mallow_duplicates\u001b[0m \u001b[0;32mand\u001b[0m \u001b[0mitem\u001b[0m \u001b[0;32min\u001b[0m \u001b[0mself\u001b[0m\u001b[0;34m.\u001b[0m\u001b[0mitems\u001b[0m\u001b[0;34m:\u001b[0m\u001b[0;34m\u001b[0m\u001b[0;34m\u001b[0m\u001b[0m\n\u001b[1;32m   1185\u001b[0m             \u001b[0;31m# Should this be a different kind of error??\u001b[0m\u001b[0;34m\u001b[0m\u001b[0;34m\u001b[0m\u001b[0;34m\u001b[0m\u001b[0m\n\u001b[0;32m-> 1186\u001b[0;31m             \u001b[0;32mraise\u001b[0m \u001b[0mValueError\u001b[0m\u001b[0;34m(\u001b[0m\u001b[0;34mf\"cannot insert {item}, already exists\"\u001b[0m\u001b[0;34m)\u001b[0m\u001b[0;34m\u001b[0m\u001b[0;34m\u001b[0m\u001b[0m\n\u001b[0m\u001b[1;32m   1187\u001b[0m \u001b[0;34m\u001b[0m\u001b[0m\n\u001b[1;32m   1188\u001b[0m         \u001b[0;32mif\u001b[0m \u001b[0;32mnot\u001b[0m \u001b[0misinstance\u001b[0m\u001b[0;34m(\u001b[0m\u001b[0mloc\u001b[0m\u001b[0;34m,\u001b[0m \u001b[0mint\u001b[0m\u001b[0;34m)\u001b[0m\u001b[0;34m:\u001b[0m\u001b[0;34m\u001b[0m\u001b[0;34m\u001b[0m\u001b[0m\n",
            "\u001b[0;31mValueError\u001b[0m: cannot insert anyone, already exists"
          ]
        }
      ]
    },
    {
      "cell_type": "code",
      "metadata": {
        "colab": {
          "base_uri": "https://localhost:8080/"
        },
        "id": "IWfrq2npAer7",
        "outputId": "a8261076-593c-4b0c-989a-1ae93c52d4d2"
      },
      "source": [
        "#delete drop\r\n",
        "print(pd_csv.drop( labels = 0)) #drop row index 0"
      ],
      "execution_count": 32,
      "outputs": [
        {
          "output_type": "stream",
          "text": [
            "          anyone         user_name  ... is_retweet    0\n",
            "1             55     Tom Basile 🇺🇸  ...      False  NaN\n",
            "2             55   Time4fisticuffs  ...      False  NaN\n",
            "3             55       ethel mertz  ...      False  NaN\n",
            "4             55          DIPR-J&K  ...      False  NaN\n",
            "5             55  🎹 Franz Schubert  ...      False  NaN\n",
            "...          ...               ...  ...        ...  ...\n",
            "anything      55               NaN  ...        NaN  1.0\n",
            "anything      55               NaN  ...        NaN  1.0\n",
            "anything      55               NaN  ...        NaN  1.0\n",
            "anything      55               NaN  ...        NaN  1.0\n",
            "anything      55               NaN  ...        NaN  1.0\n",
            "\n",
            "[2772 rows x 15 columns]\n"
          ],
          "name": "stdout"
        }
      ]
    },
    {
      "cell_type": "code",
      "metadata": {
        "colab": {
          "base_uri": "https://localhost:8080/"
        },
        "id": "ZdCPK7tIK-cb",
        "outputId": "25f879d1-0e7a-4b5d-ba87-c7d2254313cb"
      },
      "source": [
        "#rename\r\n",
        "print(pd_csv.rename(columns= {\"anyone\" : \"newcolumn\"}))"
      ],
      "execution_count": 34,
      "outputs": [
        {
          "output_type": "stream",
          "text": [
            "          newcolumn        user_name  ... is_retweet    0\n",
            "0                55           ᏉᎥ☻լꂅϮ  ...      False  NaN\n",
            "1                55    Tom Basile 🇺🇸  ...      False  NaN\n",
            "2                55  Time4fisticuffs  ...      False  NaN\n",
            "3                55      ethel mertz  ...      False  NaN\n",
            "4                55         DIPR-J&K  ...      False  NaN\n",
            "...             ...              ...  ...        ...  ...\n",
            "anything         55              NaN  ...        NaN  1.0\n",
            "anything         55              NaN  ...        NaN  1.0\n",
            "anything         55              NaN  ...        NaN  1.0\n",
            "anything         55              NaN  ...        NaN  1.0\n",
            "anything         55              NaN  ...        NaN  1.0\n",
            "\n",
            "[2773 rows x 15 columns]\n"
          ],
          "name": "stdout"
        }
      ]
    },
    {
      "cell_type": "code",
      "metadata": {
        "colab": {
          "base_uri": "https://localhost:8080/"
        },
        "id": "B21lp2puLbf-",
        "outputId": "61d73827-1474-42af-85e6-09c927f426b0"
      },
      "source": [
        "#setIndex\r\n",
        "print(pd_csv.set_index(\"user_name\")) #we set index as username"
      ],
      "execution_count": 37,
      "outputs": [
        {
          "output_type": "stream",
          "text": [
            "                 anyone         user_location  ... is_retweet    0\n",
            "user_name                                      ...                \n",
            "ᏉᎥ☻լꂅϮ               55            astroworld  ...      False  NaN\n",
            "Tom Basile 🇺🇸        55          New York, NY  ...      False  NaN\n",
            "Time4fisticuffs      55      Pewee Valley, KY  ...      False  NaN\n",
            "ethel mertz          55  Stuck in the Middle   ...      False  NaN\n",
            "DIPR-J&K             55     Jammu and Kashmir  ...      False  NaN\n",
            "...                 ...                   ...  ...        ...  ...\n",
            "NaN                  55                   NaN  ...        NaN  1.0\n",
            "NaN                  55                   NaN  ...        NaN  1.0\n",
            "NaN                  55                   NaN  ...        NaN  1.0\n",
            "NaN                  55                   NaN  ...        NaN  1.0\n",
            "NaN                  55                   NaN  ...        NaN  1.0\n",
            "\n",
            "[2773 rows x 14 columns]\n"
          ],
          "name": "stdout"
        }
      ]
    },
    {
      "cell_type": "code",
      "metadata": {
        "id": "NDwVcJgZHVJK"
      },
      "source": [
        ""
      ],
      "execution_count": null,
      "outputs": []
    }
  ]
}