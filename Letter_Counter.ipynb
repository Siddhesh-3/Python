{
  "nbformat": 4,
  "nbformat_minor": 0,
  "metadata": {
    "colab": {
      "name": "Letter Counter",
      "provenance": [],
      "collapsed_sections": [],
      "authorship_tag": "ABX9TyPBd8/VN8ZnimegybVsPWoK",
      "include_colab_link": true
    },
    "kernelspec": {
      "name": "python3",
      "display_name": "Python 3"
    }
  },
  "cells": [
    {
      "cell_type": "markdown",
      "metadata": {
        "id": "view-in-github",
        "colab_type": "text"
      },
      "source": [
        "<a href=\"https://colab.research.google.com/github/Siddhesh-3/Python/blob/main/Letter_Counter.ipynb\" target=\"_parent\"><img src=\"https://colab.research.google.com/assets/colab-badge.svg\" alt=\"Open In Colab\"/></a>"
      ]
    },
    {
      "cell_type": "code",
      "metadata": {
        "colab": {
          "base_uri": "https://localhost:8080/"
        },
        "id": "fBcq1GDFEGjz",
        "outputId": "13a1e6df-1834-411a-d291-3ce4e97e4a41"
      },
      "source": [
        "print(\"Welcome !\")\r\n",
        "print(\"I'am take letter from you \\n my task is how many times the leeter occured \\n and to calculate its percentage\")"
      ],
      "execution_count": null,
      "outputs": [
        {
          "output_type": "stream",
          "text": [
            "Welcome !\n",
            "I'am take letter from you \n",
            " my task is how many times the leeter occured \n",
            " and to calculate its percentage\n",
            "Welcome !\n",
            "I'am take letter from you \n",
            " my task is how many times the leeter occured \n",
            " and to calculate its percentage\n"
          ],
          "name": "stdout"
        }
      ]
    },
    {
      "cell_type": "code",
      "metadata": {
        "colab": {
          "base_uri": "https://localhost:8080/"
        },
        "id": "l4tWlys0GAs-",
        "outputId": "2fd906f0-3a44-4a22-b64c-5f96cd5f6d40"
      },
      "source": [
        "user_msg = input(\"Please Enter Your Msg :\") #for taking msg\r\n",
        "user_letter = input(\"Please Enter The Letter :\") #for find letter\r\n",
        "count = user_msg.count(user_letter)\r\n",
        "len_msg = len(user_msg)\r\n",
        "per= count/len_msg*100"
      ],
      "execution_count": null,
      "outputs": [
        {
          "output_type": "stream",
          "text": [
            "Please Enter Your Msg :king\n",
            "Please Enter The Letter :k\n"
          ],
          "name": "stdout"
        }
      ]
    },
    {
      "cell_type": "code",
      "metadata": {
        "colab": {
          "base_uri": "https://localhost:8080/"
        },
        "id": "gpRIVc_dLiRa",
        "outputId": "e2abf78d-0f2d-4bcd-e08a-c4712dbe2bb3"
      },
      "source": [
        "if user_letter in user_msg == user_msg :\r\n",
        "  print(\"Letter Found\")\r\n",
        "  print(\"Count of Letter\",user_letter,\"is :\",count)\r\n",
        "  print(\"Percentage is :\",per)\r\n",
        "else:\r\n",
        "    print(\"No letter\",user_letter,\"found in message\")\r\n"
      ],
      "execution_count": null,
      "outputs": [
        {
          "output_type": "stream",
          "text": [
            "Letter Found\n",
            "Count of Letter k is : 1\n",
            "Percentage is : 25.0\n"
          ],
          "name": "stdout"
        }
      ]
    }
  ]
}