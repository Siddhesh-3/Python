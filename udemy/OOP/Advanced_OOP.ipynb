{
  "nbformat": 4,
  "nbformat_minor": 0,
  "metadata": {
    "colab": {
      "name": "Advanced OOP",
      "provenance": [],
      "authorship_tag": "ABX9TyOnsC4v6Vtu13gFDOqcp7+G",
      "include_colab_link": true
    },
    "kernelspec": {
      "name": "python3",
      "display_name": "Python 3"
    }
  },
  "cells": [
    {
      "cell_type": "markdown",
      "metadata": {
        "id": "view-in-github",
        "colab_type": "text"
      },
      "source": [
        "<a href=\"https://colab.research.google.com/github/Siddhesh-3/Python/blob/main/udemy/OOP/Advanced_OOP.ipynb\" target=\"_parent\"><img src=\"https://colab.research.google.com/assets/colab-badge.svg\" alt=\"Open In Colab\"/></a>"
      ]
    },
    {
      "cell_type": "code",
      "metadata": {
        "colab": {
          "base_uri": "https://localhost:8080/"
        },
        "id": "YaQKRLuQqHWU",
        "outputId": "bf6f2183-c1ca-4ef6-f0e2-7a4c57284277"
      },
      "source": [
        "#Inner Functions\r\n",
        "\r\n",
        "def outer_fun():\r\n",
        "  print(\"Hello Outer Function\")\r\n",
        "\r\n",
        "  def inner_fun():\r\n",
        "    print(\"Hello from the inner function!\")\r\n",
        "\r\n",
        "  inner_fun()\r\n",
        "\r\n",
        "outer_fun()"
      ],
      "execution_count": null,
      "outputs": [
        {
          "output_type": "stream",
          "text": [
            "Hello Outer Function\n",
            "Hello from the inner function!\n"
          ],
          "name": "stdout"
        }
      ]
    },
    {
      "cell_type": "code",
      "metadata": {
        "id": "BOJSnVybrsAB",
        "colab": {
          "base_uri": "https://localhost:8080/"
        },
        "outputId": "a2a8919e-f2a7-4a07-c92e-b8313762e4ee"
      },
      "source": [
        "#Return inner function\r\n",
        "\r\n",
        "def outer_fun(x):\r\n",
        "  print(\"Outer Function\")\r\n",
        "\r\n",
        "  def first_inner_fun():\r\n",
        "    print(\"First Inner function\")\r\n",
        "  \r\n",
        "  def second_inner_fun():\r\n",
        "    print(\"Second Inner Function\")\r\n",
        "\r\n",
        "  if x == 1 :\r\n",
        "    return first_inner_fun\r\n",
        "  else :\r\n",
        "    return second_inner_fun\r\n",
        "\r\n",
        "x = outer_fun(1)\r\n",
        "\r\n",
        "#print(x)\r\n",
        "\r\n",
        "print(x()) #print inner function vslues invoke"
      ],
      "execution_count": 4,
      "outputs": [
        {
          "output_type": "stream",
          "text": [
            "Outer Function\n",
            "First Inner function\n",
            "None\n"
          ],
          "name": "stdout"
        }
      ]
    },
    {
      "cell_type": "code",
      "metadata": {
        "colab": {
          "base_uri": "https://localhost:8080/"
        },
        "id": "hzhqenJ3c3P3",
        "outputId": "8a2114b9-6123-45dc-bc59-84da8175788f"
      },
      "source": [
        " #Decorators\r\n",
        " # : take other function as input\r\n",
        " #they wrap a function and modify its functionality\r\n",
        "\r\n",
        " #it almost same as the inner function\r\n",
        "\r\n",
        " def decorator_fun(inner_fun):\r\n",
        "   def wrapper_fun():\r\n",
        "     print(\"This will be printed first\")\r\n",
        "     inner_fun() #here print magic function\r\n",
        "     print(\"This will printed last\")\r\n",
        "   return wrapper_fun\r\n",
        "\r\n",
        "def magic_print():\r\n",
        "  print(\"This is MAGICAL\")\r\n",
        "\r\n",
        "magic = decorator_fun(magic_print)\r\n",
        "\r\n",
        "print(magic) #print memory address\r\n",
        "\r\n",
        "print(magic())\r\n"
      ],
      "execution_count": 5,
      "outputs": [
        {
          "output_type": "stream",
          "text": [
            "<function decorator_fun.<locals>.wrapper_fun at 0x7f6eca3f7290>\n",
            "This will be printed first\n",
            "This is MAGICAL\n",
            "This will printed last\n",
            "None\n"
          ],
          "name": "stdout"
        }
      ]
    },
    {
      "cell_type": "code",
      "metadata": {
        "colab": {
          "base_uri": "https://localhost:8080/"
        },
        "id": "eJ0KftIpe4Lz",
        "outputId": "c65939db-aaef-417f-c3a0-80603785bbd1"
      },
      "source": [
        "#Problem with our code is that it looks unnecssarily messy .especially with the functions pointer call\r\n",
        "\r\n",
        "#solution is to use @ symbol to wrap the function we want.\r\n",
        "\r\n",
        "#PIE SYNTAX @ SYMBOL\r\n",
        "\r\n",
        "def decorator_fun(inner_fun):\r\n",
        "   def wrapper_fun():\r\n",
        "     print(\"This will be printed first\")\r\n",
        "     inner_fun() #here print magic function\r\n",
        "     print(\"This will printed last\")\r\n",
        "   return wrapper_fun\r\n",
        "\r\n",
        "@decorator_fun\r\n",
        "def magic_print():\r\n",
        "  print(\"This is MAGICAL\")\r\n",
        "\r\n",
        "print(magic_print())\r\n",
        "                      #####same code but we use @ here copareboth code\r\n",
        "#reuse\r\n",
        "\r\n",
        "@decorator_fun\r\n",
        "\r\n",
        "def new_fun():\r\n",
        "  print(\"reuse\")\r\n",
        "\r\n",
        "x = new_fun()\r\n",
        "print(x,\"\\n\")"
      ],
      "execution_count": 11,
      "outputs": [
        {
          "output_type": "stream",
          "text": [
            "This will be printed first\n",
            "This is MAGICAL\n",
            "This will printed last\n",
            "None\n",
            "This will be printed first\n",
            "reuse\n",
            "This will printed last\n",
            "None \n",
            "\n"
          ],
          "name": "stdout"
        }
      ]
    },
    {
      "cell_type": "code",
      "metadata": {
        "id": "3cSE29Pngbns"
      },
      "source": [
        "##DIFFRENT CLASS DECORATORS\r\n",
        "\r\n",
        "1. @property\r\n",
        "2. classmethod\r\n",
        "3. staticmethod\r\n"
      ],
      "execution_count": null,
      "outputs": []
    },
    {
      "cell_type": "code",
      "metadata": {
        "colab": {
          "base_uri": "https://localhost:8080/"
        },
        "id": "PjcwyJ3WlRKJ",
        "outputId": "023c0b17-0d72-44cb-c8d1-3ad271fe1d74"
      },
      "source": [
        "#1.@PROPERTY\r\n",
        "\r\n",
        "class Car:\r\n",
        "  def __init__(self,model):\r\n",
        "    self.__model = model  #__model private attribute\r\n",
        "\r\n",
        "  @property\r\n",
        "  def x(self):\r\n",
        "    return self.__model\r\n",
        "\r\n",
        "  @x.setter\r\n",
        "  def model_n(self,model):\r\n",
        "    self._model = model\r\n",
        "\r\n",
        "car1 = Car(\"BMW\")\r\n",
        "\r\n",
        "print(car1.x)\r\n"
      ],
      "execution_count": 16,
      "outputs": [
        {
          "output_type": "stream",
          "text": [
            "BMW\n"
          ],
          "name": "stdout"
        }
      ]
    },
    {
      "cell_type": "code",
      "metadata": {
        "colab": {
          "base_uri": "https://localhost:8080/"
        },
        "id": "KWzd7-wbnZYZ",
        "outputId": "caea5a05-cb5f-41d8-be3b-a0115be58c1e"
      },
      "source": [
        "#2.classmethod decorator\r\n",
        "\r\n",
        "# take input Class itself\r\n",
        "\r\n",
        "class Car:\r\n",
        "  cars_count = 0\r\n",
        "  def __init__(self,model):\r\n",
        "    self.__model = model  #__model private attribute\r\n",
        "    Car.cars_count = Car.cars_count + 1\r\n",
        "  @property\r\n",
        "  def x(self):\r\n",
        "    return self.__model\r\n",
        "\r\n",
        "  @x.setter\r\n",
        "  def model_n(self,model):\r\n",
        "    self._model = model\r\n",
        "\r\n",
        "  @classmethod\r\n",
        "  def countcars(car_class):\r\n",
        "    print(\"We have :\",car_class.cars_count,\"cars\")\r\n",
        "\r\n",
        "car1 = Car(\"BMW\")\r\n",
        "car1.countcars()\r\n",
        "\r\n",
        "car1.model = \"kea\" #setter\r\n",
        "print(car1.model)\r\n",
        "\r\n",
        "car2 = Car(\"Honda\")\r\n",
        "Car.countcars()\r\n"
      ],
      "execution_count": 27,
      "outputs": [
        {
          "output_type": "stream",
          "text": [
            "We have : 1 cars\n",
            "kea\n",
            "We have : 2 cars\n"
          ],
          "name": "stdout"
        }
      ]
    },
    {
      "cell_type": "code",
      "metadata": {
        "id": "X8DpcxaZra_I"
      },
      "source": [
        "#3.static method\r\n",
        "\r\n",
        "#static method just deal with class atribute they no nothing about class itself"
      ],
      "execution_count": null,
      "outputs": []
    }
  ]
}