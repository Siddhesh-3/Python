{
  "nbformat": 4,
  "nbformat_minor": 0,
  "metadata": {
    "colab": {
      "name": "Pandas Series ",
      "provenance": [],
      "authorship_tag": "ABX9TyOwyau/EjV1GQD4227sRt8D",
      "include_colab_link": true
    },
    "kernelspec": {
      "name": "python3",
      "display_name": "Python 3"
    }
  },
  "cells": [
    {
      "cell_type": "markdown",
      "metadata": {
        "id": "view-in-github",
        "colab_type": "text"
      },
      "source": [
        "<a href=\"https://colab.research.google.com/github/Siddhesh-3/Python/blob/main/udemy/Pandas_Series.ipynb\" target=\"_parent\"><img src=\"https://colab.research.google.com/assets/colab-badge.svg\" alt=\"Open In Colab\"/></a>"
      ]
    },
    {
      "cell_type": "code",
      "metadata": {
        "id": "qbM13ldv2EwE"
      },
      "source": [
        "#Pandas\r\n",
        "\r\n",
        "'''\r\n",
        "Series Basic Atributes\r\n",
        "Shape\r\n",
        "ndim\r\n",
        "size\r\n",
        "values\r\n",
        "index\r\n",
        "'''\r\n",
        "\r\n",
        "#Series Conversions"
      ],
      "execution_count": null,
      "outputs": []
    },
    {
      "cell_type": "code",
      "metadata": {
        "id": "chhwBBshg-ZN",
        "colab": {
          "base_uri": "https://localhost:8080/"
        },
        "outputId": "a69ebbce-be27-4126-bd4d-ef7d15eb9c0d"
      },
      "source": [
        "#from ndarray\r\n",
        "import pandas as pd\r\n",
        "import numpy as np\r\n",
        "\r\n",
        "np_arr = np.array([1,2,3,4])\r\n",
        "series_pd = pd.Series((np_arr))\r\n",
        "\r\n",
        "print(series_pd)"
      ],
      "execution_count": null,
      "outputs": [
        {
          "output_type": "stream",
          "text": [
            "0    1\n",
            "1    2\n",
            "2    3\n",
            "3    4\n",
            "dtype: int64\n"
          ],
          "name": "stdout"
        }
      ]
    },
    {
      "cell_type": "code",
      "metadata": {
        "colab": {
          "base_uri": "https://localhost:8080/"
        },
        "id": "R0an9B_K4Qh4",
        "outputId": "68edd5d6-e2bb-4c3d-9b3c-97e5a38e3ca9"
      },
      "source": [
        "#from list\r\n",
        "\r\n",
        "series_list = pd.Series([1,8,9])\r\n",
        "print(series_list)"
      ],
      "execution_count": null,
      "outputs": [
        {
          "output_type": "stream",
          "text": [
            "0    1\n",
            "1    8\n",
            "2    9\n",
            "dtype: int64\n"
          ],
          "name": "stdout"
        }
      ]
    },
    {
      "cell_type": "code",
      "metadata": {
        "colab": {
          "base_uri": "https://localhost:8080/"
        },
        "id": "YJDiPW4y4e4V",
        "outputId": "8970cec5-3dc0-4f49-fb41-ed665ba90759"
      },
      "source": [
        "# from dic \r\n",
        " \r\n",
        "dic = { \"name\" : \"sid\",\"rollno\" : 16 , \"college\" : \"GHRIET\",\"percentage\" : 71.40 }\r\n",
        "series_dicto_pd = pd.Series(dic)\r\n",
        "print(series_dicto_pd)\r\n",
        "\r\n",
        "print(series_dicto_pd['name']) #same index as dic"
      ],
      "execution_count": null,
      "outputs": [
        {
          "output_type": "stream",
          "text": [
            "name             sid\n",
            "rollno            16\n",
            "college       GHRIET\n",
            "percentage      71.4\n",
            "dtype: object\n",
            "sid\n"
          ],
          "name": "stdout"
        }
      ]
    },
    {
      "cell_type": "code",
      "metadata": {
        "colab": {
          "base_uri": "https://localhost:8080/"
        },
        "id": "nK14Uh6p5V-8",
        "outputId": "2d28c55a-67d5-42f2-e144-b10214799317"
      },
      "source": [
        "#from scaler value\r\n",
        "\r\n",
        "scaler_value = 10\r\n",
        "\r\n",
        "series_scaler = pd.Series(scaler_value , index = [0,1,2,3,4,5]) #like broadcasting\r\n",
        "print(series_scaler)"
      ],
      "execution_count": 12,
      "outputs": [
        {
          "output_type": "stream",
          "text": [
            "0    10\n",
            "1    10\n",
            "2    10\n",
            "3    10\n",
            "4    10\n",
            "5    10\n",
            "dtype: int64\n"
          ],
          "name": "stdout"
        }
      ]
    },
    {
      "cell_type": "code",
      "metadata": {
        "colab": {
          "base_uri": "https://localhost:8080/"
        },
        "id": "qZb7SzNo6Q4A",
        "outputId": "d9af2f5e-0323-4387-c2c8-26e0d9e86b63"
      },
      "source": [
        "#similer like numpy\r\n",
        "\r\n",
        "print(series_dicto_pd.dtype)\r\n",
        "np_arr = series_scaler.to_numpy()\r\n",
        "print(np_arr)"
      ],
      "execution_count": 14,
      "outputs": [
        {
          "output_type": "stream",
          "text": [
            "object\n",
            "[10 10 10 10 10 10]\n"
          ],
          "name": "stdout"
        }
      ]
    },
    {
      "cell_type": "code",
      "metadata": {
        "colab": {
          "base_uri": "https://localhost:8080/"
        },
        "id": "qBEJcOfl7Fdy",
        "outputId": "6ca2d3d6-e21e-4b9c-b837-c9ee29df3e06"
      },
      "source": [
        "#similer to dic\r\n",
        "\r\n",
        "print(series_scaler.get(4))"
      ],
      "execution_count": 15,
      "outputs": [
        {
          "output_type": "stream",
          "text": [
            "10\n"
          ],
          "name": "stdout"
        }
      ]
    },
    {
      "cell_type": "code",
      "metadata": {
        "colab": {
          "base_uri": "https://localhost:8080/"
        },
        "id": "I0pbsi_Z7TgA",
        "outputId": "4b360677-fd29-42f7-e899-301cd8d8a7c6"
      },
      "source": [
        "#shape\r\n",
        "print(series_dicto_pd.shape)\r\n"
      ],
      "execution_count": 17,
      "outputs": [
        {
          "output_type": "stream",
          "text": [
            "(4,)\n"
          ],
          "name": "stdout"
        }
      ]
    },
    {
      "cell_type": "code",
      "metadata": {
        "colab": {
          "base_uri": "https://localhost:8080/"
        },
        "id": "1s5HhrFg7mtb",
        "outputId": "325c7009-9359-4704-df1b-882b17591ea7"
      },
      "source": [
        "#ndim number of dimenstion\r\n",
        "print(series_dicto_pd.ndim)"
      ],
      "execution_count": 18,
      "outputs": [
        {
          "output_type": "stream",
          "text": [
            "1\n"
          ],
          "name": "stdout"
        }
      ]
    },
    {
      "cell_type": "code",
      "metadata": {
        "colab": {
          "base_uri": "https://localhost:8080/"
        },
        "id": "bpSzTG0i7ymf",
        "outputId": "522a7983-50d6-4b11-cc0c-e8b3c12aee48"
      },
      "source": [
        "#size\r\n",
        "\r\n",
        "print(series_dicto_pd.size)"
      ],
      "execution_count": 19,
      "outputs": [
        {
          "output_type": "stream",
          "text": [
            "4\n"
          ],
          "name": "stdout"
        }
      ]
    },
    {
      "cell_type": "code",
      "metadata": {
        "colab": {
          "base_uri": "https://localhost:8080/"
        },
        "id": "qpzuzH3Z73z2",
        "outputId": "91a92004-12cd-4ac0-a160-157554e76091"
      },
      "source": [
        "#values\r\n",
        "print(series_dicto_pd.values)"
      ],
      "execution_count": 20,
      "outputs": [
        {
          "output_type": "stream",
          "text": [
            "['sid' 16 'GHRIET' 71.4]\n"
          ],
          "name": "stdout"
        }
      ]
    },
    {
      "cell_type": "code",
      "metadata": {
        "colab": {
          "base_uri": "https://localhost:8080/"
        },
        "id": "EcDFlPvO7-Qm",
        "outputId": "c60501c2-e928-4fe3-d250-6df55d3547f2"
      },
      "source": [
        "#index\r\n",
        "series_dicto_pd.index"
      ],
      "execution_count": 21,
      "outputs": [
        {
          "output_type": "execute_result",
          "data": {
            "text/plain": [
              "Index(['name', 'rollno', 'college', 'percentage'], dtype='object')"
            ]
          },
          "metadata": {
            "tags": []
          },
          "execution_count": 21
        }
      ]
    },
    {
      "cell_type": "code",
      "metadata": {
        "colab": {
          "base_uri": "https://localhost:8080/",
          "height": 195
        },
        "id": "V7v8c6MC8ChQ",
        "outputId": "fd044f58-b132-47e3-e21b-38b7bb130c44"
      },
      "source": [
        "#name\r\n",
        "#series_dicto_pd = pd.Series(dic, name = \"Dict\")  #define this above\r\n",
        "print(series_dicto_pd,name)"
      ],
      "execution_count": 23,
      "outputs": [
        {
          "output_type": "error",
          "ename": "NameError",
          "evalue": "ignored",
          "traceback": [
            "\u001b[0;31m---------------------------------------------------------------------------\u001b[0m",
            "\u001b[0;31mNameError\u001b[0m                                 Traceback (most recent call last)",
            "\u001b[0;32m<ipython-input-23-37f67d0fc7db>\u001b[0m in \u001b[0;36m<module>\u001b[0;34m()\u001b[0m\n\u001b[1;32m      1\u001b[0m \u001b[0;31m#name\u001b[0m\u001b[0;34m\u001b[0m\u001b[0;34m\u001b[0m\u001b[0;34m\u001b[0m\u001b[0m\n\u001b[1;32m      2\u001b[0m \u001b[0mseries_dicto_pd\u001b[0m \u001b[0;34m=\u001b[0m \u001b[0mpd\u001b[0m\u001b[0;34m.\u001b[0m\u001b[0mSeries\u001b[0m\u001b[0;34m(\u001b[0m\u001b[0mdic\u001b[0m\u001b[0;34m,\u001b[0m \u001b[0mname\u001b[0m \u001b[0;34m=\u001b[0m \u001b[0;34m\"Dict\"\u001b[0m\u001b[0;34m)\u001b[0m\u001b[0;34m\u001b[0m\u001b[0;34m\u001b[0m\u001b[0m\n\u001b[0;32m----> 3\u001b[0;31m \u001b[0mprint\u001b[0m\u001b[0;34m(\u001b[0m\u001b[0mseries_dicto_pd\u001b[0m\u001b[0;34m,\u001b[0m\u001b[0mname\u001b[0m\u001b[0;34m)\u001b[0m\u001b[0;34m\u001b[0m\u001b[0;34m\u001b[0m\u001b[0m\n\u001b[0m",
            "\u001b[0;31mNameError\u001b[0m: name 'name' is not defined"
          ]
        }
      ]
    }
  ]
}