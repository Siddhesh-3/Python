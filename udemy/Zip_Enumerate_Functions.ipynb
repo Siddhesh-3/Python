{
  "nbformat": 4,
  "nbformat_minor": 0,
  "metadata": {
    "colab": {
      "name": "Zip Enumerate Functions",
      "provenance": [],
      "authorship_tag": "ABX9TyPIPxRlKEbBGlhg+2IvcPvH",
      "include_colab_link": true
    },
    "kernelspec": {
      "name": "python3",
      "display_name": "Python 3"
    }
  },
  "cells": [
    {
      "cell_type": "markdown",
      "metadata": {
        "id": "view-in-github",
        "colab_type": "text"
      },
      "source": [
        "<a href=\"https://colab.research.google.com/github/Siddhesh-3/Python/blob/main/udemy/Zip_Enumerate_Functions.ipynb\" target=\"_parent\"><img src=\"https://colab.research.google.com/assets/colab-badge.svg\" alt=\"Open In Colab\"/></a>"
      ]
    },
    {
      "cell_type": "code",
      "metadata": {
        "colab": {
          "base_uri": "https://localhost:8080/"
        },
        "id": "Sh7GsCDPp64a",
        "outputId": "614641b7-3a59-4ca4-802d-b6fafd30c9b4"
      },
      "source": [
        "#Zip Function\r\n",
        "\r\n",
        "list1 = [1, 2 ,3 , \"sid\"]\r\n",
        "list2 = [44 , 55 ,88 , 99]\r\n",
        "\r\n",
        "ziplist = zip(list1,list2)\r\n",
        "#print(ziplist) #it show object\r\n",
        "#use\r\n",
        "print(list(ziplist))"
      ],
      "execution_count": null,
      "outputs": [
        {
          "output_type": "stream",
          "text": [
            "[(1, 44), (2, 55), (3, 88), ('sid', 99)]\n"
          ],
          "name": "stdout"
        }
      ]
    },
    {
      "cell_type": "code",
      "metadata": {
        "id": "_15EQDZcrDVI"
      },
      "source": [
        "for i1,i2 in ziplist:\r\n",
        "      print(i1,i2)\r\n"
      ],
      "execution_count": null,
      "outputs": []
    },
    {
      "cell_type": "code",
      "metadata": {
        "colab": {
          "base_uri": "https://localhost:8080/"
        },
        "id": "PoL1f3narr4j",
        "outputId": "441f3b2d-7163-4968-81df-326143c7e6a0"
      },
      "source": [
        "#What will be the output of the following code :\r\n",
        "\r\n",
        "list_quiz = [ 1, 2, 10 , 5]\r\n",
        "dict_quiz = { \"quiz\": 3 , 4 : 9}\r\n",
        "tuple_quiz = (6 , 8 , 12 )\r\n",
        "for x,y,z in zip(list_quiz, dict_quiz , tuple_quiz):\r\n",
        "     print(x,y,z)\r\n",
        "\r\n"
      ],
      "execution_count": null,
      "outputs": [
        {
          "output_type": "stream",
          "text": [
            "1 quiz 6\n",
            "2 4 8\n"
          ],
          "name": "stdout"
        }
      ]
    },
    {
      "cell_type": "code",
      "metadata": {
        "id": "35G-_KhysRWa",
        "colab": {
          "base_uri": "https://localhost:8080/"
        },
        "outputId": "36ec202f-b3db-40f2-ae54-02c626ea6c41"
      },
      "source": [
        "students_names = [ \"Micheal Ford\", \"John Buch\" , \"Isra Raul\", \"Messi Ronaldo\"]\r\n",
        "\r\n",
        "students_grades = [ 80 , 53 , 90 , 100]\r\n",
        "\r\n",
        "names_grades = {}\r\n",
        "\r\n",
        "for x,y in zip(students_names,students_grades):\r\n",
        "    names_grades[x] = y\r\n",
        "    print(names_grades)"
      ],
      "execution_count": null,
      "outputs": [
        {
          "output_type": "stream",
          "text": [
            "{'Micheal Ford': 80}\n",
            "{'Micheal Ford': 80, 'John Buch': 53}\n",
            "{'Micheal Ford': 80, 'John Buch': 53, 'Isra Raul': 90}\n",
            "{'Micheal Ford': 80, 'John Buch': 53, 'Isra Raul': 90, 'Messi Ronaldo': 100}\n"
          ],
          "name": "stdout"
        }
      ]
    },
    {
      "cell_type": "code",
      "metadata": {
        "id": "bpQhewfauIMR"
      },
      "source": [
        "#Enumerate Function\r\n",
        "\r\n",
        "my_list12 = [1, 2, 's' ,3.1]\r\n"
      ],
      "execution_count": null,
      "outputs": []
    },
    {
      "cell_type": "code",
      "metadata": {
        "colab": {
          "base_uri": "https://localhost:8080/"
        },
        "id": "hbhQI5PfwUpD",
        "outputId": "07b6556f-e765-49bf-a360-ce5f52db25a2"
      },
      "source": [
        "for i ,c in enumerate(my_list12):\r\n",
        "  print(i) #index\r\n",
        "  print(c) #value\r\n",
        "  print(\"\")"
      ],
      "execution_count": null,
      "outputs": [
        {
          "output_type": "stream",
          "text": [
            "0\n",
            "1\n",
            "\n",
            "1\n",
            "2\n",
            "\n",
            "2\n",
            "s\n",
            "\n",
            "3\n",
            "3.1\n",
            "\n"
          ],
          "name": "stdout"
        }
      ]
    },
    {
      "cell_type": "code",
      "metadata": {
        "colab": {
          "base_uri": "https://localhost:8080/"
        },
        "id": "83g0B5gSxgat",
        "outputId": "672f6caf-9945-4db5-9f42-45fd37f38f16"
      },
      "source": [
        "names = [ \"Rachael Green\", \"Goodfellow Ian\", \"Tedd Crock\", \"Mina Joseph\"]\r\n",
        "salaries = [10260 , 41571 , 71211 , 52141 , 35781]\r\n",
        "people_salaries = []\r\n",
        "\r\n",
        "for i , j in enumerate(names):\r\n",
        "    x = j + \" $\" + str(salaries[i])\r\n",
        "    people_salaries.append(x)\r\n",
        "    print(people_salaries)"
      ],
      "execution_count": null,
      "outputs": [
        {
          "output_type": "stream",
          "text": [
            "['Rachael Green $10260']\n",
            "['Rachael Green $10260', 'Goodfellow Ian $41571']\n",
            "['Rachael Green $10260', 'Goodfellow Ian $41571', 'Tedd Crock $71211']\n",
            "['Rachael Green $10260', 'Goodfellow Ian $41571', 'Tedd Crock $71211', 'Mina Joseph $52141']\n"
          ],
          "name": "stdout"
        }
      ]
    },
    {
      "cell_type": "code",
      "metadata": {
        "colab": {
          "base_uri": "https://localhost:8080/"
        },
        "id": "vxTwtTS-z9v0",
        "outputId": "611df443-b488-42e6-b96d-e9cb69599709"
      },
      "source": [
        "#List Comprehensions\r\n",
        "\r\n",
        "list = []\r\n",
        "for i in range(20):\r\n",
        "  list.append(i)\r\n",
        "print(list)\r\n",
        "\r\n",
        "#use of list comp ->\r\n",
        "\r\n",
        "list_comp = [ i for i in range(10)]\r\n",
        "print(list_comp)"
      ],
      "execution_count": null,
      "outputs": [
        {
          "output_type": "stream",
          "text": [
            "[0, 1, 2, 3, 4, 5, 6, 7, 8, 9, 10, 11, 12, 13, 14, 15, 16, 17, 18, 19]\n",
            "[0, 1, 2, 3, 4, 5, 6, 7, 8, 9]\n"
          ],
          "name": "stdout"
        }
      ]
    },
    {
      "cell_type": "code",
      "metadata": {
        "colab": {
          "base_uri": "https://localhost:8080/",
          "height": 52
        },
        "id": "FEXcaLw111Vj",
        "outputId": "a5f8bfd3-1e50-47b2-83af-51beb35c1f93"
      },
      "source": [
        "students_dict = { \r\n",
        "                    \"Joel Corry\" : 70,\r\n",
        "                    \"James Bond\" : 90,\r\n",
        "                    \"Fatma Ahmed\": 20,\r\n",
        "                    \"Lily Saqr\"  : 94,\r\n",
        "                    \"Ahmed Yan\"  : 40,\r\n",
        "                }\r\n",
        "passed_students_names = [name.split()[0] for name, x in students_dict.items() if x > 50]\r\n",
        "print(passed_students_names)\r\n",
        "\r\n",
        "'''\r\n",
        "#above loop\r\n",
        "for name, x in students_dict.items():\r\n",
        "  if x > 50 :\r\n",
        "    print(name.split()[0],end =\" \")\r\n",
        "''' "
      ],
      "execution_count": null,
      "outputs": [
        {
          "output_type": "stream",
          "text": [
            "['Joel', 'James', 'Lily']\n"
          ],
          "name": "stdout"
        },
        {
          "output_type": "execute_result",
          "data": {
            "application/vnd.google.colaboratory.intrinsic+json": {
              "type": "string"
            },
            "text/plain": [
              "'\\n#above loop\\nfor name, x in students_dict.items():\\n  if x > 50 :\\n    print(name.split()[0],end =\" \")\\n'"
            ]
          },
          "metadata": {
            "tags": []
          },
          "execution_count": 77
        }
      ]
    },
    {
      "cell_type": "code",
      "metadata": {
        "colab": {
          "base_uri": "https://localhost:8080/"
        },
        "id": "VLTE7FRI2Uvr",
        "outputId": "bde2f78e-947a-4ad6-816f-3cbc9f5bafef"
      },
      "source": [
        "#Split function\r\n",
        "txt = \"welcome to the jungle\"\r\n",
        "\r\n",
        "x = txt.split()\r\n",
        "\r\n",
        "print(x)          "
      ],
      "execution_count": null,
      "outputs": [
        {
          "output_type": "stream",
          "text": [
            "['welcome', 'to', 'the', 'jungle']\n"
          ],
          "name": "stdout"
        }
      ]
    }
  ]
}