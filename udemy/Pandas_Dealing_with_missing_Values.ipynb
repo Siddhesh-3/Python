{
  "nbformat": 4,
  "nbformat_minor": 0,
  "metadata": {
    "colab": {
      "name": "Pandas Dealing with missing Values",
      "provenance": [],
      "collapsed_sections": [],
      "authorship_tag": "ABX9TyNq3Mluz7YRvxkVGxx1EZEm",
      "include_colab_link": true
    },
    "kernelspec": {
      "name": "python3",
      "display_name": "Python 3"
    }
  },
  "cells": [
    {
      "cell_type": "markdown",
      "metadata": {
        "id": "view-in-github",
        "colab_type": "text"
      },
      "source": [
        "<a href=\"https://colab.research.google.com/github/Siddhesh-3/Python/blob/main/udemy/Pandas_Dealing_with_missing_Values.ipynb\" target=\"_parent\"><img src=\"https://colab.research.google.com/assets/colab-badge.svg\" alt=\"Open In Colab\"/></a>"
      ]
    },
    {
      "cell_type": "code",
      "metadata": {
        "id": "LLGTY6q6QPHM"
      },
      "source": [
        "#Detecting and deleteing NAN Function or value\r\n",
        "\r\n",
        "#isnull\r\n",
        "#dropna\r\n",
        "#fillna\r\n",
        "#interpolate"
      ],
      "execution_count": null,
      "outputs": []
    },
    {
      "cell_type": "code",
      "metadata": {
        "colab": {
          "base_uri": "https://localhost:8080/"
        },
        "id": "i0jbJmc8V-Wn",
        "outputId": "6ee49c4a-8b3a-4dc2-d136-b8bd58353815"
      },
      "source": [
        "import pandas as pd\r\n",
        "\r\n",
        "pd_csv = pd.read_csv(\"pokemon.csv\")\r\n",
        "\r\n",
        "print(pd_csv.head())\r\n",
        "print(pd_csv.shape)"
      ],
      "execution_count": 4,
      "outputs": [
        {
          "output_type": "stream",
          "text": [
            "                     abilities  against_bug  ...  generation  is_legendary\n",
            "0  ['Overgrow', 'Chlorophyll']          1.0  ...           1             0\n",
            "1  ['Overgrow', 'Chlorophyll']          1.0  ...           1             0\n",
            "2  ['Overgrow', 'Chlorophyll']          1.0  ...           1             0\n",
            "3     ['Blaze', 'Solar Power']          0.5  ...           1             0\n",
            "4     ['Blaze', 'Solar Power']          0.5  ...           1             0\n",
            "\n",
            "[5 rows x 41 columns]\n",
            "(801, 41)\n"
          ],
          "name": "stdout"
        }
      ]
    },
    {
      "cell_type": "code",
      "metadata": {
        "colab": {
          "base_uri": "https://localhost:8080/"
        },
        "id": "gZMyQiC-WmuJ",
        "outputId": "e098b0e5-12cc-4fa0-dc4c-6b7f5886a183"
      },
      "source": [
        "#isnull\r\n",
        "print(pd_csv.isnull())"
      ],
      "execution_count": 3,
      "outputs": [
        {
          "output_type": "stream",
          "text": [
            "     abilities  against_bug  against_dark  ...  weight_kg  generation  is_legendary\n",
            "0        False        False         False  ...      False       False         False\n",
            "1        False        False         False  ...      False       False         False\n",
            "2        False        False         False  ...      False       False         False\n",
            "3        False        False         False  ...      False       False         False\n",
            "4        False        False         False  ...      False       False         False\n",
            "..         ...          ...           ...  ...        ...         ...           ...\n",
            "796      False        False         False  ...      False       False         False\n",
            "797      False        False         False  ...      False       False         False\n",
            "798      False        False         False  ...      False       False         False\n",
            "799      False        False         False  ...      False       False         False\n",
            "800      False        False         False  ...      False       False         False\n",
            "\n",
            "[801 rows x 41 columns]\n"
          ],
          "name": "stdout"
        }
      ]
    },
    {
      "cell_type": "code",
      "metadata": {
        "colab": {
          "base_uri": "https://localhost:8080/"
        },
        "id": "w0uXVXFBW-op",
        "outputId": "db839987-45df-46dc-c33e-d06359b4dffa"
      },
      "source": [
        "#dropna null value\r\n",
        "print(pd_csv.shape,\"\\n\") #before drop\r\n",
        "drop = (pd_csv.dropna())\r\n",
        "print(drop)\r\n",
        "print(drop.shape) #after drop null values"
      ],
      "execution_count": 9,
      "outputs": [
        {
          "output_type": "stream",
          "text": [
            "(801, 41) \n",
            "\n",
            "                                      abilities  ...  is_legendary\n",
            "0                   ['Overgrow', 'Chlorophyll']  ...             0\n",
            "1                   ['Overgrow', 'Chlorophyll']  ...             0\n",
            "2                   ['Overgrow', 'Chlorophyll']  ...             0\n",
            "5                      ['Blaze', 'Solar Power']  ...             0\n",
            "11              ['Compoundeyes', 'Tinted Lens']  ...             0\n",
            "..                                          ...  ...           ...\n",
            "777                                ['Disguise']  ...             0\n",
            "778  ['Dazzling', 'Strong Jaw', 'Wonder Skin ']  ...             0\n",
            "779     ['Berserk', 'Sap Sipper', 'Cloud Nine']  ...             0\n",
            "782   ['Bulletproof', 'Soundproof', 'Overcoat']  ...             0\n",
            "783   ['Bulletproof', 'Soundproof', 'Overcoat']  ...             0\n",
            "\n",
            "[339 rows x 41 columns]\n",
            "(339, 41)\n"
          ],
          "name": "stdout"
        }
      ]
    },
    {
      "cell_type": "code",
      "metadata": {
        "colab": {
          "base_uri": "https://localhost:8080/"
        },
        "id": "P_w_3jhhXrwa",
        "outputId": "1e16a910-8328-4a50-99b7-361f4879f522"
      },
      "source": [
        "#fillna\r\n",
        "\r\n",
        "print(pd_csv.fillna(1)) # ,inplace = True for change in original csv"
      ],
      "execution_count": 10,
      "outputs": [
        {
          "output_type": "stream",
          "text": [
            "                       abilities  against_bug  ...  generation  is_legendary\n",
            "0    ['Overgrow', 'Chlorophyll']         1.00  ...           1             0\n",
            "1    ['Overgrow', 'Chlorophyll']         1.00  ...           1             0\n",
            "2    ['Overgrow', 'Chlorophyll']         1.00  ...           1             0\n",
            "3       ['Blaze', 'Solar Power']         0.50  ...           1             0\n",
            "4       ['Blaze', 'Solar Power']         0.50  ...           1             0\n",
            "..                           ...          ...  ...         ...           ...\n",
            "796              ['Beast Boost']         0.25  ...           7             1\n",
            "797              ['Beast Boost']         1.00  ...           7             1\n",
            "798              ['Beast Boost']         2.00  ...           7             1\n",
            "799              ['Prism Armor']         2.00  ...           7             1\n",
            "800               ['Soul-Heart']         0.25  ...           7             1\n",
            "\n",
            "[801 rows x 41 columns]\n"
          ],
          "name": "stdout"
        }
      ]
    },
    {
      "cell_type": "code",
      "metadata": {
        "colab": {
          "base_uri": "https://localhost:8080/"
        },
        "id": "C7etTdqCYfS6",
        "outputId": "c0925a0d-07ce-42b7-ed65-94f47e907f2e"
      },
      "source": [
        "#interpolate\r\n",
        "print(pd_csv.interpolate('linear')) #fill null values"
      ],
      "execution_count": 11,
      "outputs": [
        {
          "output_type": "stream",
          "text": [
            "                       abilities  against_bug  ...  generation  is_legendary\n",
            "0    ['Overgrow', 'Chlorophyll']         1.00  ...           1             0\n",
            "1    ['Overgrow', 'Chlorophyll']         1.00  ...           1             0\n",
            "2    ['Overgrow', 'Chlorophyll']         1.00  ...           1             0\n",
            "3       ['Blaze', 'Solar Power']         0.50  ...           1             0\n",
            "4       ['Blaze', 'Solar Power']         0.50  ...           1             0\n",
            "..                           ...          ...  ...         ...           ...\n",
            "796              ['Beast Boost']         0.25  ...           7             1\n",
            "797              ['Beast Boost']         1.00  ...           7             1\n",
            "798              ['Beast Boost']         2.00  ...           7             1\n",
            "799              ['Prism Armor']         2.00  ...           7             1\n",
            "800               ['Soul-Heart']         0.25  ...           7             1\n",
            "\n",
            "[801 rows x 41 columns]\n"
          ],
          "name": "stdout"
        }
      ]
    }
  ]
}