{
  "nbformat": 4,
  "nbformat_minor": 0,
  "metadata": {
    "colab": {
      "name": "OOP in Python",
      "provenance": [],
      "authorship_tag": "ABX9TyN0Kj3AlAv0elQBNqVBP/GC",
      "include_colab_link": true
    },
    "kernelspec": {
      "name": "python3",
      "display_name": "Python 3"
    }
  },
  "cells": [
    {
      "cell_type": "markdown",
      "metadata": {
        "id": "view-in-github",
        "colab_type": "text"
      },
      "source": [
        "<a href=\"https://colab.research.google.com/github/Siddhesh-3/Python/blob/main/udemy/OOP_in_Python.ipynb\" target=\"_parent\"><img src=\"https://colab.research.google.com/assets/colab-badge.svg\" alt=\"Open In Colab\"/></a>"
      ]
    },
    {
      "cell_type": "code",
      "metadata": {
        "id": "BeR3UMVJW9Lh"
      },
      "source": [
        "#class\r\n",
        "\r\n",
        "#i.g\r\n",
        "'''\r\n",
        "Classes : blueprint of object .A template.for ex a dog class\r\n",
        "\r\n",
        "Objet : actual entity we interact with .for ex 2years ,black,german dog\r\n",
        "\r\n",
        "Attribute : The object characteristics for ex. length age etc ..\r\n",
        "\r\n",
        "Method : The actions that the object can do.for ex .flying , eating ,running etc"
      ],
      "execution_count": null,
      "outputs": []
    },
    {
      "cell_type": "code",
      "metadata": {
        "id": "X3BXJPaGbgxU"
      },
      "source": [
        "#self\r\n",
        "\r\n",
        "#when you initilaize two or more object in a sameclass,Python need a way to diffrentiate between them !\r\n",
        "#self is the way to do so\r\n",
        "\r\n",
        "#self is a pointer to the memory address where each object of the class is stored"
      ],
      "execution_count": null,
      "outputs": []
    },
    {
      "cell_type": "code",
      "metadata": {
        "id": "pRGAQZnPcJBg"
      },
      "source": [
        "#class keyword\r\n",
        "\r\n",
        "#define class using class keyword\r\n",
        "class CapitalName #first and mid later capital\r\n",
        "\r\n",
        "#INIT\r\n",
        "\r\n",
        "#this method store the initial values for all the instance attribute\r\n",
        "\r\n",
        "#it must be created like this  : __init__()\r\n",
        "\r\n",
        "#the first argument must be self\r\n",
        "\r\n",
        "#The attributes are accessed using the dot"
      ],
      "execution_count": null,
      "outputs": []
    },
    {
      "cell_type": "code",
      "metadata": {
        "id": "g_ZrNibCdHwJ"
      },
      "source": [
        "#ex\r\n",
        "\r\n",
        "class Car:\r\n",
        "  def __init__(self,color,year,model):\r\n",
        "    self.color = color\r\n",
        "    self.year = year\r\n",
        "    self.model = model"
      ],
      "execution_count": 6,
      "outputs": []
    },
    {
      "cell_type": "code",
      "metadata": {
        "id": "ywoASc5NeH5a"
      },
      "source": [
        "# Class vs Instance Attributes\r\n",
        "\r\n",
        "#The attributes inside the init method are specific for the instance .Called instance attributes\r\n",
        "\r\n",
        "#Attribute that share betn all instaces are called class attribute and defined outside init method\r\n",
        "\r\n",
        "class Car:\r\n",
        "  def __init__(self,color,year,model): #instance attribute\r\n",
        "    self.color = color\r\n",
        "    self.year = year\r\n",
        "    self.model = model\r\n",
        "  number_of_wheels = 4 #class attribute  "
      ],
      "execution_count": null,
      "outputs": []
    },
    {
      "cell_type": "code",
      "metadata": {
        "id": "_UM_VSE1e4Jk"
      },
      "source": [
        "#Diff bet function and method\r\n",
        "\r\n",
        "#function created outside the class\r\n",
        "#method created inside the class"
      ],
      "execution_count": null,
      "outputs": []
    }
  ]
}