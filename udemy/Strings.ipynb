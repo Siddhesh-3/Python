{
  "nbformat": 4,
  "nbformat_minor": 0,
  "metadata": {
    "colab": {
      "name": "Strings",
      "provenance": [],
      "collapsed_sections": [],
      "authorship_tag": "ABX9TyO3DH+YEZ68vj+U2OMM1zPo",
      "include_colab_link": true
    },
    "kernelspec": {
      "name": "python3",
      "display_name": "Python 3"
    }
  },
  "cells": [
    {
      "cell_type": "markdown",
      "metadata": {
        "id": "view-in-github",
        "colab_type": "text"
      },
      "source": [
        "<a href=\"https://colab.research.google.com/github/Siddhesh-3/Python/blob/main/udemy/Strings.ipynb\" target=\"_parent\"><img src=\"https://colab.research.google.com/assets/colab-badge.svg\" alt=\"Open In Colab\"/></a>"
      ]
    },
    {
      "cell_type": "code",
      "metadata": {
        "colab": {
          "base_uri": "https://localhost:8080/"
        },
        "id": "fBskg2ihUJUm",
        "outputId": "7e8114ae-579d-4702-97f2-fb5bb65d98ab"
      },
      "source": [
        "#Strings\r\n",
        "\r\n",
        "#loop with string \r\n",
        "\r\n",
        "fruit = 'banana'\r\n",
        "\r\n",
        "index = 0\r\n",
        "\r\n",
        "while index < len(fruit):\r\n",
        "    letter = fruit[index]\r\n",
        "    print(index,letter)\r\n",
        "    index += 1"
      ],
      "execution_count": null,
      "outputs": [
        {
          "output_type": "stream",
          "text": [
            "0 b\n",
            "1 a\n",
            "2 n\n",
            "3 a\n",
            "4 n\n",
            "5 a\n"
          ],
          "name": "stdout"
        }
      ]
    },
    {
      "cell_type": "code",
      "metadata": {
        "colab": {
          "base_uri": "https://localhost:8080/"
        },
        "id": "-GBuYvfXUt5N",
        "outputId": "cb5455a5-55f4-4cfc-d410-b7861a70111b"
      },
      "source": [
        "#for loop for  iteration varible\r\n",
        "for letter in fruit:\r\n",
        "    print(letter)"
      ],
      "execution_count": null,
      "outputs": [
        {
          "output_type": "stream",
          "text": [
            "b\n",
            "a\n",
            "n\n",
            "a\n",
            "n\n",
            "a\n"
          ],
          "name": "stdout"
        }
      ]
    },
    {
      "cell_type": "code",
      "metadata": {
        "colab": {
          "base_uri": "https://localhost:8080/"
        },
        "id": "fdoKOsmCVWVs",
        "outputId": "0de246ae-22f5-4851-b19d-c84f57624f36"
      },
      "source": [
        "word = 'banana' \r\n",
        "count = 0\r\n",
        "for letter in word :\r\n",
        "  if letter == 'a' :\r\n",
        "    count = count + 1\r\n",
        "    print(count)"
      ],
      "execution_count": null,
      "outputs": [
        {
          "output_type": "stream",
          "text": [
            "1\n",
            "2\n",
            "3\n"
          ],
          "name": "stdout"
        }
      ]
    },
    {
      "cell_type": "code",
      "metadata": {
        "colab": {
          "base_uri": "https://localhost:8080/"
        },
        "id": "1VXk2fIWWPjC",
        "outputId": "f0b3b2bf-c949-437e-b1ca-042bed20f81b"
      },
      "source": [
        "#String Slicing\r\n",
        "\r\n",
        "s = 'Hello World'\r\n",
        "print(s[0:4]) #look its printing only three word\r\n",
        "print(s[6:7]) \r\n",
        "print(s[6:20]) #Give no traceback end at 11\r\n",
        "\r\n",
        "print(s[:2]) #print letters before index 2\r\n",
        "print(s[8:]) #print letter after index 8\r\n",
        "print(s[:]) #print all\r\n"
      ],
      "execution_count": null,
      "outputs": [
        {
          "output_type": "stream",
          "text": [
            "Hell\n",
            "W\n",
            "World\n",
            "He\n",
            "rld\n",
            "Hello World\n"
          ],
          "name": "stdout"
        }
      ]
    },
    {
      "cell_type": "code",
      "metadata": {
        "id": "qKSzL7-AX8e5",
        "colab": {
          "base_uri": "https://localhost:8080/"
        },
        "outputId": "4e8053be-ea3b-4ae1-c4ee-c27a7da9a438"
      },
      "source": [
        "#String Manipulation\r\n",
        "\r\n",
        "fruit = 'banana'\r\n",
        "\r\n",
        "'m' in fruit  #check if m is in banana \r\n",
        "\r\n",
        "'nan' in fruit\r\n",
        "\r\n",
        "if 'a' in fruit :\r\n",
        "  print('Found it !')\r\n",
        "  \r\n"
      ],
      "execution_count": null,
      "outputs": [
        {
          "output_type": "stream",
          "text": [
            "Found it !\n"
          ],
          "name": "stdout"
        }
      ]
    },
    {
      "cell_type": "code",
      "metadata": {
        "colab": {
          "base_uri": "https://localhost:8080/"
        },
        "id": "WxUYL4vyW8tb",
        "outputId": "7cff8207-f185-4d3e-becd-37a52f222598"
      },
      "source": [
        "#string comparison\r\n",
        "word = 'banana'\r\n",
        "if word == 'banana' :\r\n",
        "  print('All right,bananas') #this if compare string\r\n",
        "\r\n",
        "if word < 'banana' :\r\n",
        "  print('Your word,'+ word +',comes before banana') #this also compare if less than banana\r\n",
        "\r\n",
        "if word > 'banana' :\r\n",
        "  print('Your word,'+ word +',comes after banana')"
      ],
      "execution_count": null,
      "outputs": [
        {
          "output_type": "stream",
          "text": [
            "All right,bananas\n"
          ],
          "name": "stdout"
        }
      ]
    },
    {
      "cell_type": "code",
      "metadata": {
        "colab": {
          "base_uri": "https://localhost:8080/"
        },
        "id": "JKCxslb9b9KI",
        "outputId": "7106365f-2e77-4246-fed6-de236989999d"
      },
      "source": [
        "#String Library\r\n",
        "greet = 'HeLlo Bob'\r\n",
        "zap = greet.lower() #print lower case\r\n",
        "print(zap) \r\n",
        "#or\r\n",
        "print('HELLO'.lower())\r\n"
      ],
      "execution_count": null,
      "outputs": [
        {
          "output_type": "stream",
          "text": [
            "hello bob\n",
            "hello\n"
          ],
          "name": "stdout"
        }
      ]
    },
    {
      "cell_type": "code",
      "metadata": {
        "id": "n_8FzTluctar"
      },
      "source": [
        "stuff = 'Hello WORLD'\r\n",
        "type(stuff)\r\n",
        "dir(stuff) #shows what can you do with this datatype"
      ],
      "execution_count": null,
      "outputs": []
    },
    {
      "cell_type": "code",
      "metadata": {
        "colab": {
          "base_uri": "https://localhost:8080/"
        },
        "id": "kh89DWI0dGaB",
        "outputId": "45ffc053-a014-424a-bdce-072ca0061126"
      },
      "source": [
        "#i.e\r\n",
        "name = \"siddhesh\"\r\n",
        "print(name.capitalize()) #first letter capital\r\n",
        "print(name.upper())"
      ],
      "execution_count": null,
      "outputs": [
        {
          "output_type": "stream",
          "text": [
            "Siddhesh\n",
            "SIDDHESH\n"
          ],
          "name": "stdout"
        }
      ]
    },
    {
      "cell_type": "code",
      "metadata": {
        "colab": {
          "base_uri": "https://localhost:8080/"
        },
        "id": "Hk0O90WZdc_K",
        "outputId": "9613d010-b4b2-40db-e485-1382f37f01e4"
      },
      "source": [
        "#searching string\r\n",
        "\r\n",
        "string = 'hello world'\r\n",
        "pos = string.find('lo')\r\n",
        "print(pos)\r\n",
        "print(string.find('k')) #return -1 did not find"
      ],
      "execution_count": null,
      "outputs": [
        {
          "output_type": "stream",
          "text": [
            "3\n",
            "-1\n"
          ],
          "name": "stdout"
        }
      ]
    },
    {
      "cell_type": "code",
      "metadata": {
        "colab": {
          "base_uri": "https://localhost:8080/"
        },
        "id": "ybi0fCN_eOVz",
        "outputId": "536e7668-1cfa-4169-f0ea-bdbed4a3ddb7"
      },
      "source": [
        "#Search and Replace\r\n",
        "name = 'Hello Sid'\r\n",
        "var = name.replace('Sid','Jay')\r\n",
        "print(var) \r\n",
        "\r\n",
        "var1 = name.replace('o','X')\r\n",
        "print(var1)"
      ],
      "execution_count": null,
      "outputs": [
        {
          "output_type": "stream",
          "text": [
            "Hello Jay\n",
            "HellX Sid\n"
          ],
          "name": "stdout"
        }
      ]
    },
    {
      "cell_type": "code",
      "metadata": {
        "colab": {
          "base_uri": "https://localhost:8080/",
          "height": 35
        },
        "id": "Jh4RB2epfP7a",
        "outputId": "1a49d2ca-5eb3-49d4-e400-51527a03d946"
      },
      "source": [
        "#Stripping Whitespace\r\n",
        "\r\n",
        "name = \"   siddhesh  sid\"\r\n",
        "name.lstrip() #left strip\r\n",
        "name.rstrip() #right\r\n",
        "name.strip()\r\n"
      ],
      "execution_count": null,
      "outputs": [
        {
          "output_type": "execute_result",
          "data": {
            "application/vnd.google.colaboratory.intrinsic+json": {
              "type": "string"
            },
            "text/plain": [
              "'siddhesh  sid'"
            ]
          },
          "metadata": {
            "tags": []
          },
          "execution_count": 41
        }
      ]
    },
    {
      "cell_type": "code",
      "metadata": {
        "colab": {
          "base_uri": "https://localhost:8080/"
        },
        "id": "n69qkl9Tf2fS",
        "outputId": "25087ffe-11bb-42e1-c231-d5e8a7b22531"
      },
      "source": [
        "#Prefixes\r\n",
        "line = 'Please have a nice day'\r\n",
        "line.startswith('Please')"
      ],
      "execution_count": null,
      "outputs": [
        {
          "output_type": "execute_result",
          "data": {
            "text/plain": [
              "True"
            ]
          },
          "metadata": {
            "tags": []
          },
          "execution_count": 43
        }
      ]
    },
    {
      "cell_type": "code",
      "metadata": {
        "colab": {
          "base_uri": "https://localhost:8080/"
        },
        "id": "It9OQp_ngMeK",
        "outputId": "a3cf3f63-f853-427e-fe1f-f6235df26b85"
      },
      "source": [
        "#Parsing and extracting\r\n",
        "data = 'From stephen.marquard@uctt.ac.za Sat Jan 5 09:14:16 2008'\r\n",
        "atposition = data.find('@')\r\n",
        "print(atposition) #tell position\r\n",
        "\r\n",
        "atposition2 = data.find(' ',atposition)\r\n",
        "print(atposition2)\r\n",
        "\r\n",
        "host = data[atposition+1 : atposition2] # +1 for remove @\r\n",
        "print(host)"
      ],
      "execution_count": null,
      "outputs": [
        {
          "output_type": "stream",
          "text": [
            "21\n",
            "32\n",
            "uctt.ac.za\n"
          ],
          "name": "stdout"
        }
      ]
    },
    {
      "cell_type": "code",
      "metadata": {
        "id": "HBKppIa0iUKw",
        "colab": {
          "base_uri": "https://localhost:8080/"
        },
        "outputId": "0d774d06-b047-4b99-a4f0-99c575bdb728"
      },
      "source": [
        "#String Slicing\r\n",
        "\r\n",
        "string =\"sidhesh gaykar\"\r\n",
        "\r\n",
        "print(string)\r\n",
        "print(string[0:6])\r\n",
        "print(string[0:20:3]) #here 3 is used to select every 3rd string in 20\r\n",
        "print(string[-1]) #negative indexing\r\n",
        "print(string[-5:-1])"
      ],
      "execution_count": null,
      "outputs": [
        {
          "output_type": "stream",
          "text": [
            "sidhesh gaykar\n",
            "sidhes\n",
            "shhaa\n",
            "r\n",
            "ayka\n"
          ],
          "name": "stdout"
        }
      ]
    },
    {
      "cell_type": "code",
      "metadata": {
        "colab": {
          "base_uri": "https://localhost:8080/"
        },
        "id": "YOVOhuZX3pI6",
        "outputId": "2f3488b3-952a-4b86-cf77-344ac277e885"
      },
      "source": [
        "#string functions\r\n",
        "string.count(\"a\")\r\n",
        "string.find(\"e\")\r\n"
      ],
      "execution_count": null,
      "outputs": [
        {
          "output_type": "execute_result",
          "data": {
            "text/plain": [
              "2"
            ]
          },
          "metadata": {
            "tags": []
          },
          "execution_count": 14
        }
      ]
    },
    {
      "cell_type": "code",
      "metadata": {
        "colab": {
          "base_uri": "https://localhost:8080/"
        },
        "id": "GUo5eYzY88Cj",
        "outputId": "6eff8820-d39a-4cc5-b8f7-7863385776e2"
      },
      "source": [
        "len(string) #calculate total length of string\r\n",
        "print(string.rfind(\"r\")) #last occurance of string"
      ],
      "execution_count": null,
      "outputs": [
        {
          "output_type": "stream",
          "text": [
            "13\n"
          ],
          "name": "stdout"
        }
      ]
    },
    {
      "cell_type": "code",
      "metadata": {
        "colab": {
          "base_uri": "https://localhost:8080/"
        },
        "id": "5Uv_ZiUvBYYh",
        "outputId": "e1b7b220-6f14-4722-8a6b-c42696640b46"
      },
      "source": [
        "#Boolean\r\n",
        "x = True\r\n",
        "print(x)\r\n",
        "y = False\r\n",
        "print(y)"
      ],
      "execution_count": null,
      "outputs": [
        {
          "output_type": "stream",
          "text": [
            "True\n",
            "False\n"
          ],
          "name": "stdout"
        }
      ]
    },
    {
      "cell_type": "code",
      "metadata": {
        "colab": {
          "base_uri": "https://localhost:8080/"
        },
        "id": "MtMsuSP9CEuu",
        "outputId": "10159e36-504c-46bf-fafe-b4698046623e"
      },
      "source": [
        "#printing\r\n",
        "x = 5\r\n",
        "print(f\"Value is {x}\")"
      ],
      "execution_count": null,
      "outputs": [
        {
          "output_type": "stream",
          "text": [
            "Value is 5\n"
          ],
          "name": "stdout"
        }
      ]
    },
    {
      "cell_type": "code",
      "metadata": {
        "colab": {
          "base_uri": "https://localhost:8080/",
          "height": 35
        },
        "id": "lj6VUvfqDbRF",
        "outputId": "db638a41-6e58-4753-f474-51a6f93b8c7b"
      },
      "source": [
        "str = \"{hello} is teaching programing\"\r\n",
        "str.format(hello =\"siddhesh\")"
      ],
      "execution_count": null,
      "outputs": [
        {
          "output_type": "execute_result",
          "data": {
            "application/vnd.google.colaboratory.intrinsic+json": {
              "type": "string"
            },
            "text/plain": [
              "'siddhesh is teaching programing'"
            ]
          },
          "metadata": {
            "tags": []
          },
          "execution_count": 24
        }
      ]
    }
  ]
}