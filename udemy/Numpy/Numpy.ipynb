{
  "nbformat": 4,
  "nbformat_minor": 0,
  "metadata": {
    "colab": {
      "name": "Numpy",
      "provenance": [],
      "authorship_tag": "ABX9TyNmJWdhm4oxQvU3E3XAStUg",
      "include_colab_link": true
    },
    "kernelspec": {
      "name": "python3",
      "display_name": "Python 3"
    }
  },
  "cells": [
    {
      "cell_type": "markdown",
      "metadata": {
        "id": "view-in-github",
        "colab_type": "text"
      },
      "source": [
        "<a href=\"https://colab.research.google.com/github/Siddhesh-3/Python/blob/main/udemy/Numpy.ipynb\" target=\"_parent\"><img src=\"https://colab.research.google.com/assets/colab-badge.svg\" alt=\"Open In Colab\"/></a>"
      ]
    },
    {
      "cell_type": "code",
      "metadata": {
        "id": "aiPlGm8rIpRF"
      },
      "source": [
        "import numpy as np"
      ],
      "execution_count": null,
      "outputs": []
    },
    {
      "cell_type": "code",
      "metadata": {
        "colab": {
          "base_uri": "https://localhost:8080/"
        },
        "id": "bFDEhjQIItBU",
        "outputId": "acd53266-0990-4f93-e2dd-9f7e947f8577"
      },
      "source": [
        "my_list = [1,2,3,4]\r\n",
        "\r\n",
        "my_arr = np.asarray(my_list)\r\n",
        "print(my_arr)\r\n",
        "print(my_arr.dtype)\r\n",
        "print(my_arr.shape)"
      ],
      "execution_count": null,
      "outputs": [
        {
          "output_type": "stream",
          "text": [
            "[1 2 3 4]\n",
            "int64\n",
            "(4,)\n"
          ],
          "name": "stdout"
        }
      ]
    },
    {
      "cell_type": "code",
      "metadata": {
        "colab": {
          "base_uri": "https://localhost:8080/"
        },
        "id": "yKZGG3y2Iwyu",
        "outputId": "bc08648e-9085-496c-e07e-fffed23d0ed3"
      },
      "source": [
        "np_array = np.ones((3,5), dtype  = int)\r\n",
        "print(np_array)\r\n",
        "\r\n",
        "np_range = np.arange(start = 1 , step = 3 , stop = 20)\r\n",
        "print(np_range)\r\n",
        "\r\n",
        "np_range2 = np.linspace(start = 2  , stop = 20 , num = 5)\r\n",
        "print(np_range2)\r\n",
        "\r\n",
        "np_random = np.random.random((2,5))\r\n",
        "print(np_random)"
      ],
      "execution_count": null,
      "outputs": [
        {
          "output_type": "stream",
          "text": [
            "[[1 1 1 1 1]\n",
            " [1 1 1 1 1]\n",
            " [1 1 1 1 1]]\n",
            "[ 1  4  7 10 13 16 19]\n",
            "[ 2.   6.5 11.  15.5 20. ]\n",
            "[[0.70197346 0.43945857 0.57946877 0.26026153 0.22897712]\n",
            " [0.08190968 0.21973256 0.4564247  0.2952024  0.27831894]]\n"
          ],
          "name": "stdout"
        }
      ]
    },
    {
      "cell_type": "code",
      "metadata": {
        "colab": {
          "base_uri": "https://localhost:8080/"
        },
        "id": "6xVZEruOIyEP",
        "outputId": "b1729435-68ae-41d7-cfa0-86b9a3e772d4"
      },
      "source": [
        "#ex\r\n",
        "import numpy as np\r\n",
        "np_arr = np.arange(3 , 10)\r\n",
        "print(np_arr)\r\n",
        "\r\n"
      ],
      "execution_count": null,
      "outputs": [
        {
          "output_type": "stream",
          "text": [
            "[3 4 5 6 7 8 9]\n"
          ],
          "name": "stdout"
        }
      ]
    },
    {
      "cell_type": "code",
      "metadata": {
        "colab": {
          "base_uri": "https://localhost:8080/"
        },
        "id": "RksQny35I0zI",
        "outputId": "1eae13a7-5f6d-4dc6-fd7c-b00d16124617"
      },
      "source": [
        "#Reshaping\r\n",
        "\r\n",
        "import numpy as np\r\n",
        "\r\n",
        "my_arr = np.arange(20)\r\n",
        "print(\"normal array :\\n\\n\",my_arr)\r\n",
        "my_reshaped_arr = np.reshape(my_arr ,(5,4))\r\n",
        "print(\"Reshaped array : \\n\\n\", my_reshaped_arr)"
      ],
      "execution_count": null,
      "outputs": [
        {
          "output_type": "stream",
          "text": [
            "normal array :\n",
            "\n",
            " [ 0  1  2  3  4  5  6  7  8  9 10 11 12 13 14 15 16 17 18 19]\n",
            "Reshaped array : \n",
            "\n",
            " [[ 0  1  2  3]\n",
            " [ 4  5  6  7]\n",
            " [ 8  9 10 11]\n",
            " [12 13 14 15]\n",
            " [16 17 18 19]]\n"
          ],
          "name": "stdout"
        }
      ]
    },
    {
      "cell_type": "code",
      "metadata": {
        "colab": {
          "base_uri": "https://localhost:8080/"
        },
        "id": "-MFIzcqKKJv5",
        "outputId": "030ac48e-f33b-4d24-afa4-712764dbdc27"
      },
      "source": [
        "import numpy as np\r\n",
        "\r\n",
        "my_arr = np.arange(20)\r\n",
        "print(my_arr)\r\n",
        "my_reshaped_arr = np.reshape(my_arr ,(5,4), order = \"F\")\r\n",
        "print(my_reshaped_arr)\r\n",
        "\r\n"
      ],
      "execution_count": null,
      "outputs": [
        {
          "output_type": "stream",
          "text": [
            "[ 0  1  2  3  4  5  6  7  8  9 10 11 12 13 14 15 16 17 18 19]\n",
            "[[ 0  5 10 15]\n",
            " [ 1  6 11 16]\n",
            " [ 2  7 12 17]\n",
            " [ 3  8 13 18]\n",
            " [ 4  9 14 19]]\n"
          ],
          "name": "stdout"
        }
      ]
    },
    {
      "cell_type": "code",
      "metadata": {
        "colab": {
          "base_uri": "https://localhost:8080/"
        },
        "id": "621bh-srKMSS",
        "outputId": "f6dd15b4-320f-41cb-d382-9997e6722b21"
      },
      "source": [
        "#array into list\r\n",
        "my_list = list(my_arr)\r\n",
        "my_list[1] = 5\r\n",
        "my_arr[1] = 6\r\n",
        "print(my_list[1])\r\n",
        "print(my_arr[1])\r\n",
        "\r\n"
      ],
      "execution_count": null,
      "outputs": [
        {
          "output_type": "stream",
          "text": [
            "5\n",
            "6\n"
          ],
          "name": "stdout"
        }
      ]
    },
    {
      "cell_type": "code",
      "metadata": {
        "colab": {
          "base_uri": "https://localhost:8080/"
        },
        "id": "_zWU9yoYM90o",
        "outputId": "5a1f4572-ab32-4c85-c933-e6f5d71b5e46"
      },
      "source": [
        "my_list_reshaped = list(my_reshaped_arr)\r\n",
        "\r\n",
        "print(my_reshaped_arr[0,1])\r\n",
        "print(my_list_reshaped[0],[1])"
      ],
      "execution_count": null,
      "outputs": [
        {
          "output_type": "stream",
          "text": [
            "5\n",
            "[ 0  5 10 15] [1]\n"
          ],
          "name": "stdout"
        }
      ]
    },
    {
      "cell_type": "code",
      "metadata": {
        "colab": {
          "base_uri": "https://localhost:8080/"
        },
        "id": "mbw1rInMQMUk",
        "outputId": "413605b2-07c4-4fc0-e304-402568b8d5ae"
      },
      "source": [
        "import numpy as np\r\n",
        "np_arr =  np.arange( 2 , 14 )\r\n",
        "\r\n",
        "np_reshaped = np.reshape(np_arr , (3,4) )\r\n",
        "\r\n",
        "np_reshaped[1,0] = 20\r\n",
        "print(np_reshaped)"
      ],
      "execution_count": null,
      "outputs": [
        {
          "output_type": "stream",
          "text": [
            "[[ 2  3  4  5]\n",
            " [20  7  8  9]\n",
            " [10 11 12 13]]\n"
          ],
          "name": "stdout"
        }
      ]
    },
    {
      "cell_type": "code",
      "metadata": {
        "id": "Hion8Pd8QWHX"
      },
      "source": [
        "#Slicing and Coping"
      ],
      "execution_count": null,
      "outputs": []
    },
    {
      "cell_type": "code",
      "metadata": {
        "colab": {
          "base_uri": "https://localhost:8080/"
        },
        "id": "46RDLiSNQaU7",
        "outputId": "cdd5d3ee-21fc-4090-a249-c2fbc4044d41"
      },
      "source": [
        "import numpy as np\r\n",
        "my_list = [[1,2,3],[2,3,8],[1,3,7]]\r\n",
        "np_arr = np.array(my_list)\r\n",
        "\r\n",
        "## [start:end ,start:end]\r\n",
        "\r\n",
        "print(np_arr[1:2,2])"
      ],
      "execution_count": null,
      "outputs": [
        {
          "output_type": "stream",
          "text": [
            "[8]\n"
          ],
          "name": "stdout"
        }
      ]
    },
    {
      "cell_type": "code",
      "metadata": {
        "colab": {
          "base_uri": "https://localhost:8080/"
        },
        "id": "9txOsVrnR1-J",
        "outputId": "b977c7bb-aaaf-435b-b49b-0cef24f9eb5b"
      },
      "source": [
        "#copy array to do not change original one\r\n",
        "import numpy as np\r\n",
        "\r\n",
        "np_arr = np.array([[1,2,3],\r\n",
        "                   [2,3,8],\r\n",
        "                   [1,3,7]])\r\n",
        "np_subarray = np_arr[1:2,0:]\r\n",
        "print(np_subarray,\"\\n\")\r\n",
        "np_subarray[0,1] = 10\r\n",
        "\r\n",
        "print(np_arr ,\"\\n\") #both are modify here \r\n",
        "print(np_subarray)  #both are modify here \r\n"
      ],
      "execution_count": null,
      "outputs": [
        {
          "output_type": "stream",
          "text": [
            "[[2 3 8]] \n",
            "\n",
            "[[ 1  2  3]\n",
            " [ 2 10  8]\n",
            " [ 1  3  7]] \n",
            "\n",
            "[[ 2 10  8]]\n"
          ],
          "name": "stdout"
        }
      ]
    },
    {
      "cell_type": "code",
      "metadata": {
        "colab": {
          "base_uri": "https://localhost:8080/"
        },
        "id": "AYWYN8T_S5L0",
        "outputId": "7f32b66b-223c-4c64-f293-6387fc9af3e4"
      },
      "source": [
        "import numpy as np\r\n",
        "\r\n",
        "np.random.seed(0)\r\n",
        "np_rand = np.random.random((3,3))\r\n",
        "print(np_rand,\"\\n\")\r\n",
        "\r\n",
        "np_copy_arr = np.copy(np_rand[0:3,1]) #0:3 row ,3:column\r\n",
        "print(np_copy_arr,\"\\n\")\r\n",
        "\r\n",
        "np_copy_arr[0] = 1000\r\n",
        "print(np_copy_arr,\"\\n\")\r\n",
        "\r\n",
        "print(np_rand)"
      ],
      "execution_count": null,
      "outputs": [
        {
          "output_type": "stream",
          "text": [
            "[[0.5488135  0.71518937 0.60276338]\n",
            " [0.54488318 0.4236548  0.64589411]\n",
            " [0.43758721 0.891773   0.96366276]] \n",
            "\n",
            "[0.71518937 0.4236548  0.891773  ] \n",
            "\n",
            "[1.00000000e+03 4.23654799e-01 8.91773001e-01] \n",
            "\n",
            "[[0.5488135  0.71518937 0.60276338]\n",
            " [0.54488318 0.4236548  0.64589411]\n",
            " [0.43758721 0.891773   0.96366276]]\n"
          ],
          "name": "stdout"
        }
      ]
    },
    {
      "cell_type": "code",
      "metadata": {
        "colab": {
          "base_uri": "https://localhost:8080/"
        },
        "id": "OQJbvVS2X9-Q",
        "outputId": "c0dd0a8a-3e89-45e1-b323-d98dca00e120"
      },
      "source": [
        "np_arr = np.array( [10 , 21 , 5 , 11 ] )\r\n",
        "np_sub_arr = np_arr[0:2\r\n",
        "np_sub_arr[0:2] = [ 2 , 3 ]\r\n",
        "print(np_arr)"
      ],
      "execution_count": null,
      "outputs": [
        {
          "output_type": "stream",
          "text": [
            "[ 2  3  5 11]\n"
          ],
          "name": "stdout"
        }
      ]
    },
    {
      "cell_type": "code",
      "metadata": {
        "id": "V8U2-RBBklWs"
      },
      "source": [
        "#Insert Append and Delete"
      ],
      "execution_count": null,
      "outputs": []
    },
    {
      "cell_type": "code",
      "metadata": {
        "colab": {
          "base_uri": "https://localhost:8080/"
        },
        "id": "eaMeqZr6kr8D",
        "outputId": "cc59f101-58a0-4b28-ec3f-bb238edd259e"
      },
      "source": [
        "import numpy as np\r\n",
        "\r\n",
        "np_arr = np.array([[1,2],[5,2]])\r\n",
        "np_arr2 = np.insert( np_arr,1,[[5,3],[3,4]], axis = 1) #axis = 1 for row and 0 for colomun\r\n",
        "print(np_arr2)"
      ],
      "execution_count": null,
      "outputs": [
        {
          "output_type": "stream",
          "text": [
            "[[1 5 3 2]\n",
            " [5 3 4 2]]\n"
          ],
          "name": "stdout"
        }
      ]
    },
    {
      "cell_type": "code",
      "metadata": {
        "id": "SGLhB5_KKTTY"
      },
      "source": [
        "#"
      ],
      "execution_count": null,
      "outputs": []
    },
    {
      "cell_type": "markdown",
      "metadata": {
        "id": "AblwZDgNKRFY"
      },
      "source": [
        "Insert,Append ,Delete in Numpy"
      ]
    },
    {
      "cell_type": "code",
      "metadata": {
        "colab": {
          "base_uri": "https://localhost:8080/"
        },
        "id": "pslDrtp1J7wZ",
        "outputId": "b6db8d42-332d-4842-bf87-baec03fe2bce"
      },
      "source": [
        "#Insert\r\n",
        "import numpy as np\r\n",
        "\r\n",
        "np_arr = np.array([[1,2],[6,8]])\r\n",
        "print(np_arr,\"\\n\")\r\n",
        "\r\n",
        "np_arr = np.insert(arr = np_arr , obj = 1 , values = [3,4] , axis = 0)\r\n",
        "#axis = 1 for row and 0 for colomun\r\n",
        "print(np_arr)"
      ],
      "execution_count": 4,
      "outputs": [
        {
          "output_type": "stream",
          "text": [
            "[[1 2]\n",
            " [6 8]] \n",
            "\n",
            "[[1 2]\n",
            " [3 4]\n",
            " [6 8]]\n"
          ],
          "name": "stdout"
        }
      ]
    },
    {
      "cell_type": "code",
      "metadata": {
        "colab": {
          "base_uri": "https://localhost:8080/"
        },
        "id": "Cxjgr_vBKjPp",
        "outputId": "dc557074-7518-4d1a-c75d-6f4ad05f045a"
      },
      "source": [
        "#Append\r\n",
        "#covert array in 1D then append\r\n",
        "np_arr_append = np.append(arr = np_arr ,values = [0,9])\r\n",
        "# here when we insert value in one dimenstion [1,2] value cant insert using axis\r\n",
        "#because original array is one dimentional ,and not add obj position  it directly append at end\r\n",
        "print(np_arr_append)"
      ],
      "execution_count": 7,
      "outputs": [
        {
          "output_type": "stream",
          "text": [
            "[1 2 3 4 6 8 0 9]\n"
          ],
          "name": "stdout"
        }
      ]
    },
    {
      "cell_type": "code",
      "metadata": {
        "colab": {
          "base_uri": "https://localhost:8080/"
        },
        "id": "3U2_bClaOH0F",
        "outputId": "d433de36-88fb-4baa-ffe8-52ac51e7d939"
      },
      "source": [
        "np_arr_append1 = np.append(arr = np_arr ,values = [[0,9],[2,5]], axis = 0)\r\n",
        "#here we pass two dimentional array then it works with axis we give axis = 0 \r\n",
        "#then array append at end of column\r\n",
        "print(np_arr_append1)"
      ],
      "execution_count": 8,
      "outputs": [
        {
          "output_type": "stream",
          "text": [
            "[[1 2]\n",
            " [3 4]\n",
            " [6 8]\n",
            " [0 9]\n",
            " [2 5]]\n"
          ],
          "name": "stdout"
        }
      ]
    },
    {
      "cell_type": "code",
      "metadata": {
        "colab": {
          "base_uri": "https://localhost:8080/"
        },
        "id": "AgTWIdjPOkiQ",
        "outputId": "f9d26a22-7e4d-48c4-c28b-fc58f5357bc7"
      },
      "source": [
        "#Delete\r\n",
        "np_new_array = [[1,5],[8,6]]\r\n",
        "np_arr_delete = np.delete(arr = np_new_array , obj = 1 , axis = 0) \r\n",
        "#when axis is 1 it delete element in index 1 at column\r\n",
        "#when axis is 0 it delete element in index 1 at row\r\n",
        "print(np_arr_delete)"
      ],
      "execution_count": 19,
      "outputs": [
        {
          "output_type": "stream",
          "text": [
            "[[1 5]]\n"
          ],
          "name": "stdout"
        }
      ]
    },
    {
      "cell_type": "code",
      "metadata": {
        "id": "pyoWVI7wXdii",
        "outputId": "af27febb-f9db-464e-83e4-31486d818033",
        "colab": {
          "base_uri": "https://localhost:8080/"
        }
      },
      "source": [
        "import numpy as np\r\n",
        "np_arr = np.array( [[ 20 , 14] , [ 31 , 41] , [ 941 , 678] , [1468 , 121]] )\r\n",
        " \r\n",
        "np_copy1 = np_arr.copy()\r\n",
        "np_copy2 = np_arr.copy()\r\n",
        "np_copy3 = np_arr.copy()\r\n",
        " \r\n",
        "np_copy1 = np.append( np_copy1 , [ 3,4,5 ] )\r\n",
        " \r\n",
        "np_copy2 = np.insert(arr =  np_copy2 ,obj = 1 ,values = [ [15,21] , [41,93 ] ] , axis = 0 )\r\n",
        " \r\n",
        "np_copy3 = np.delete(np_copy3 , obj = 0 , axis = 0)\r\n",
        "\r\n",
        "print(np_copy1,\"\\n\")\r\n",
        "print(np_copy2,\"\\n\")\r\n",
        "print(np_copy3,\"\\n\")\r\n"
      ],
      "execution_count": 28,
      "outputs": [
        {
          "output_type": "stream",
          "text": [
            "[  20   14   31   41  941  678 1468  121    3    4    5] \n",
            "\n",
            "[[  20   14]\n",
            " [  15   21]\n",
            " [  41   93]\n",
            " [  31   41]\n",
            " [ 941  678]\n",
            " [1468  121]] \n",
            "\n",
            "[[  31   41]\n",
            " [ 941  678]\n",
            " [1468  121]] \n",
            "\n"
          ],
          "name": "stdout"
        }
      ]
    },
    {
      "cell_type": "code",
      "metadata": {
        "id": "M5qBFgyMYX_K",
        "outputId": "37a09354-8d3d-47c5-cf3b-837aca226827",
        "colab": {
          "base_uri": "https://localhost:8080/"
        }
      },
      "source": [
        "import numpy as np \r\n",
        "\r\n",
        "np_arr = np.array([[1,5,3],[4,1,6],[2,4,10]])\r\n",
        "\r\n",
        "np_cond = np_arr[np_arr > 3]\r\n",
        "\r\n",
        "print(np_cond)\r\n",
        "\r\n",
        "print(np_arr > 3)"
      ],
      "execution_count": 30,
      "outputs": [
        {
          "output_type": "stream",
          "text": [
            "[ 5  4  6  4 10]\n",
            "[[False  True False]\n",
            " [ True False  True]\n",
            " [False  True  True]]\n"
          ],
          "name": "stdout"
        }
      ]
    },
    {
      "cell_type": "code",
      "metadata": {
        "id": "r8hWDThFa0eU"
      },
      "source": [
        "#BroadCasting\r\n",
        "\r\n",
        "#much faster than for loops\r\n",
        "#doesn't create new copy in memory\r\n",
        "\r\n",
        "#One of dimenstion 1\r\n",
        "\r\n",
        "#works with a * b where row and column is equal"
      ],
      "execution_count": null,
      "outputs": []
    },
    {
      "cell_type": "code",
      "metadata": {
        "id": "5ivpPIV2b06U",
        "outputId": "70274dda-b44c-420d-da30-4d182c1be2fa",
        "colab": {
          "base_uri": "https://localhost:8080/"
        }
      },
      "source": [
        "import numpy as np \r\n",
        "\r\n",
        "np_arr = np.array([[2,3],[4,6]])\r\n",
        "\r\n",
        "np_arr_broad = np_arr * 5\r\n",
        "\r\n",
        "print(np_arr_broad)"
      ],
      "execution_count": 33,
      "outputs": [
        {
          "output_type": "stream",
          "text": [
            "[[10 15]\n",
            " [20 30]]\n"
          ],
          "name": "stdout"
        }
      ]
    },
    {
      "cell_type": "code",
      "metadata": {
        "id": "zsLHa4kfceTE",
        "outputId": "c7f36ba4-77ae-44d1-8e09-cc562e27685f",
        "colab": {
          "base_uri": "https://localhost:8080/"
        }
      },
      "source": [
        "np_new_broad = np_arr * np_arr_broad\r\n",
        "print(np_new_broad)"
      ],
      "execution_count": 35,
      "outputs": [
        {
          "output_type": "stream",
          "text": [
            "[[ 20  45]\n",
            " [ 80 180]]\n"
          ],
          "name": "stdout"
        }
      ]
    }
  ]
}