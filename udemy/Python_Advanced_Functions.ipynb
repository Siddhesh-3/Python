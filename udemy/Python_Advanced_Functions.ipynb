{
  "nbformat": 4,
  "nbformat_minor": 0,
  "metadata": {
    "colab": {
      "name": "Python Advanced Functions",
      "provenance": [],
      "collapsed_sections": [],
      "authorship_tag": "ABX9TyNfE0mS2qkbRZjBBr10eVvV",
      "include_colab_link": true
    },
    "kernelspec": {
      "name": "python3",
      "display_name": "Python 3"
    }
  },
  "cells": [
    {
      "cell_type": "markdown",
      "metadata": {
        "id": "view-in-github",
        "colab_type": "text"
      },
      "source": [
        "<a href=\"https://colab.research.google.com/github/Siddhesh-3/Python/blob/main/udemy/Python_Advanced_Functions.ipynb\" target=\"_parent\"><img src=\"https://colab.research.google.com/assets/colab-badge.svg\" alt=\"Open In Colab\"/></a>"
      ]
    },
    {
      "cell_type": "code",
      "metadata": {
        "id": "_f1AsakMWVJE"
      },
      "source": [
        "# Lambda function\r\n",
        "# function *args and **kwargs\r\n",
        "#iterators\r\n",
        "#Generators and yield keyword\r\n",
        "#map functions\r\n",
        "#Filter Functions"
      ],
      "execution_count": null,
      "outputs": []
    },
    {
      "cell_type": "code",
      "metadata": {
        "colab": {
          "base_uri": "https://localhost:8080/"
        },
        "id": "UMxsI8xvXX4Y",
        "outputId": "973d0011-929a-4b25-8f33-5ca000deb7f2"
      },
      "source": [
        "# Lambda function\r\n",
        "#function define using lamda keyword\r\n",
        "#oneline function\r\n",
        "\r\n",
        "div = lambda x,y:x/y #oneline div not varible here\r\n",
        "print(div(3,2))"
      ],
      "execution_count": null,
      "outputs": [
        {
          "output_type": "stream",
          "text": [
            "1.5\n"
          ],
          "name": "stdout"
        }
      ]
    },
    {
      "cell_type": "code",
      "metadata": {
        "colab": {
          "base_uri": "https://localhost:8080/"
        },
        "id": "RwGCIcExYQpG",
        "outputId": "86fe9efd-8b6b-476f-f673-d556752ed520"
      },
      "source": [
        "mul = lambda a,b : a+b\r\n",
        "print(mul(1,2))"
      ],
      "execution_count": null,
      "outputs": [
        {
          "output_type": "stream",
          "text": [
            "3\n"
          ],
          "name": "stdout"
        }
      ]
    },
    {
      "cell_type": "code",
      "metadata": {
        "id": "z7n9mdipkuCC"
      },
      "source": [
        "#args(asterisk) eg. *x\r\n",
        "#unpaking operator"
      ],
      "execution_count": null,
      "outputs": []
    },
    {
      "cell_type": "code",
      "metadata": {
        "colab": {
          "base_uri": "https://localhost:8080/"
        },
        "id": "E96AIBNGk5gQ",
        "outputId": "5ba371ed-d774-4eea-9ace-c1224422b74c"
      },
      "source": [
        "def multiply(*args):\r\n",
        "  result = 1\r\n",
        "  for element in args:\r\n",
        "    result = result * element\r\n",
        "  return result\r\n",
        "print(multiply(2,2,3))    "
      ],
      "execution_count": null,
      "outputs": [
        {
          "output_type": "stream",
          "text": [
            "12\n"
          ],
          "name": "stdout"
        }
      ]
    },
    {
      "cell_type": "code",
      "metadata": {
        "colab": {
          "base_uri": "https://localhost:8080/"
        },
        "id": "5EVfdHHClcGb",
        "outputId": "b7bcdaa3-db58-49b6-95d5-5126e32a9667"
      },
      "source": [
        "def multiply(*x):\r\n",
        "  result = 1\r\n",
        "  for element in x:\r\n",
        "    result = result * element\r\n",
        "  return result\r\n",
        "print(multiply(2,2,3))    "
      ],
      "execution_count": null,
      "outputs": [
        {
          "output_type": "stream",
          "text": [
            "12\n"
          ],
          "name": "stdout"
        }
      ]
    },
    {
      "cell_type": "code",
      "metadata": {
        "id": "xeQHib9llfV1"
      },
      "source": [
        "#kwargs eg. **x\r\n",
        "#define using double asterisk\r\n"
      ],
      "execution_count": null,
      "outputs": []
    },
    {
      "cell_type": "code",
      "metadata": {
        "colab": {
          "base_uri": "https://localhost:8080/"
        },
        "id": "JaxQVY3Wlxfa",
        "outputId": "131b9669-4e14-4fb9-8dfc-3ba03364e124"
      },
      "source": [
        "def display(**kwargs):\r\n",
        "  for k,e in zip(kwargs.keys(),kwargs.values()):\r\n",
        "    print(k,e)\r\n",
        "display(x = \"sid\",y = \"gaykar\",z = \"16\")    "
      ],
      "execution_count": null,
      "outputs": [
        {
          "output_type": "stream",
          "text": [
            "x sid\n",
            "y gaykar\n",
            "z 16\n"
          ],
          "name": "stdout"
        }
      ]
    },
    {
      "cell_type": "code",
      "metadata": {
        "id": "t9oFxB2Vmdne"
      },
      "source": [
        "#input ordering\r\n",
        "''''\r\n",
        "1.standard input \r\n",
        "  a.reqired input\r\n",
        "  b.Optional input\r\n",
        "2. Positional input(*args)\r\n",
        "3. Keyword input(**kwargs)  \r\n",
        "\r\n",
        "eg.\r\n",
        "def fun(x,y,z=3,*args,**kwargs)\r\n",
        "'''"
      ],
      "execution_count": null,
      "outputs": []
    },
    {
      "cell_type": "code",
      "metadata": {
        "id": "wf0tko0WnUme"
      },
      "source": [
        "def print_input(*args):\r\n",
        "  for i in args:\r\n",
        "    print(i)\r\n",
        "    "
      ],
      "execution_count": null,
      "outputs": []
    },
    {
      "cell_type": "code",
      "metadata": {
        "colab": {
          "base_uri": "https://localhost:8080/"
        },
        "id": "JEnb0-IQnemy",
        "outputId": "5d327045-c508-4b46-af1e-881fee35d6fd"
      },
      "source": [
        "print_input(1,2,3)"
      ],
      "execution_count": null,
      "outputs": [
        {
          "output_type": "stream",
          "text": [
            "1\n",
            "2\n",
            "3\n"
          ],
          "name": "stdout"
        }
      ]
    },
    {
      "cell_type": "code",
      "metadata": {
        "id": "gDvbPRlcnnmM"
      },
      "source": [
        "def print_input2(**kwargs):\r\n",
        "  for key , value in zip(kwargs.keys(),kwargs.values()):\r\n",
        "    print(key , value)"
      ],
      "execution_count": null,
      "outputs": []
    },
    {
      "cell_type": "code",
      "metadata": {
        "colab": {
          "base_uri": "https://localhost:8080/"
        },
        "id": "0jYMyCnGoEb-",
        "outputId": "44397a16-29c3-4857-9cfe-92d248fd5287"
      },
      "source": [
        "print_input2(x =\"sid\", y = \"gaykar\")"
      ],
      "execution_count": null,
      "outputs": [
        {
          "output_type": "stream",
          "text": [
            "x sid\n",
            "y gaykar\n"
          ],
          "name": "stdout"
        }
      ]
    },
    {
      "cell_type": "code",
      "metadata": {
        "id": "HPcu_JtRoME4"
      },
      "source": [
        "def print_input3( *z , y , x = 1):\r\n",
        "\r\n",
        "  print(x)\r\n",
        "  print(y)\r\n",
        "  print(z)\r\n"
      ],
      "execution_count": null,
      "outputs": []
    },
    {
      "cell_type": "code",
      "metadata": {
        "colab": {
          "base_uri": "https://localhost:8080/"
        },
        "id": "pwx87yFPozf1",
        "outputId": "b62c4027-b984-4476-bd02-c549878e22fc"
      },
      "source": [
        "print_input3(1,2,3 , y = 5 , x = 0  )"
      ],
      "execution_count": null,
      "outputs": [
        {
          "output_type": "stream",
          "text": [
            "0\n",
            "5\n",
            "(1, 2, 3)\n"
          ],
          "name": "stdout"
        }
      ]
    },
    {
      "cell_type": "code",
      "metadata": {
        "colab": {
          "base_uri": "https://localhost:8080/"
        },
        "id": "qwrBoFN1wWXp",
        "outputId": "c936545e-52d7-4033-ea12-831341ae80d9"
      },
      "source": [
        "## Implement the function after this line\r\n",
        "def multiply_all(*args):\r\n",
        "    result = 1\r\n",
        "    for i in args:\r\n",
        "        result *= i\r\n",
        "    return result\r\n",
        "## Don't modify the next part. This is to test your implementation\r\n",
        "\r\n",
        "test_1 = (1 , 4 , 3 , 10)\r\n",
        "multiply_all(test_1)\r\n",
        "\r\n",
        "test_2 = (3 , 5 , 15 , 2)\r\n",
        "multiply_all(test_2)\r\n",
        "\r\n",
        "test_3 = (2 , 3 , 8, 4)\r\n",
        "multiply_all(test_3)"
      ],
      "execution_count": null,
      "outputs": [
        {
          "output_type": "execute_result",
          "data": {
            "text/plain": [
              "(2, 3, 8, 4)"
            ]
          },
          "metadata": {
            "tags": []
          },
          "execution_count": 26
        }
      ]
    },
    {
      "cell_type": "code",
      "metadata": {
        "colab": {
          "base_uri": "https://localhost:8080/"
        },
        "id": "wpPlrqwnx844",
        "outputId": "724d9c09-e4a5-4515-ea79-6d6f9f5cf599"
      },
      "source": [
        "#Iterators \r\n",
        "#useful big data set \r\n",
        "my_list = [1,2,3,4]\r\n",
        "\r\n",
        "iterator = iter(my_list)\r\n",
        "\r\n",
        "print(next(iterator))\r\n",
        "print(next(iterator))\r\n",
        "\r\n",
        "print(next(iterator))\r\n",
        "\r\n",
        "\r\n"
      ],
      "execution_count": null,
      "outputs": [
        {
          "output_type": "stream",
          "text": [
            "1\n",
            "2\n",
            "3\n"
          ],
          "name": "stdout"
        }
      ]
    },
    {
      "cell_type": "code",
      "metadata": {
        "id": "g6HD6m2548Xm"
      },
      "source": [
        "#Genrators and Yield\r\n",
        "#Advantage of genrators\r\n",
        "'''\r\n",
        "1.deal with out of memory problem\r\n",
        "2.lazy to build iterables\r\n",
        "3.Faster than normal function,no need to read whole iterables\r\n",
        "'''"
      ],
      "execution_count": null,
      "outputs": []
    },
    {
      "cell_type": "code",
      "metadata": {
        "id": "ymvV-0b674ZE"
      },
      "source": [
        "def reverse_fun(data):\r\n",
        "  reverse_list = []\r\n",
        "  for i in range(len(data) -1, -1,-1 ):\r\n",
        "      reverse_list.append(my_list[i])\r\n",
        "  return reverse_list  "
      ],
      "execution_count": null,
      "outputs": []
    },
    {
      "cell_type": "code",
      "metadata": {
        "colab": {
          "base_uri": "https://localhost:8080/"
        },
        "id": "MQYVAGmS8shu",
        "outputId": "f459f383-4abf-4602-d149-2e316649bb6e"
      },
      "source": [
        "my_list = [1,2,3,4]\r\n",
        "reverse_fun(my_list)"
      ],
      "execution_count": null,
      "outputs": [
        {
          "output_type": "execute_result",
          "data": {
            "text/plain": [
              "[4, 3, 2, 1]"
            ]
          },
          "metadata": {
            "tags": []
          },
          "execution_count": 52
        }
      ]
    },
    {
      "cell_type": "code",
      "metadata": {
        "id": "ExegxFpA9Zvq"
      },
      "source": [
        "#yeild\r\n",
        "\r\n",
        "list = [11,2,3,4]\r\n",
        "\r\n",
        "def reverse_generator(data):\r\n",
        "  for i in range(len(data)-1,-1,-1):\r\n",
        "      yield list[i]"
      ],
      "execution_count": null,
      "outputs": []
    },
    {
      "cell_type": "code",
      "metadata": {
        "id": "EWnTRZG299mw"
      },
      "source": [
        "reverse_lit_genreator = reverse_generator(list)"
      ],
      "execution_count": null,
      "outputs": []
    },
    {
      "cell_type": "code",
      "metadata": {
        "colab": {
          "base_uri": "https://localhost:8080/"
        },
        "id": "AvH9jdv7-NDq",
        "outputId": "fdbf002c-82fd-498d-bf7c-ed84448ebdb2"
      },
      "source": [
        "print((reverse_generator))"
      ],
      "execution_count": null,
      "outputs": [
        {
          "output_type": "stream",
          "text": [
            "<function reverse_generator at 0x7fa6165e6ef0>\n"
          ],
          "name": "stdout"
        }
      ]
    },
    {
      "cell_type": "code",
      "metadata": {
        "colab": {
          "base_uri": "https://localhost:8080/",
          "height": 162
        },
        "id": "sJmmoWP__zRI",
        "outputId": "7c86a90c-e088-4f5f-c469-5caf2f9a2968"
      },
      "source": [
        "next(reverse_lit_genreator)"
      ],
      "execution_count": null,
      "outputs": [
        {
          "output_type": "error",
          "ename": "StopIteration",
          "evalue": "ignored",
          "traceback": [
            "\u001b[0;31m---------------------------------------------------------------------------\u001b[0m",
            "\u001b[0;31mStopIteration\u001b[0m                             Traceback (most recent call last)",
            "\u001b[0;32m<ipython-input-96-898f9ebf2d58>\u001b[0m in \u001b[0;36m<module>\u001b[0;34m()\u001b[0m\n\u001b[0;32m----> 1\u001b[0;31m \u001b[0mnext\u001b[0m\u001b[0;34m(\u001b[0m\u001b[0mreverse_lit_genreator\u001b[0m\u001b[0;34m)\u001b[0m\u001b[0;34m\u001b[0m\u001b[0;34m\u001b[0m\u001b[0m\n\u001b[0m",
            "\u001b[0;31mStopIteration\u001b[0m: "
          ]
        }
      ]
    },
    {
      "cell_type": "code",
      "metadata": {
        "id": "GEe8nrnw_3B_"
      },
      "source": [
        "for i in reverse_lit_genreator:\r\n",
        " %time print(i)"
      ],
      "execution_count": null,
      "outputs": []
    },
    {
      "cell_type": "code",
      "metadata": {
        "colab": {
          "base_uri": "https://localhost:8080/"
        },
        "id": "cYBlUI5r7MZF",
        "outputId": "38d6a700-370e-4946-a17a-94129157b18b"
      },
      "source": [
        "#yeild makes the genrators return value one at time\r\n",
        "\r\n",
        "#it replace return keyword\r\n",
        "\r\n",
        "def reverse(data):\r\n",
        "  for i in range(len(data)-1,-1,-1):\r\n",
        "    yield data[index]\r\n",
        "\r\n",
        "data = [1,2,3,4]\r\n",
        "print(reverse(data))\r\n"
      ],
      "execution_count": null,
      "outputs": [
        {
          "output_type": "stream",
          "text": [
            "<generator object reverse at 0x7fa61667e950>\n"
          ],
          "name": "stdout"
        }
      ]
    }
  ]
}